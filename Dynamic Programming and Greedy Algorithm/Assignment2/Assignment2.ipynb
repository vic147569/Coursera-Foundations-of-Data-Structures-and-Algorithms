{
 "cells": [
  {
   "cell_type": "markdown",
   "metadata": {
    "deletable": false,
    "editable": false,
    "nbgrader": {
     "cell_type": "markdown",
     "checksum": "3e7a36052f9179311eb7176388b0a340",
     "grade": false,
     "grade_id": "cell-baa1efcc1ca6d618",
     "locked": true,
     "schema_version": 3,
     "solution": false,
     "task": false
    }
   },
   "source": [
    "## Problem 1 : Longest Stable Subsequence\n",
    "\n",
    "Consider a list of numbers $[a_0, a_1, \\cdots, a_{n-1}]$. Our goal is to find the the longest stable subsequence: $[a_{i_1}, a_{i_2}, \\cdots, a_{i_k} ]$ which is a sub-list of the original list that selects elements at indices $i_1, i_2, \\ldots, i_k$ from the original list such that \n",
    "  1. $i_1 < i_2 < \\cdots < i_k$; \n",
    "  2. $a_{i_{j+1}} - 1 \\leq a_{i_{j}} \\leq a_{i_{j+1}} + 1 $. We can also write this as $|a_{i_{j+1}} - a_{i_j}| \\leq 1$. I.e, each element of the subsequence must be within $\\pm 1$ or equal to the previous element.\n",
    "  3. The length of the subsequence $k$ is maximized.\n",
    "\n",
    "### Example \n",
    "\n",
    "Consider the list `[1, 4, 2, -2, 0, -1, 2, 3]`.  There are many \"stable subsequences\":\n",
    " - `[1, 0, -1]`\n",
    " - `[1, 2, 2, 3]`\n",
    " - `[4, 3]`\n",
    "\n",
    "The longest stable subsequence is `[1, 2, 2, 3]` of length 4. Note that each element of the subsequence is at most $1$ away from the previous element.\n",
    "\n",
    "The goal of this problem is to formulate a dynamic programming solution to find the length of the longest stable subsequence and the subsequence itself."
   ]
  },
  {
   "cell_type": "markdown",
   "metadata": {
    "deletable": false,
    "editable": false,
    "nbgrader": {
     "cell_type": "markdown",
     "checksum": "ff287239877ea9df527694710fad2c17",
     "grade": false,
     "grade_id": "cell-8cc398488f835758",
     "locked": true,
     "schema_version": 3,
     "solution": false,
     "task": false
    }
   },
   "source": [
    "### A: Write a Recurrence With Base Case\n",
    "$$\\newcommand\\lss{\\textsf{LSSLength}}$$\n",
    "Let $n$ be the length of the original array $[a_0, \\ldots, a_{n-1}]$. Define $$\\ lss(\\color{red}{i}, a_j)$$ to be the length of the longest stable subsequence for the subarray from $[a_{\\color{red}{i}}, \\ldots, a_{n-1}]$ (note that $a_{\\color{red}{i}}$ is included) with the additional constraint that the  first element in the subsequence chosen (let us call it $a_{i_1}$) must satisfy $$| a_{i_1} - a_j |  \\leq 1$$.\n",
    "\n",
    "\n",
    "__Notes__\n",
    "  1. $0 \\leq i \\leq n$. $i = n$ denotes the empty subarray.\n",
    "  2. $a_j$ represents a previous choice we have made before encountering the current subproblem. It is made an argument of the recurrence to ensure that the subsequent choice made from $[a_i, \\ldots, a_{n-1}]$ satisfies $|a - a_j| \\leq 1$.\n",
    "  3. We will use the special value $a_j = \\textsf{None}$ to denote that no such element $a_j$ has been chosen.\n",
    "\n",
    "Fill out the missing portion of the recurrence and base cases. We will not grade your answer below. Instead please use it as a guide to complete the code for the recurrence and pass the test cases provided.\n",
    "\n",
    "\n",
    "$\\ lss(i, a_j) = \\begin{cases}\n",
    "?? & i = n & \\text{Base Case when subarray is empty} \\\\\n",
    "\\ lss(i+1, a_j) & i < n\\ \\text{and}\\ a_j \\not= \\text{None}\\ \\text{and}\\ |a_i - a_j| > 1 & \\text{We cannot choose a[i], skip it and move right along}\\\\\n",
    "\\max(??? + 1, ??? ) & i < n\\ \\text{and}\\ \\left( a_j = \\text{None}\\ \\text{or}\\ |a_i - a_j| \\leq 1 \\right) & \\text{Choose maximum of two options: take a[i]  or skip a[i]}\\\\\n",
    "\\end{cases}$\n",
    "\n"
   ]
  },
  {
   "cell_type": "markdown",
   "metadata": {
    "deletable": false,
    "nbgrader": {
     "cell_type": "markdown",
     "checksum": "c9d6b93f4fef246a198a01b0328f92a3",
     "grade": true,
     "grade_id": "cell-8aef09ea5f8a7aa8",
     "locked": false,
     "points": 0,
     "schema_version": 3,
     "solution": true,
     "task": false
    }
   },
   "source": [
    "YOUR ANSWER HERE"
   ]
  },
  {
   "cell_type": "code",
   "execution_count": 119,
   "metadata": {
    "deletable": false,
    "nbgrader": {
     "cell_type": "code",
     "checksum": "7e922c6a5334d0753fa5837e10ebf14e",
     "grade": false,
     "grade_id": "cell-fccf4bfd6124b1cd",
     "locked": false,
     "schema_version": 3,
     "solution": true,
     "task": false
    }
   },
   "outputs": [],
   "source": [
    "# Program the recurrence for longest stable subsequence\n",
    "# 0 <= i <= len(a)\n",
    "# Note that if j == -1, then take aj = None\n",
    "# else aj = a[j]\n",
    "def lssLength(a, i, j):\n",
    "    aj = a[j] if 0 <= j < len(a) else None \n",
    "    # Implement the recurrence below. Use recursive calls back to lssLength\n",
    "    # your code here\n",
    "    \n",
    "    # Base Case 1\n",
    "    if i == len(a):\n",
    "        return 0\n",
    "    \n",
    "    if (aj != None and abs(a[i] - aj) > 1):\n",
    "        return lssLength(a, i + 1, j)\n",
    "    \n",
    "    return max(lssLength(a, i + 1, i) + 1, lssLength(a, i + 1, j))\n",
    "    \n",
    "    "
   ]
  },
  {
   "cell_type": "code",
   "execution_count": null,
   "metadata": {
    "deletable": false,
    "editable": false,
    "nbgrader": {
     "cell_type": "code",
     "checksum": "281d8c3e85e2ef04fb717a993831b3aa",
     "grade": true,
     "grade_id": "cell-46a8002c4c41cc33",
     "locked": true,
     "points": 8,
     "schema_version": 3,
     "solution": false,
     "task": false
    }
   },
   "outputs": [],
   "source": [
    "print('--Test1--')\n",
    "n1 = lssLength([1, 4, 2, -2, 0, -1, 2, 3],0, -1)\n",
    "print(n1)\n",
    "assert n1== 4, f'Test 1 failed: expected answer 4, your code: {n1}'\n",
    "print('passed')\n",
    "\n",
    "print('--Test2--')\n",
    "n2 = lssLength([1, 2, 3, 4, 0, 1, -1, -2, -3, -4, 5, -5, -6], 0, -1)\n",
    "print(n2)\n",
    "assert n2 == 8, f'Test 2 failed: expected answer 8, your code: {n2}'\n",
    "\n",
    "print('--Test3--')\n",
    "n3 = lssLength([0,2, 4, 6, 8, 10, 12],0, -1)\n",
    "print(n3)\n",
    "assert n3 == 1, f'Test 3 failed: expected answer 1, your code: {n3}'\n",
    "\n",
    "\n",
    "print('--Test 4--')\n",
    "n4 = lssLength([4,8, 7, 5, 3, 2, 5, 6, 7, 1, 3, -1, 0, -2, -3, 0, 1, 2, 1, 3, 1, 0, -1, 2, 4, 5, 0, 2, -3, -9, -4, -2, -3, -1], 0, -1)\n",
    "print(n4)\n",
    "assert n4 == 14, f'Test 4 failed: expected answer 14, your code: {n4}'\n",
    "\n",
    "print('All Tests Passed (8 points)')"
   ]
  },
  {
   "cell_type": "markdown",
   "metadata": {
    "deletable": false,
    "editable": false,
    "nbgrader": {
     "cell_type": "markdown",
     "checksum": "074966d3e09313b62fd0f84dde882c4a",
     "grade": false,
     "grade_id": "cell-f0891651a1dcd5a2",
     "locked": true,
     "schema_version": 3,
     "solution": false,
     "task": false
    }
   },
   "source": [
    "## Part 2: Memoize the Recurrence \n",
    "\n",
    "Construct a memo table as a dictionary that maps from `(i,j)` where `0 <= i <= n` and `-1 <= j < i` to the value $\\ lss(a, i, a_j)$ where $a_j = a[j]$ if $j \\geq 0$ else $a_j = \\text{None}$.\n",
    "\n",
    "Your code should run in worst case time $\\Theta(n^2)$."
   ]
  },
  {
   "cell_type": "code",
   "execution_count": 321,
   "metadata": {
    "deletable": false,
    "nbgrader": {
     "cell_type": "code",
     "checksum": "fbfb25a2a89ba0f522c24e0bc0ea34f5",
     "grade": false,
     "grade_id": "cell-96d3d39aabb560b3",
     "locked": false,
     "schema_version": 3,
     "solution": true,
     "task": false
    }
   },
   "outputs": [],
   "source": [
    "def memoizeLSS(a):\n",
    "    T = {} # Initialize the memo table to empty dictionary\n",
    "    # Now populate the entries for the base case \n",
    "    n = len(a)\n",
    "    for j in range(-1, n):\n",
    "        T[(n, j)] = 0 # i = n and j \n",
    "    # Now fill out the table : figure out the two nested for loops\n",
    "    # It is important to also figure out the order in which you iterate the indices i and j\n",
    "    # Use the recurrence structure itself as a guide: see for instance that T[(i,j)] will depend on T[(i+1, j)]\n",
    "    # your code here\n",
    "    \n",
    "    for i in range(n-1, -1, -1):\n",
    "        \n",
    "        for j in range(n-1, -2, -1):\n",
    "        \n",
    "            if abs(a[j] - a[i]) > 1 and j != -1:\n",
    "                T[(i, j)] = T[(i + 1, j)] \n",
    "                \n",
    "            else:\n",
    "                T[(i, j)] = max(T[(i + 1, i)] + 1, T[(i + 1, j)])\n",
    "    \n",
    "\n",
    "    \n",
    "    return T"
   ]
  },
  {
   "cell_type": "code",
   "execution_count": null,
   "metadata": {
    "deletable": false,
    "editable": false,
    "nbgrader": {
     "cell_type": "code",
     "checksum": "14bb799a3895b576edb029b927a59dcf",
     "grade": true,
     "grade_id": "cell-173fb571d3611cba",
     "locked": true,
     "points": 7,
     "schema_version": 3,
     "solution": false,
     "task": false
    }
   },
   "outputs": [],
   "source": [
    "def lssLength(a, i, j):\n",
    "    assert False, 'Redefining lssLength: You should not be calling this function from your memoization code'\n",
    "\n",
    "def checkMemoTableHasEntries(a, T):\n",
    "    for i in range(len(a)+1):\n",
    "        for j in range(i):\n",
    "            assert (i, j) in T, f'entry for {(i,j)} not in memo table'\n",
    "            \n",
    "def checkMemoTableBaseCase(a, T):\n",
    "    n = len(a)\n",
    "    for j in range(-1, n):\n",
    "        assert T[(n, j)] == 0, f'entry for {(n,j)} is not zero as expected'\n",
    "        \n",
    "print('-- Test 1 -- ')\n",
    "a1 = [1, 4, 2, -2, 0, -1, 2, 3]\n",
    "print(a1)\n",
    "T1 = memoizeLSS(a1)\n",
    "checkMemoTableHasEntries(a1, T1)\n",
    "checkMemoTableBaseCase(a1, T1)\n",
    "assert T1[(0, -1)] == 4, f'Test 1: Expected answer is 4. your code returns {T1[(0, -1)]}'\n",
    "print('Passed')\n",
    "\n",
    "\n",
    "print('--Test2--')\n",
    "a2 = [1, 2, 3, 4, 0, 1, -1, -2, -3, -4, 5, -5, -6]\n",
    "print(a2)\n",
    "T2 = memoizeLSS(a2)\n",
    "checkMemoTableHasEntries(a2, T2)\n",
    "checkMemoTableBaseCase(a2, T2)\n",
    "assert T2[(0, -1)] == 8, f'Test 2: Expected answer is 8. Your code returns {T2[(0, -1)]}'\n",
    "\n",
    "print('--Test3--')\n",
    "a3 = [0,2, 4, 6, 8, 10, 12]\n",
    "print(a3)\n",
    "T3 = memoizeLSS(a3)\n",
    "checkMemoTableHasEntries(a3, T3)\n",
    "checkMemoTableBaseCase(a3, T3)\n",
    "assert T3[(0, -1)] == 1, f'Test 3: Expected answer is  1. Your code returns {T3[(0, -1)]}'\n",
    "\n",
    "\n",
    "print('--Test4--')\n",
    "a4 = [4,8, 7, 5, 3, 2, 5, 6, 7, 1, 3, -1, 0, -2, -3, 0, 1, 2, 1, 3, 1, 0, -1, 2, 4, 5, 0, 2, -3, -9, -4, -2, -3, -1]\n",
    "print(a4)\n",
    "T4 = memoizeLSS(a4)\n",
    "checkMemoTableHasEntries(a4, T4)\n",
    "checkMemoTableBaseCase(a4, T4)\n",
    "assert T4[(0, -1)] == 14, f'Text 4: Expected answer is 14. Your code returns {T4[(0,-1)]}'\n",
    "\n",
    "print('All tests passed (7 points)')"
   ]
  },
  {
   "cell_type": "markdown",
   "metadata": {
    "deletable": false,
    "editable": false,
    "nbgrader": {
     "cell_type": "markdown",
     "checksum": "91ae887455b1019790f28e4c7a416b05",
     "grade": false,
     "grade_id": "cell-265fe38a89a50dd0",
     "locked": true,
     "schema_version": 3,
     "solution": false,
     "task": false
    }
   },
   "source": [
    "## Part 3: Modify Memoized Code to Recover Solution\n",
    "\n",
    "Write a function `computeLSS(a)` that modifies the memo table to allow you to recover the longest stable subsequence as well as its length. `computeLSS` should return  the longest stable subsequence of the input `a` as a list.\n"
   ]
  },
  {
   "cell_type": "code",
   "execution_count": 167,
   "metadata": {
    "deletable": false,
    "nbgrader": {
     "cell_type": "code",
     "checksum": "466067fb37a67d0958899e7281a09aa7",
     "grade": false,
     "grade_id": "cell-0c1d69eff40121b5",
     "locked": false,
     "schema_version": 3,
     "solution": true,
     "task": false
    }
   },
   "outputs": [],
   "source": [
    "def computeLSS(a):\n",
    "    # your code here\n",
    "    T = {}\n",
    "    path_info = {}\n",
    "\n",
    "    n = len(a)\n",
    "    for j in range(-1, n):\n",
    "        T[(n, j)] = 0 # i = n and j \n",
    "    \n",
    "    for i in range(n-1, -1, -1):\n",
    "        \n",
    "        for j in range(n-1, -2, -1):\n",
    "        \n",
    "            if abs(a[j] - a[i]) > 1 and j != -1:\n",
    "                T[(i, j)] = T[(i + 1, j)] \n",
    "                path_info[(i, j)] = False\n",
    "                \n",
    "            else:\n",
    "                T[(i, j)] = max(T[(i + 1, i)] + 1, T[(i + 1, j)])\n",
    "                if T[(i + 1, i)] + 1 > T[(i + 1, j)]:\n",
    "                    path_info[(i, j)] = True\n",
    "                else:\n",
    "                    path_info[(i, j)] = False\n",
    "    \n",
    "    res = []\n",
    "    for i in range(n):\n",
    "        while j < n:\n",
    "            if path_info[(i, j)] == True:\n",
    "                res.append(a[i])\n",
    "                j = i\n",
    "                break\n",
    "            else:\n",
    "                break\n",
    "\n",
    "    return res\n",
    "    "
   ]
  },
  {
   "cell_type": "code",
   "execution_count": null,
   "metadata": {
    "deletable": false,
    "editable": false,
    "nbgrader": {
     "cell_type": "code",
     "checksum": "4d4bdf283e1e9bf8c7b674135e5cfb8f",
     "grade": true,
     "grade_id": "cell-8e5b9536d543fb37",
     "locked": true,
     "points": 10,
     "schema_version": 3,
     "solution": false,
     "task": false
    }
   },
   "outputs": [],
   "source": [
    "## BEGIN TESTS \n",
    "def checkSubsequence(a, b):\n",
    "    i = 0\n",
    "    j = 0\n",
    "    n = len(a)\n",
    "    m = len(b)\n",
    "    for j in range(m-1):\n",
    "        assert abs(b[j] - b[j+1]) <= 1\n",
    "    while (i < n and j < m):\n",
    "        if a[i] == b[j]: \n",
    "            j = j + 1\n",
    "        i = i + 1\n",
    "    if j < m:\n",
    "        return False\n",
    "    return True \n",
    "\n",
    "print('--Test 1 --')\n",
    "a1 = [1, 4, 2, -2, 0, -1, 2, 3]\n",
    "print(a1)\n",
    "sub1 = computeLSS(a1)\n",
    "print(f'sub1 = {sub1}')\n",
    "assert len(sub1) == 4, f'Subsequence does not have length 4'\n",
    "assert checkSubsequence(a1, sub1), f'Your solution is not a subsequence of the original sequence'\n",
    "\n",
    "print('--Test2--')\n",
    "a2 = [1, 2, 3, 4, 0, 1, -1, -2, -3, -4, 5, -5, -6]\n",
    "print(a2)\n",
    "sub2 = computeLSS(a2)\n",
    "print(f'sub2 = {sub2}')\n",
    "assert len(sub2) == 8\n",
    "assert checkSubsequence(a2, sub2)\n",
    "\n",
    "print('--Test3--')\n",
    "a3 = [0,2, 4, 6, 8, 10, 12]\n",
    "print(a3)\n",
    "sub3 = computeLSS(a3)\n",
    "print(f'sub3 = {sub3}')\n",
    "assert len(sub3) == 1\n",
    "assert checkSubsequence(a3, sub3)\n",
    "\n",
    "\n",
    "\n",
    "print('--Test4--')\n",
    "a4 = [4,8, 7, 5, 3, 2, 5, 6, 7, 1, 3, -1, 0, -2, -3, 0, 1, 2, 1, 3, 1, 0, -1, 2, 4, 5, 0, 2, -3, -9, -4, -2, -3, -1]\n",
    "print(a4)\n",
    "sub4 = computeLSS(a4)\n",
    "print(f'sub4 = {sub4}')\n",
    "assert len(sub4) == 14\n",
    "assert checkSubsequence(a4, sub4)\n",
    "\n",
    "print('All test passed (10 points)')\n",
    "## END TESTS"
   ]
  },
  {
   "cell_type": "markdown",
   "metadata": {
    "deletable": false,
    "editable": false,
    "nbgrader": {
     "cell_type": "markdown",
     "checksum": "af35923fad2a0d604e92c7a625040ef7",
     "grade": false,
     "grade_id": "cell-0273e0a415634d03",
     "locked": true,
     "schema_version": 3,
     "solution": false,
     "task": false
    }
   },
   "source": [
    "## Problem 2"
   ]
  },
  {
   "cell_type": "markdown",
   "metadata": {
    "deletable": false,
    "editable": false,
    "nbgrader": {
     "cell_type": "markdown",
     "checksum": "a0f69414c24d34c31d29801236ec1f0d",
     "grade": false,
     "grade_id": "cell-3280fda8da210996",
     "locked": true,
     "schema_version": 3,
     "solution": false,
     "task": false
    }
   },
   "source": [
    "We are given a set of _natural numbers_ $S:\\ \\{ n_1, \\ldots, n_k \\}$ and a target _natural number_ $N$.\n",
    "\n",
    "\n",
    "Our goal is to choose a subset of numbers $T:\\ \\{ n_{i_1}, \\ldots, n_{i_j} \\} \\subseteq S$ such that:\n",
    "\n",
    " 1. $\\sum_{l=1}^j n_{i_l}  \\leq N$, the sum of chosen numbers is less than or equal to $N$, \n",
    " 2. The difference $N - \\sum_{l=1}^j n_{i_l} $ is made as small as possible.\n",
    "\n",
    "For example, $S = \\{ 1, 2, 3, 4, 5, 10 \\}$ and $N = 20$ then \n",
    "  - Choosing $T = \\{1, 2, 3, 4, 5\\}$, we have   $1 + 2 + 3 + 4 + 5 = 15 \\leq 20$, achieving a difference of $5$.  \n",
    "  - However, if we chose $T = \\{ 2,3,5,10\\}$  we obtain a sum of $2 + 3 + 5 + 10 = 20$ achieving the smallest possible difference of $0$.\n",
    "  - Choosing $T = \\{ 2, 3, 4, 5, 10\\}$ is disallowed because $2 + 3 + 4+ 5+ 10 = 24 > 20$.\n",
    "\n",
    "\n",
    "Therefore the problem is as follows:\n",
    "\n",
    "  * Inputs: list  $S: [n_1, \\ldots, n_k]$ (assume that no element repeats in $S$), and number $N$.\n",
    "  * Output: a list $T$ of elements from $S$ such that sum of elements of $T$ is  $\\leq N$ and $N - \\sum_{e \\in T} e$ is the smallest possible.\n",
    "\n",
    "The subsequent parts to this problem ask you to derive a dynamic programming solution to this problem.\n",
    "\n",
    "__Note:__ Because $S$ and $T$ are viewed as sets, each element in the set may occur exactly once.\n",
    "\n",
    "### Part (A) Write a recursive function\n",
    "\n",
    "$$\\newcommand\\targetSum{\\textsf{targetSum}}$$\n",
    "Write down a recurrence: $\\targetSum( \\{ S[i], \\ldots, S[k] \\}, \\hat{T} )$ that expresses the best possible solution to the sub problem where \n",
    "  - we choose a subset of $S$ with elements from from $S[i]$  to $S[k]$ inclusive. \n",
    "  - If $i > k$, we take that to be the empty set and \n",
    "  - $\\hat{T}$ is the current target.\n",
    "  \n",
    " Complete the missing portions of the definitions below.\n",
    "\n",
    "$$\\targetSum(\\left\\{ S[i], \\ldots, S[k] \\right\\}, \\hat{T}) = \\begin{cases}\n",
    "  ??? & \\hat{T} < 0 \\\\\n",
    "  ??? & i > k\\ \\text{and}\\ \\hat{T} \\geq 0 \\\\\n",
    "  \\min( ???, ???) & \\text{otherwise}\\\\\n",
    "\\end{cases} $$\n"
   ]
  },
  {
   "cell_type": "markdown",
   "metadata": {
    "deletable": false,
    "nbgrader": {
     "cell_type": "markdown",
     "checksum": "c42f19f08beb6853dde0226dd7e2b3de",
     "grade": true,
     "grade_id": "cell-33856e2d4e11e1f7",
     "locked": false,
     "points": 0,
     "schema_version": 3,
     "solution": true,
     "task": false
    }
   },
   "source": [
    "YOUR ANSWER HERE"
   ]
  },
  {
   "cell_type": "code",
   "execution_count": 25,
   "metadata": {
    "deletable": false,
    "nbgrader": {
     "cell_type": "code",
     "checksum": "392c6bc0fef8dead30105c134eed97b1",
     "grade": false,
     "grade_id": "cell-6597352dee8db777",
     "locked": false,
     "schema_version": 3,
     "solution": true,
     "task": false
    }
   },
   "outputs": [],
   "source": [
    "# Code up the recurrence below\n",
    "\n",
    "def targetSum(S, i,  tgt):\n",
    "    # your code here\n",
    "    n = len(S)    \n",
    "    if tgt < 0:\n",
    "        return float('inf')\n",
    "    \n",
    "    if i > n - 1 and tgt >= 0:\n",
    "        return tgt\n",
    "    \n",
    "    return min(targetSum(S, i + 1,tgt - S[i]), targetSum(S, i + 1, tgt))\n",
    "        \n",
    "    \n"
   ]
  },
  {
   "cell_type": "code",
   "execution_count": 143,
   "metadata": {
    "deletable": false,
    "editable": false,
    "nbgrader": {
     "cell_type": "code",
     "checksum": "3952db0cc7bc1e51a18bbc1863b3c826",
     "grade": true,
     "grade_id": "cell-a3e3a96cb2f9401a",
     "locked": true,
     "points": 10,
     "schema_version": 3,
     "solution": false,
     "task": false
    }
   },
   "outputs": [
    {
     "name": "stdout",
     "output_type": "stream",
     "text": [
      "All tests passed (10 points)!\n"
     ]
    }
   ],
   "source": [
    "def tgtSum(tgt, S):\n",
    "    return targetSum(S, 0, tgt)\n",
    "\n",
    "t1 = tgtSum(15, [1, 2, 3, 4, 5, 10]) # Should be zero\n",
    "assert t1 == 0, 'Test 1 failed'\n",
    "\n",
    "t2 = tgtSum(26, [1, 2, 3, 4, 5, 10]) # should be 1\n",
    "assert t2 == 1, 'Test 2 failed'\n",
    "\n",
    "t3 = (tgtSum(23, [1, 2, 3, 4, 5, 10])) # should be 0\n",
    "assert t3 == 0, 'Test 3 failed'\n",
    "\n",
    "\n",
    "t4 = (tgtSum(18, [1, 2, 3, 4, 5, 10])) # should be 0\n",
    "assert t4 == 0, 'Test 4 failed'\n",
    "\n",
    "t5 = (tgtSum(9, [1, 2, 3, 4, 5, 10])) # should be 0\n",
    "assert t5 == 0, 'Test 5 failed'\n",
    "\n",
    "t6 = (tgtSum(457, [11, 23, 37, 48, 94, 152, 230, 312, 339, 413])) # should be 1\n",
    "assert t6 == 1, 'Test 6 failed'\n",
    "\n",
    "t7 = (tgtSum(512, [11, 23, 37, 48, 94, 152, 230, 312, 339, 413])) # should be 0\n",
    "assert t7 == 0, 'Test 7 failed'\n",
    "\n",
    "t8 = (tgtSum(616, [11, 23, 37, 48, 94, 152, 230, 312, 339, 413])) # should be 1\n",
    "assert t8 == 1, 'Test 8 failed'\n",
    "\n",
    "print('All tests passed (10 points)!')"
   ]
  },
  {
   "cell_type": "markdown",
   "metadata": {
    "deletable": false,
    "editable": false,
    "nbgrader": {
     "cell_type": "markdown",
     "checksum": "5c89d7770e76c893fc0ef6d96d2572c5",
     "grade": false,
     "grade_id": "cell-5f50174e27e8d144",
     "locked": true,
     "schema_version": 3,
     "solution": false,
     "task": false
    }
   },
   "source": [
    "### Part (B) \n",
    "\n",
    "Memoize your recurrence by using a memo table of the form $T[(i, j)]$ wherein $0 \\leq i \\leq len(S)$ and $0 \\leq j \\leq \\textsf{tgt}$. It may be helpful to add a function `lookupMemoTable` inside your code to help you handle lookups where $j < 0$. Assume that the target satisfies `tgt >= 0`. \n"
   ]
  },
  {
   "cell_type": "code",
   "execution_count": 156,
   "metadata": {
    "deletable": false,
    "nbgrader": {
     "cell_type": "code",
     "checksum": "51ff650a2ed3616b1483781ba1593d95",
     "grade": false,
     "grade_id": "cell-acd6c6b6c9e63ee1",
     "locked": false,
     "schema_version": 3,
     "solution": true,
     "task": false
    }
   },
   "outputs": [],
   "source": [
    "def memoTargetSum(S, tgt):\n",
    "    k = len(S)\n",
    "    assert tgt >= 0\n",
    "    ## Fill in base case for T[(i,j)] where i == k\n",
    "    T = {} # Memo table initialized as empty dictionary\n",
    "    for j in range(tgt + 1):\n",
    "        T[(k,j)] = j\n",
    "    # your code here\n",
    "\n",
    "    for i in range(k-1, -1, -1):\n",
    "        # for j in range(tgt, -1, -1):\n",
    "        for j in range(tgt + 1):\n",
    "        \n",
    "            if j - S[i] >= 0:\n",
    "                T[(i, j)] = min(T[(i + 1, j - S[i])], T[(i + 1, j)])\n",
    "            else:\n",
    "                T[(i, j)] = T[(i + 1, j)]\n",
    "                \n",
    "    # print T\n",
    "    for i in range(k + 1):\n",
    "        for j in range(tgt+1):\n",
    "            print(T[(i, j)], end=' ')\n",
    "        print('')\n",
    "    \n",
    "    \n",
    "    return T"
   ]
  },
  {
   "cell_type": "code",
   "execution_count": 157,
   "metadata": {
    "deletable": false,
    "editable": false,
    "nbgrader": {
     "cell_type": "code",
     "checksum": "ed2c3429f1e1e52fd2f3e2c49fcb23c1",
     "grade": true,
     "grade_id": "cell-3113771c1e0dee1b",
     "locked": true,
     "points": 10,
     "schema_version": 3,
     "solution": false,
     "task": false
    }
   },
   "outputs": [
    {
     "name": "stdout",
     "output_type": "stream",
     "text": [
      "--test 1--\n",
      "[1, 2, 3, 4, 5, 10] 15\n",
      "0 0 0 0 0 0 0 0 0 0 0 0 0 0 0 0 \n",
      "0 1 0 0 0 0 0 0 0 0 0 0 0 0 0 0 \n",
      "0 1 2 0 0 0 1 0 0 0 0 1 0 0 0 0 \n",
      "0 1 2 3 0 0 1 2 3 0 0 1 2 3 0 0 \n",
      "0 1 2 3 4 0 1 2 3 4 0 1 2 3 4 0 \n",
      "0 1 2 3 4 5 6 7 8 9 0 1 2 3 4 5 \n",
      "0 1 2 3 4 5 6 7 8 9 10 11 12 13 14 15 \n",
      "--test 2--\n",
      "[1, 2, 3, 4, 5, 10] 26\n",
      "0 0 0 0 0 0 0 0 0 0 0 0 0 0 0 0 0 0 0 0 0 0 0 0 0 0 1 \n",
      "0 1 0 0 0 0 0 0 0 0 0 0 0 0 0 0 0 0 0 0 0 0 0 1 0 1 2 \n",
      "0 1 2 0 0 0 1 0 0 0 0 1 0 0 0 0 1 0 0 0 1 2 0 1 2 3 4 \n",
      "0 1 2 3 0 0 1 2 3 0 0 1 2 3 0 0 1 2 3 0 1 2 3 4 5 6 7 \n",
      "0 1 2 3 4 0 1 2 3 4 0 1 2 3 4 0 1 2 3 4 5 6 7 8 9 10 11 \n",
      "0 1 2 3 4 5 6 7 8 9 0 1 2 3 4 5 6 7 8 9 10 11 12 13 14 15 16 \n",
      "0 1 2 3 4 5 6 7 8 9 10 11 12 13 14 15 16 17 18 19 20 21 22 23 24 25 26 \n",
      "--test3--\n",
      "[11, 23, 37, 48, 94, 152, 230, 312, 339, 413] 457\n",
      "0 1 2 3 4 5 6 7 8 9 10 0 1 2 3 4 5 6 7 8 9 10 11 0 1 2 3 4 5 6 7 8 9 10 0 1 2 0 1 2 3 4 5 6 7 8 9 10 0 1 2 3 4 5 6 7 8 9 10 0 0 1 2 3 4 5 6 7 8 9 10 0 1 2 3 4 5 6 7 8 9 10 0 1 2 0 1 2 3 4 5 6 7 8 0 1 0 1 2 3 4 5 6 7 8 0 1 2 0 1 2 3 4 5 6 7 8 0 1 0 1 2 3 4 5 6 7 8 0 1 2 0 1 2 3 4 5 6 7 8 9 10 0 1 2 3 4 5 6 7 8 9 0 0 0 1 2 3 4 5 6 7 8 0 1 0 1 2 3 4 5 6 7 8 9 0 0 1 2 0 1 2 3 4 5 6 0 1 2 0 0 1 2 3 4 5 6 7 8 9 0 1 0 1 2 3 4 5 6 7 8 0 0 0 1 2 3 4 5 6 7 8 9 0 1 2 3 4 5 6 0 1 2 3 0 1 2 0 1 2 3 0 1 2 3 4 0 1 0 1 2 3 4 0 1 2 3 0 1 2 0 1 2 3 0 1 2 0 1 0 1 0 1 2 3 4 5 6 0 1 0 1 2 0 1 2 3 4 5 0 0 1 2 3 0 1 2 3 4 5 6 0 1 2 3 0 0 1 2 3 4 5 0 1 2 0 1 0 1 2 3 4 5 0 0 1 0 1 0 1 2 0 1 2 3 0 1 2 0 0 1 2 0 1 2 3 0 0 1 0 0 1 2 3 0 1 2 3 0 1 0 0 0 1 2 0 1 2 3 4 5 0 0 0 1 2 0 1 2 3 4 5 0 0 0 1 2 0 1 2 3 4 5 0 0 0 1 0 0 0 1 2 3 4 5 0 0 1 0 0 0 1 2 0 1 2 0 0 1 0 0 0 1 2 0 1 2 3 4 0 0 0 0 0 1 0 0 1 2 3 0 0 0 0 0 1 2 0 1 2 0 1 2 0 0 1 0 1 \n",
      "0 1 2 3 4 5 6 7 8 9 10 11 12 13 14 15 16 17 18 19 20 21 22 0 1 2 3 4 5 6 7 8 9 10 11 12 13 0 1 2 3 4 5 6 7 8 9 10 0 1 2 3 4 5 6 7 8 9 10 11 0 1 2 3 4 5 6 7 8 9 10 0 1 2 3 4 5 6 7 8 9 10 11 12 13 0 1 2 3 4 5 6 7 8 0 1 2 3 4 5 6 7 8 9 10 11 12 13 0 1 2 3 4 5 6 7 8 0 1 2 3 4 5 6 7 8 9 10 11 12 13 0 1 2 3 4 5 6 7 8 9 10 0 1 2 3 4 5 6 7 8 9 0 1 0 1 2 3 4 5 6 7 8 9 10 0 1 2 3 4 5 6 7 8 9 0 1 2 3 0 1 2 3 4 5 6 7 8 9 0 1 2 3 4 5 6 7 8 9 10 0 1 0 1 2 3 4 5 6 7 8 9 0 1 2 3 4 5 6 7 8 9 10 0 1 2 3 4 5 6 0 1 2 3 4 5 6 0 1 2 3 4 5 6 7 8 0 1 2 3 4 5 6 0 1 2 3 4 5 6 0 1 2 3 4 5 6 0 1 0 1 2 3 4 5 6 7 8 0 1 2 3 4 0 1 2 3 4 5 6 0 1 2 3 0 1 2 3 4 5 6 0 1 2 3 4 0 1 2 3 4 5 0 1 2 0 1 0 1 2 3 4 5 6 0 1 2 3 4 5 6 0 1 2 3 0 1 2 0 0 1 2 3 4 5 6 7 0 1 0 1 2 3 4 0 1 2 3 4 5 0 0 0 1 2 3 4 5 6 7 8 9 0 1 2 3 0 1 2 3 4 5 0 0 0 1 2 0 1 2 3 4 5 6 7 0 1 0 1 0 1 2 3 4 5 0 0 1 2 0 0 1 2 0 1 2 3 4 5 0 0 1 2 3 0 1 2 3 4 0 0 1 0 0 1 2 0 1 2 3 4 5 0 0 1 2 3 0 1 2 0 1 2 0 0 1 0 1 \n",
      "0 1 2 3 4 5 6 7 8 9 10 11 12 13 14 15 16 17 18 19 20 21 22 23 24 25 26 27 28 29 30 31 32 33 34 35 36 0 1 2 3 4 5 6 7 8 9 10 0 1 2 3 4 5 6 7 8 9 10 11 12 13 14 15 16 17 18 19 20 21 22 23 24 25 26 27 28 29 30 31 32 33 34 35 36 0 1 2 3 4 5 6 7 8 0 1 2 3 4 5 6 7 8 9 10 11 12 13 14 15 16 17 18 19 20 21 22 23 24 25 26 27 28 29 30 31 32 33 34 35 36 0 1 2 3 4 5 6 7 8 9 10 0 1 2 3 4 5 6 7 8 9 0 1 2 3 4 5 6 7 8 9 10 11 12 13 14 15 16 17 18 19 20 21 22 23 24 25 26 0 1 2 3 4 5 6 7 8 9 0 1 2 3 4 5 6 7 8 9 10 0 1 2 3 4 5 6 7 8 9 10 11 12 13 14 15 16 17 18 19 20 21 22 23 24 25 26 27 28 29 0 1 2 3 4 5 6 0 1 2 3 4 5 6 7 8 0 1 2 3 4 5 6 7 8 9 10 11 12 13 14 15 16 17 18 19 20 0 1 2 3 4 5 6 7 8 9 10 0 1 2 3 4 0 1 2 3 4 5 6 7 8 9 10 0 1 2 3 4 5 6 7 8 9 10 11 12 13 14 15 16 17 0 1 2 0 1 2 3 4 5 6 7 8 0 1 2 3 4 5 6 0 1 2 3 4 5 6 7 0 1 2 3 4 5 6 7 8 9 0 1 2 3 4 5 6 7 8 9 10 0 0 1 2 3 4 5 6 7 8 9 10 0 1 2 3 0 1 2 3 4 5 0 1 2 3 4 0 1 2 3 4 5 6 7 8 9 0 1 2 3 4 5 6 7 8 0 1 2 0 1 2 3 0 1 2 3 4 5 0 1 2 3 4 0 1 2 3 4 5 0 1 2 0 1 2 3 4 5 6 7 8 9 0 1 2 3 4 5 6 0 1 2 3 0 1 2 3 \n",
      "0 1 2 3 4 5 6 7 8 9 10 11 12 13 14 15 16 17 18 19 20 21 22 23 24 25 26 27 28 29 30 31 32 33 34 35 36 37 38 39 40 41 42 43 44 45 46 47 0 1 2 3 4 5 6 7 8 9 10 11 12 13 14 15 16 17 18 19 20 21 22 23 24 25 26 27 28 29 30 31 32 33 34 35 36 37 38 39 40 41 42 43 44 45 0 1 2 3 4 5 6 7 8 9 10 11 12 13 14 15 16 17 18 19 20 21 22 23 24 25 26 27 28 29 30 31 32 33 34 35 36 37 38 39 40 41 42 43 44 45 46 47 0 1 2 3 4 5 6 7 8 9 0 1 2 3 4 5 6 7 8 9 10 11 12 13 14 15 16 17 18 19 20 21 22 23 24 25 26 27 28 29 30 31 32 33 34 35 36 37 38 39 40 41 42 43 44 45 46 47 0 1 2 3 4 5 6 7 8 9 10 11 12 13 14 15 16 17 18 19 20 21 22 23 24 25 26 27 28 29 0 1 2 3 4 5 6 7 8 9 10 11 12 13 14 15 0 1 2 3 4 5 6 7 8 9 10 11 12 13 14 15 16 17 18 19 20 21 22 23 24 25 26 27 28 29 30 31 0 1 2 3 4 5 6 7 8 9 10 11 12 13 14 15 0 1 2 3 4 5 6 7 8 9 10 11 12 13 14 15 16 17 0 1 2 3 4 5 6 7 8 9 10 11 0 1 2 3 4 5 6 7 8 9 10 11 12 13 14 0 1 2 3 4 5 6 7 8 9 10 11 12 13 14 15 16 17 18 19 20 0 1 2 3 4 5 6 7 8 9 10 11 0 1 2 3 4 5 6 7 8 9 0 1 2 3 4 0 1 2 3 4 5 6 7 8 9 10 11 12 13 14 15 16 17 18 0 1 2 3 4 5 6 0 1 2 3 4 5 6 7 8 9 10 11 12 13 14 15 16 0 1 2 0 1 2 3 4 5 6 7 8 9 10 11 12 13 14 15 16 17 18 19 20 0 1 2 3 \n",
      "0 1 2 3 4 5 6 7 8 9 10 11 12 13 14 15 16 17 18 19 20 21 22 23 24 25 26 27 28 29 30 31 32 33 34 35 36 37 38 39 40 41 42 43 44 45 46 47 48 49 50 51 52 53 54 55 56 57 58 59 60 61 62 63 64 65 66 67 68 69 70 71 72 73 74 75 76 77 78 79 80 81 82 83 84 85 86 87 88 89 90 91 92 93 0 1 2 3 4 5 6 7 8 9 10 11 12 13 14 15 16 17 18 19 20 21 22 23 24 25 26 27 28 29 30 31 32 33 34 35 36 37 38 39 40 41 42 43 44 45 46 47 48 49 50 51 52 53 54 55 56 57 0 1 2 3 4 5 6 7 8 9 10 11 12 13 14 15 16 17 18 19 20 21 22 23 24 25 26 27 28 29 30 31 32 33 34 35 36 37 38 39 40 41 42 43 44 45 46 47 48 49 50 51 52 53 54 55 56 57 58 59 60 61 62 63 64 65 66 67 68 69 70 71 72 73 74 75 76 77 0 1 2 3 4 5 6 7 8 9 10 11 12 13 14 15 0 1 2 3 4 5 6 7 8 9 10 11 12 13 14 15 16 17 18 19 20 21 22 23 24 25 26 27 28 29 30 31 32 33 34 35 36 37 38 39 40 41 42 43 44 45 46 47 48 49 50 51 52 53 54 55 56 57 58 59 60 61 62 63 64 65 0 1 2 3 4 5 6 7 8 9 10 11 0 1 2 3 4 5 6 7 8 9 10 11 12 13 14 0 1 2 3 4 5 6 7 8 9 10 11 12 13 14 15 16 17 18 19 20 21 22 23 24 25 26 27 28 29 30 31 32 33 34 35 36 37 38 39 40 41 42 0 1 2 3 4 5 6 7 8 9 10 11 12 13 14 15 16 17 18 19 20 21 22 23 0 1 2 3 4 5 6 0 1 2 3 4 5 6 7 8 9 10 11 12 13 14 15 16 17 18 19 0 1 2 3 4 5 6 7 8 9 10 11 12 13 14 15 16 17 18 19 20 21 22 23 24 \n",
      "0 1 2 3 4 5 6 7 8 9 10 11 12 13 14 15 16 17 18 19 20 21 22 23 24 25 26 27 28 29 30 31 32 33 34 35 36 37 38 39 40 41 42 43 44 45 46 47 48 49 50 51 52 53 54 55 56 57 58 59 60 61 62 63 64 65 66 67 68 69 70 71 72 73 74 75 76 77 78 79 80 81 82 83 84 85 86 87 88 89 90 91 92 93 94 95 96 97 98 99 100 101 102 103 104 105 106 107 108 109 110 111 112 113 114 115 116 117 118 119 120 121 122 123 124 125 126 127 128 129 130 131 132 133 134 135 136 137 138 139 140 141 142 143 144 145 146 147 148 149 150 151 0 1 2 3 4 5 6 7 8 9 10 11 12 13 14 15 16 17 18 19 20 21 22 23 24 25 26 27 28 29 30 31 32 33 34 35 36 37 38 39 40 41 42 43 44 45 46 47 48 49 50 51 52 53 54 55 56 57 58 59 60 61 62 63 64 65 66 67 68 69 70 71 72 73 74 75 76 77 0 1 2 3 4 5 6 7 8 9 10 11 12 13 14 15 16 17 18 19 20 21 22 23 24 25 26 27 28 29 30 31 32 33 34 35 36 37 38 39 40 41 42 43 44 45 46 47 48 49 50 51 52 53 54 55 56 57 58 59 60 61 62 63 64 65 66 67 68 69 70 71 72 73 74 75 76 77 78 79 80 81 0 1 2 3 4 5 6 7 8 9 10 11 12 13 14 15 16 17 18 19 20 21 22 23 24 25 26 0 1 2 3 4 5 6 7 8 9 10 11 12 13 14 15 16 17 18 19 20 21 22 23 24 25 26 27 28 29 30 31 32 33 34 35 36 37 38 39 40 41 42 0 1 2 3 4 5 6 7 8 9 10 11 12 13 14 15 16 17 18 19 20 21 22 23 24 25 26 27 28 29 30 0 1 2 3 4 5 6 7 8 9 10 11 12 13 14 15 16 17 18 19 20 21 22 23 24 25 26 27 28 29 30 31 32 33 34 35 36 37 38 39 40 41 42 43 44 \n",
      "0 1 2 3 4 5 6 7 8 9 10 11 12 13 14 15 16 17 18 19 20 21 22 23 24 25 26 27 28 29 30 31 32 33 34 35 36 37 38 39 40 41 42 43 44 45 46 47 48 49 50 51 52 53 54 55 56 57 58 59 60 61 62 63 64 65 66 67 68 69 70 71 72 73 74 75 76 77 78 79 80 81 82 83 84 85 86 87 88 89 90 91 92 93 94 95 96 97 98 99 100 101 102 103 104 105 106 107 108 109 110 111 112 113 114 115 116 117 118 119 120 121 122 123 124 125 126 127 128 129 130 131 132 133 134 135 136 137 138 139 140 141 142 143 144 145 146 147 148 149 150 151 152 153 154 155 156 157 158 159 160 161 162 163 164 165 166 167 168 169 170 171 172 173 174 175 176 177 178 179 180 181 182 183 184 185 186 187 188 189 190 191 192 193 194 195 196 197 198 199 200 201 202 203 204 205 206 207 208 209 210 211 212 213 214 215 216 217 218 219 220 221 222 223 224 225 226 227 228 229 0 1 2 3 4 5 6 7 8 9 10 11 12 13 14 15 16 17 18 19 20 21 22 23 24 25 26 27 28 29 30 31 32 33 34 35 36 37 38 39 40 41 42 43 44 45 46 47 48 49 50 51 52 53 54 55 56 57 58 59 60 61 62 63 64 65 66 67 68 69 70 71 72 73 74 75 76 77 78 79 80 81 0 1 2 3 4 5 6 7 8 9 10 11 12 13 14 15 16 17 18 19 20 21 22 23 24 25 26 0 1 2 3 4 5 6 7 8 9 10 11 12 13 14 15 16 17 18 19 20 21 22 23 24 25 26 27 28 29 30 31 32 33 34 35 36 37 38 39 40 41 42 43 44 45 46 47 48 49 50 51 52 53 54 55 56 57 58 59 60 61 62 63 64 65 66 67 68 69 70 71 72 73 0 1 2 3 4 5 6 7 8 9 10 11 12 13 14 15 16 17 18 19 20 21 22 23 24 25 26 27 28 29 30 31 32 33 34 35 36 37 38 39 40 41 42 43 44 \n",
      "0 1 2 3 4 5 6 7 8 9 10 11 12 13 14 15 16 17 18 19 20 21 22 23 24 25 26 27 28 29 30 31 32 33 34 35 36 37 38 39 40 41 42 43 44 45 46 47 48 49 50 51 52 53 54 55 56 57 58 59 60 61 62 63 64 65 66 67 68 69 70 71 72 73 74 75 76 77 78 79 80 81 82 83 84 85 86 87 88 89 90 91 92 93 94 95 96 97 98 99 100 101 102 103 104 105 106 107 108 109 110 111 112 113 114 115 116 117 118 119 120 121 122 123 124 125 126 127 128 129 130 131 132 133 134 135 136 137 138 139 140 141 142 143 144 145 146 147 148 149 150 151 152 153 154 155 156 157 158 159 160 161 162 163 164 165 166 167 168 169 170 171 172 173 174 175 176 177 178 179 180 181 182 183 184 185 186 187 188 189 190 191 192 193 194 195 196 197 198 199 200 201 202 203 204 205 206 207 208 209 210 211 212 213 214 215 216 217 218 219 220 221 222 223 224 225 226 227 228 229 230 231 232 233 234 235 236 237 238 239 240 241 242 243 244 245 246 247 248 249 250 251 252 253 254 255 256 257 258 259 260 261 262 263 264 265 266 267 268 269 270 271 272 273 274 275 276 277 278 279 280 281 282 283 284 285 286 287 288 289 290 291 292 293 294 295 296 297 298 299 300 301 302 303 304 305 306 307 308 309 310 311 0 1 2 3 4 5 6 7 8 9 10 11 12 13 14 15 16 17 18 19 20 21 22 23 24 25 26 0 1 2 3 4 5 6 7 8 9 10 11 12 13 14 15 16 17 18 19 20 21 22 23 24 25 26 27 28 29 30 31 32 33 34 35 36 37 38 39 40 41 42 43 44 45 46 47 48 49 50 51 52 53 54 55 56 57 58 59 60 61 62 63 64 65 66 67 68 69 70 71 72 73 0 1 2 3 4 5 6 7 8 9 10 11 12 13 14 15 16 17 18 19 20 21 22 23 24 25 26 27 28 29 30 31 32 33 34 35 36 37 38 39 40 41 42 43 44 \n",
      "0 1 2 3 4 5 6 7 8 9 10 11 12 13 14 15 16 17 18 19 20 21 22 23 24 25 26 27 28 29 30 31 32 33 34 35 36 37 38 39 40 41 42 43 44 45 46 47 48 49 50 51 52 53 54 55 56 57 58 59 60 61 62 63 64 65 66 67 68 69 70 71 72 73 74 75 76 77 78 79 80 81 82 83 84 85 86 87 88 89 90 91 92 93 94 95 96 97 98 99 100 101 102 103 104 105 106 107 108 109 110 111 112 113 114 115 116 117 118 119 120 121 122 123 124 125 126 127 128 129 130 131 132 133 134 135 136 137 138 139 140 141 142 143 144 145 146 147 148 149 150 151 152 153 154 155 156 157 158 159 160 161 162 163 164 165 166 167 168 169 170 171 172 173 174 175 176 177 178 179 180 181 182 183 184 185 186 187 188 189 190 191 192 193 194 195 196 197 198 199 200 201 202 203 204 205 206 207 208 209 210 211 212 213 214 215 216 217 218 219 220 221 222 223 224 225 226 227 228 229 230 231 232 233 234 235 236 237 238 239 240 241 242 243 244 245 246 247 248 249 250 251 252 253 254 255 256 257 258 259 260 261 262 263 264 265 266 267 268 269 270 271 272 273 274 275 276 277 278 279 280 281 282 283 284 285 286 287 288 289 290 291 292 293 294 295 296 297 298 299 300 301 302 303 304 305 306 307 308 309 310 311 312 313 314 315 316 317 318 319 320 321 322 323 324 325 326 327 328 329 330 331 332 333 334 335 336 337 338 0 1 2 3 4 5 6 7 8 9 10 11 12 13 14 15 16 17 18 19 20 21 22 23 24 25 26 27 28 29 30 31 32 33 34 35 36 37 38 39 40 41 42 43 44 45 46 47 48 49 50 51 52 53 54 55 56 57 58 59 60 61 62 63 64 65 66 67 68 69 70 71 72 73 0 1 2 3 4 5 6 7 8 9 10 11 12 13 14 15 16 17 18 19 20 21 22 23 24 25 26 27 28 29 30 31 32 33 34 35 36 37 38 39 40 41 42 43 44 \n",
      "0 1 2 3 4 5 6 7 8 9 10 11 12 13 14 15 16 17 18 19 20 21 22 23 24 25 26 27 28 29 30 31 32 33 34 35 36 37 38 39 40 41 42 43 44 45 46 47 48 49 50 51 52 53 54 55 56 57 58 59 60 61 62 63 64 65 66 67 68 69 70 71 72 73 74 75 76 77 78 79 80 81 82 83 84 85 86 87 88 89 90 91 92 93 94 95 96 97 98 99 100 101 102 103 104 105 106 107 108 109 110 111 112 113 114 115 116 117 118 119 120 121 122 123 124 125 126 127 128 129 130 131 132 133 134 135 136 137 138 139 140 141 142 143 144 145 146 147 148 149 150 151 152 153 154 155 156 157 158 159 160 161 162 163 164 165 166 167 168 169 170 171 172 173 174 175 176 177 178 179 180 181 182 183 184 185 186 187 188 189 190 191 192 193 194 195 196 197 198 199 200 201 202 203 204 205 206 207 208 209 210 211 212 213 214 215 216 217 218 219 220 221 222 223 224 225 226 227 228 229 230 231 232 233 234 235 236 237 238 239 240 241 242 243 244 245 246 247 248 249 250 251 252 253 254 255 256 257 258 259 260 261 262 263 264 265 266 267 268 269 270 271 272 273 274 275 276 277 278 279 280 281 282 283 284 285 286 287 288 289 290 291 292 293 294 295 296 297 298 299 300 301 302 303 304 305 306 307 308 309 310 311 312 313 314 315 316 317 318 319 320 321 322 323 324 325 326 327 328 329 330 331 332 333 334 335 336 337 338 339 340 341 342 343 344 345 346 347 348 349 350 351 352 353 354 355 356 357 358 359 360 361 362 363 364 365 366 367 368 369 370 371 372 373 374 375 376 377 378 379 380 381 382 383 384 385 386 387 388 389 390 391 392 393 394 395 396 397 398 399 400 401 402 403 404 405 406 407 408 409 410 411 412 0 1 2 3 4 5 6 7 8 9 10 11 12 13 14 15 16 17 18 19 20 21 22 23 24 25 26 27 28 29 30 31 32 33 34 35 36 37 38 39 40 41 42 43 44 \n",
      "0 1 2 3 4 5 6 7 8 9 10 11 12 13 14 15 16 17 18 19 20 21 22 23 24 25 26 27 28 29 30 31 32 33 34 35 36 37 38 39 40 41 42 43 44 45 46 47 48 49 50 51 52 53 54 55 56 57 58 59 60 61 62 63 64 65 66 67 68 69 70 71 72 73 74 75 76 77 78 79 80 81 82 83 84 85 86 87 88 89 90 91 92 93 94 95 96 97 98 99 100 101 102 103 104 105 106 107 108 109 110 111 112 113 114 115 116 117 118 119 120 121 122 123 124 125 126 127 128 129 130 131 132 133 134 135 136 137 138 139 140 141 142 143 144 145 146 147 148 149 150 151 152 153 154 155 156 157 158 159 160 161 162 163 164 165 166 167 168 169 170 171 172 173 174 175 176 177 178 179 180 181 182 183 184 185 186 187 188 189 190 191 192 193 194 195 196 197 198 199 200 201 202 203 204 205 206 207 208 209 210 211 212 213 214 215 216 217 218 219 220 221 222 223 224 225 226 227 228 229 230 231 232 233 234 235 236 237 238 239 240 241 242 243 244 245 246 247 248 249 250 251 252 253 254 255 256 257 258 259 260 261 262 263 264 265 266 267 268 269 270 271 272 273 274 275 276 277 278 279 280 281 282 283 284 285 286 287 288 289 290 291 292 293 294 295 296 297 298 299 300 301 302 303 304 305 306 307 308 309 310 311 312 313 314 315 316 317 318 319 320 321 322 323 324 325 326 327 328 329 330 331 332 333 334 335 336 337 338 339 340 341 342 343 344 345 346 347 348 349 350 351 352 353 354 355 356 357 358 359 360 361 362 363 364 365 366 367 368 369 370 371 372 373 374 375 376 377 378 379 380 381 382 383 384 385 386 387 388 389 390 391 392 393 394 395 396 397 398 399 400 401 402 403 404 405 406 407 408 409 410 411 412 413 414 415 416 417 418 419 420 421 422 423 424 425 426 427 428 429 430 431 432 433 434 435 436 437 438 439 440 441 442 443 444 445 446 447 448 449 450 451 452 453 454 455 456 457 \n",
      "--test4--\n",
      "[11, 23, 37, 48, 94, 152, 230, 312, 339, 413] 512\n",
      "0 1 2 3 4 5 6 7 8 9 10 0 1 2 3 4 5 6 7 8 9 10 11 0 1 2 3 4 5 6 7 8 9 10 0 1 2 0 1 2 3 4 5 6 7 8 9 10 0 1 2 3 4 5 6 7 8 9 10 0 0 1 2 3 4 5 6 7 8 9 10 0 1 2 3 4 5 6 7 8 9 10 0 1 2 0 1 2 3 4 5 6 7 8 0 1 0 1 2 3 4 5 6 7 8 0 1 2 0 1 2 3 4 5 6 7 8 0 1 0 1 2 3 4 5 6 7 8 0 1 2 0 1 2 3 4 5 6 7 8 9 10 0 1 2 3 4 5 6 7 8 9 0 0 0 1 2 3 4 5 6 7 8 0 1 0 1 2 3 4 5 6 7 8 9 0 0 1 2 0 1 2 3 4 5 6 0 1 2 0 0 1 2 3 4 5 6 7 8 9 0 1 0 1 2 3 4 5 6 7 8 0 0 0 1 2 3 4 5 6 7 8 9 0 1 2 3 4 5 6 0 1 2 3 0 1 2 0 1 2 3 0 1 2 3 4 0 1 0 1 2 3 4 0 1 2 3 0 1 2 0 1 2 3 0 1 2 0 1 0 1 0 1 2 3 4 5 6 0 1 0 1 2 0 1 2 3 4 5 0 0 1 2 3 0 1 2 3 4 5 6 0 1 2 3 0 0 1 2 3 4 5 0 1 2 0 1 0 1 2 3 4 5 0 0 1 0 1 0 1 2 0 1 2 3 0 1 2 0 0 1 2 0 1 2 3 0 0 1 0 0 1 2 3 0 1 2 3 0 1 0 0 0 1 2 0 1 2 3 4 5 0 0 0 1 2 0 1 2 3 4 5 0 0 0 1 2 0 1 2 3 4 5 0 0 0 1 0 0 0 1 2 3 4 5 0 0 1 0 0 0 1 2 0 1 2 0 0 1 0 0 0 1 2 0 1 2 3 4 0 0 0 0 0 1 0 0 1 2 3 0 0 0 0 0 1 2 0 1 2 0 1 2 0 0 1 0 1 0 1 2 0 1 2 0 0 0 0 1 2 0 1 0 0 1 0 0 0 0 1 2 0 1 2 0 1 2 0 0 1 0 0 0 0 1 0 1 2 0 0 1 0 0 1 0 1 2 0 1 0 0 1 0 \n",
      "0 1 2 3 4 5 6 7 8 9 10 11 12 13 14 15 16 17 18 19 20 21 22 0 1 2 3 4 5 6 7 8 9 10 11 12 13 0 1 2 3 4 5 6 7 8 9 10 0 1 2 3 4 5 6 7 8 9 10 11 0 1 2 3 4 5 6 7 8 9 10 0 1 2 3 4 5 6 7 8 9 10 11 12 13 0 1 2 3 4 5 6 7 8 0 1 2 3 4 5 6 7 8 9 10 11 12 13 0 1 2 3 4 5 6 7 8 0 1 2 3 4 5 6 7 8 9 10 11 12 13 0 1 2 3 4 5 6 7 8 9 10 0 1 2 3 4 5 6 7 8 9 0 1 0 1 2 3 4 5 6 7 8 9 10 0 1 2 3 4 5 6 7 8 9 0 1 2 3 0 1 2 3 4 5 6 7 8 9 0 1 2 3 4 5 6 7 8 9 10 0 1 0 1 2 3 4 5 6 7 8 9 0 1 2 3 4 5 6 7 8 9 10 0 1 2 3 4 5 6 0 1 2 3 4 5 6 0 1 2 3 4 5 6 7 8 0 1 2 3 4 5 6 0 1 2 3 4 5 6 0 1 2 3 4 5 6 0 1 0 1 2 3 4 5 6 7 8 0 1 2 3 4 0 1 2 3 4 5 6 0 1 2 3 0 1 2 3 4 5 6 0 1 2 3 4 0 1 2 3 4 5 0 1 2 0 1 0 1 2 3 4 5 6 0 1 2 3 4 5 6 0 1 2 3 0 1 2 0 0 1 2 3 4 5 6 7 0 1 0 1 2 3 4 0 1 2 3 4 5 0 0 0 1 2 3 4 5 6 7 8 9 0 1 2 3 0 1 2 3 4 5 0 0 0 1 2 0 1 2 3 4 5 6 7 0 1 0 1 0 1 2 3 4 5 0 0 1 2 0 0 1 2 0 1 2 3 4 5 0 0 1 2 3 0 1 2 3 4 0 0 1 0 0 1 2 0 1 2 3 4 5 0 0 1 2 3 0 1 2 0 1 2 0 0 1 0 1 2 3 4 0 1 2 0 1 0 0 1 2 0 1 2 0 1 2 0 0 1 2 3 0 1 2 0 1 2 0 1 2 0 0 1 0 1 2 3 4 0 0 1 0 1 2 0 1 2 0 1 2 3 4 0 \n",
      "0 1 2 3 4 5 6 7 8 9 10 11 12 13 14 15 16 17 18 19 20 21 22 23 24 25 26 27 28 29 30 31 32 33 34 35 36 0 1 2 3 4 5 6 7 8 9 10 0 1 2 3 4 5 6 7 8 9 10 11 12 13 14 15 16 17 18 19 20 21 22 23 24 25 26 27 28 29 30 31 32 33 34 35 36 0 1 2 3 4 5 6 7 8 0 1 2 3 4 5 6 7 8 9 10 11 12 13 14 15 16 17 18 19 20 21 22 23 24 25 26 27 28 29 30 31 32 33 34 35 36 0 1 2 3 4 5 6 7 8 9 10 0 1 2 3 4 5 6 7 8 9 0 1 2 3 4 5 6 7 8 9 10 11 12 13 14 15 16 17 18 19 20 21 22 23 24 25 26 0 1 2 3 4 5 6 7 8 9 0 1 2 3 4 5 6 7 8 9 10 0 1 2 3 4 5 6 7 8 9 10 11 12 13 14 15 16 17 18 19 20 21 22 23 24 25 26 27 28 29 0 1 2 3 4 5 6 0 1 2 3 4 5 6 7 8 0 1 2 3 4 5 6 7 8 9 10 11 12 13 14 15 16 17 18 19 20 0 1 2 3 4 5 6 7 8 9 10 0 1 2 3 4 0 1 2 3 4 5 6 7 8 9 10 0 1 2 3 4 5 6 7 8 9 10 11 12 13 14 15 16 17 0 1 2 0 1 2 3 4 5 6 7 8 0 1 2 3 4 5 6 0 1 2 3 4 5 6 7 0 1 2 3 4 5 6 7 8 9 0 1 2 3 4 5 6 7 8 9 10 0 0 1 2 3 4 5 6 7 8 9 10 0 1 2 3 0 1 2 3 4 5 0 1 2 3 4 0 1 2 3 4 5 6 7 8 9 0 1 2 3 4 5 6 7 8 0 1 2 0 1 2 3 0 1 2 3 4 5 0 1 2 3 4 0 1 2 3 4 5 0 1 2 0 1 2 3 4 5 6 7 8 9 0 1 2 3 4 5 6 0 1 2 3 0 1 2 3 4 5 6 0 1 2 0 1 2 0 1 2 0 1 2 3 4 5 0 1 2 3 4 0 1 2 3 4 5 6 7 8 9 0 1 2 3 4 5 6 0 1 2 0 1 2 3 4 5 0 1 2 3 4 0 \n",
      "0 1 2 3 4 5 6 7 8 9 10 11 12 13 14 15 16 17 18 19 20 21 22 23 24 25 26 27 28 29 30 31 32 33 34 35 36 37 38 39 40 41 42 43 44 45 46 47 0 1 2 3 4 5 6 7 8 9 10 11 12 13 14 15 16 17 18 19 20 21 22 23 24 25 26 27 28 29 30 31 32 33 34 35 36 37 38 39 40 41 42 43 44 45 0 1 2 3 4 5 6 7 8 9 10 11 12 13 14 15 16 17 18 19 20 21 22 23 24 25 26 27 28 29 30 31 32 33 34 35 36 37 38 39 40 41 42 43 44 45 46 47 0 1 2 3 4 5 6 7 8 9 0 1 2 3 4 5 6 7 8 9 10 11 12 13 14 15 16 17 18 19 20 21 22 23 24 25 26 27 28 29 30 31 32 33 34 35 36 37 38 39 40 41 42 43 44 45 46 47 0 1 2 3 4 5 6 7 8 9 10 11 12 13 14 15 16 17 18 19 20 21 22 23 24 25 26 27 28 29 0 1 2 3 4 5 6 7 8 9 10 11 12 13 14 15 0 1 2 3 4 5 6 7 8 9 10 11 12 13 14 15 16 17 18 19 20 21 22 23 24 25 26 27 28 29 30 31 0 1 2 3 4 5 6 7 8 9 10 11 12 13 14 15 0 1 2 3 4 5 6 7 8 9 10 11 12 13 14 15 16 17 0 1 2 3 4 5 6 7 8 9 10 11 0 1 2 3 4 5 6 7 8 9 10 11 12 13 14 0 1 2 3 4 5 6 7 8 9 10 11 12 13 14 15 16 17 18 19 20 0 1 2 3 4 5 6 7 8 9 10 11 0 1 2 3 4 5 6 7 8 9 0 1 2 3 4 0 1 2 3 4 5 6 7 8 9 10 11 12 13 14 15 16 17 18 0 1 2 3 4 5 6 0 1 2 3 4 5 6 7 8 9 10 11 12 13 14 15 16 0 1 2 0 1 2 3 4 5 6 7 8 9 10 11 12 13 14 15 16 17 18 19 20 0 1 2 3 4 5 6 0 1 2 0 1 2 3 4 5 6 7 8 9 10 11 0 1 2 3 4 0 1 2 3 4 5 6 7 8 9 0 1 2 3 4 5 6 7 8 9 10 11 12 13 14 15 0 1 2 3 4 0 \n",
      "0 1 2 3 4 5 6 7 8 9 10 11 12 13 14 15 16 17 18 19 20 21 22 23 24 25 26 27 28 29 30 31 32 33 34 35 36 37 38 39 40 41 42 43 44 45 46 47 48 49 50 51 52 53 54 55 56 57 58 59 60 61 62 63 64 65 66 67 68 69 70 71 72 73 74 75 76 77 78 79 80 81 82 83 84 85 86 87 88 89 90 91 92 93 0 1 2 3 4 5 6 7 8 9 10 11 12 13 14 15 16 17 18 19 20 21 22 23 24 25 26 27 28 29 30 31 32 33 34 35 36 37 38 39 40 41 42 43 44 45 46 47 48 49 50 51 52 53 54 55 56 57 0 1 2 3 4 5 6 7 8 9 10 11 12 13 14 15 16 17 18 19 20 21 22 23 24 25 26 27 28 29 30 31 32 33 34 35 36 37 38 39 40 41 42 43 44 45 46 47 48 49 50 51 52 53 54 55 56 57 58 59 60 61 62 63 64 65 66 67 68 69 70 71 72 73 74 75 76 77 0 1 2 3 4 5 6 7 8 9 10 11 12 13 14 15 0 1 2 3 4 5 6 7 8 9 10 11 12 13 14 15 16 17 18 19 20 21 22 23 24 25 26 27 28 29 30 31 32 33 34 35 36 37 38 39 40 41 42 43 44 45 46 47 48 49 50 51 52 53 54 55 56 57 58 59 60 61 62 63 64 65 0 1 2 3 4 5 6 7 8 9 10 11 0 1 2 3 4 5 6 7 8 9 10 11 12 13 14 0 1 2 3 4 5 6 7 8 9 10 11 12 13 14 15 16 17 18 19 20 21 22 23 24 25 26 27 28 29 30 31 32 33 34 35 36 37 38 39 40 41 42 0 1 2 3 4 5 6 7 8 9 10 11 12 13 14 15 16 17 18 19 20 21 22 23 0 1 2 3 4 5 6 0 1 2 3 4 5 6 7 8 9 10 11 12 13 14 15 16 17 18 19 0 1 2 3 4 5 6 7 8 9 10 11 12 13 14 15 16 17 18 19 20 21 22 23 24 25 26 27 28 29 30 0 1 2 3 4 5 6 7 8 9 10 11 0 1 2 3 4 5 6 7 8 9 10 11 12 13 14 0 1 2 3 4 5 6 7 8 9 10 11 12 13 14 15 0 1 2 3 4 5 \n",
      "0 1 2 3 4 5 6 7 8 9 10 11 12 13 14 15 16 17 18 19 20 21 22 23 24 25 26 27 28 29 30 31 32 33 34 35 36 37 38 39 40 41 42 43 44 45 46 47 48 49 50 51 52 53 54 55 56 57 58 59 60 61 62 63 64 65 66 67 68 69 70 71 72 73 74 75 76 77 78 79 80 81 82 83 84 85 86 87 88 89 90 91 92 93 94 95 96 97 98 99 100 101 102 103 104 105 106 107 108 109 110 111 112 113 114 115 116 117 118 119 120 121 122 123 124 125 126 127 128 129 130 131 132 133 134 135 136 137 138 139 140 141 142 143 144 145 146 147 148 149 150 151 0 1 2 3 4 5 6 7 8 9 10 11 12 13 14 15 16 17 18 19 20 21 22 23 24 25 26 27 28 29 30 31 32 33 34 35 36 37 38 39 40 41 42 43 44 45 46 47 48 49 50 51 52 53 54 55 56 57 58 59 60 61 62 63 64 65 66 67 68 69 70 71 72 73 74 75 76 77 0 1 2 3 4 5 6 7 8 9 10 11 12 13 14 15 16 17 18 19 20 21 22 23 24 25 26 27 28 29 30 31 32 33 34 35 36 37 38 39 40 41 42 43 44 45 46 47 48 49 50 51 52 53 54 55 56 57 58 59 60 61 62 63 64 65 66 67 68 69 70 71 72 73 74 75 76 77 78 79 80 81 0 1 2 3 4 5 6 7 8 9 10 11 12 13 14 15 16 17 18 19 20 21 22 23 24 25 26 0 1 2 3 4 5 6 7 8 9 10 11 12 13 14 15 16 17 18 19 20 21 22 23 24 25 26 27 28 29 30 31 32 33 34 35 36 37 38 39 40 41 42 0 1 2 3 4 5 6 7 8 9 10 11 12 13 14 15 16 17 18 19 20 21 22 23 24 25 26 27 28 29 30 0 1 2 3 4 5 6 7 8 9 10 11 12 13 14 15 16 17 18 19 20 21 22 23 24 25 26 27 28 29 30 31 32 33 34 35 36 37 38 39 40 41 42 43 44 45 46 47 48 49 50 0 1 2 3 4 5 6 7 8 9 10 11 12 13 14 15 16 17 18 19 20 21 22 23 24 25 26 0 1 2 3 4 5 6 7 8 9 10 11 12 13 14 15 16 17 18 19 20 21 \n",
      "0 1 2 3 4 5 6 7 8 9 10 11 12 13 14 15 16 17 18 19 20 21 22 23 24 25 26 27 28 29 30 31 32 33 34 35 36 37 38 39 40 41 42 43 44 45 46 47 48 49 50 51 52 53 54 55 56 57 58 59 60 61 62 63 64 65 66 67 68 69 70 71 72 73 74 75 76 77 78 79 80 81 82 83 84 85 86 87 88 89 90 91 92 93 94 95 96 97 98 99 100 101 102 103 104 105 106 107 108 109 110 111 112 113 114 115 116 117 118 119 120 121 122 123 124 125 126 127 128 129 130 131 132 133 134 135 136 137 138 139 140 141 142 143 144 145 146 147 148 149 150 151 152 153 154 155 156 157 158 159 160 161 162 163 164 165 166 167 168 169 170 171 172 173 174 175 176 177 178 179 180 181 182 183 184 185 186 187 188 189 190 191 192 193 194 195 196 197 198 199 200 201 202 203 204 205 206 207 208 209 210 211 212 213 214 215 216 217 218 219 220 221 222 223 224 225 226 227 228 229 0 1 2 3 4 5 6 7 8 9 10 11 12 13 14 15 16 17 18 19 20 21 22 23 24 25 26 27 28 29 30 31 32 33 34 35 36 37 38 39 40 41 42 43 44 45 46 47 48 49 50 51 52 53 54 55 56 57 58 59 60 61 62 63 64 65 66 67 68 69 70 71 72 73 74 75 76 77 78 79 80 81 0 1 2 3 4 5 6 7 8 9 10 11 12 13 14 15 16 17 18 19 20 21 22 23 24 25 26 0 1 2 3 4 5 6 7 8 9 10 11 12 13 14 15 16 17 18 19 20 21 22 23 24 25 26 27 28 29 30 31 32 33 34 35 36 37 38 39 40 41 42 43 44 45 46 47 48 49 50 51 52 53 54 55 56 57 58 59 60 61 62 63 64 65 66 67 68 69 70 71 72 73 0 1 2 3 4 5 6 7 8 9 10 11 12 13 14 15 16 17 18 19 20 21 22 23 24 25 26 27 28 29 30 31 32 33 34 35 36 37 38 39 40 41 42 43 44 45 46 47 48 49 50 51 52 53 54 55 56 57 58 59 60 61 62 63 64 65 66 67 68 69 70 71 72 73 74 75 76 77 78 79 80 81 82 83 84 85 86 87 88 89 90 91 92 93 94 95 96 97 98 99 \n",
      "0 1 2 3 4 5 6 7 8 9 10 11 12 13 14 15 16 17 18 19 20 21 22 23 24 25 26 27 28 29 30 31 32 33 34 35 36 37 38 39 40 41 42 43 44 45 46 47 48 49 50 51 52 53 54 55 56 57 58 59 60 61 62 63 64 65 66 67 68 69 70 71 72 73 74 75 76 77 78 79 80 81 82 83 84 85 86 87 88 89 90 91 92 93 94 95 96 97 98 99 100 101 102 103 104 105 106 107 108 109 110 111 112 113 114 115 116 117 118 119 120 121 122 123 124 125 126 127 128 129 130 131 132 133 134 135 136 137 138 139 140 141 142 143 144 145 146 147 148 149 150 151 152 153 154 155 156 157 158 159 160 161 162 163 164 165 166 167 168 169 170 171 172 173 174 175 176 177 178 179 180 181 182 183 184 185 186 187 188 189 190 191 192 193 194 195 196 197 198 199 200 201 202 203 204 205 206 207 208 209 210 211 212 213 214 215 216 217 218 219 220 221 222 223 224 225 226 227 228 229 230 231 232 233 234 235 236 237 238 239 240 241 242 243 244 245 246 247 248 249 250 251 252 253 254 255 256 257 258 259 260 261 262 263 264 265 266 267 268 269 270 271 272 273 274 275 276 277 278 279 280 281 282 283 284 285 286 287 288 289 290 291 292 293 294 295 296 297 298 299 300 301 302 303 304 305 306 307 308 309 310 311 0 1 2 3 4 5 6 7 8 9 10 11 12 13 14 15 16 17 18 19 20 21 22 23 24 25 26 0 1 2 3 4 5 6 7 8 9 10 11 12 13 14 15 16 17 18 19 20 21 22 23 24 25 26 27 28 29 30 31 32 33 34 35 36 37 38 39 40 41 42 43 44 45 46 47 48 49 50 51 52 53 54 55 56 57 58 59 60 61 62 63 64 65 66 67 68 69 70 71 72 73 0 1 2 3 4 5 6 7 8 9 10 11 12 13 14 15 16 17 18 19 20 21 22 23 24 25 26 27 28 29 30 31 32 33 34 35 36 37 38 39 40 41 42 43 44 45 46 47 48 49 50 51 52 53 54 55 56 57 58 59 60 61 62 63 64 65 66 67 68 69 70 71 72 73 74 75 76 77 78 79 80 81 82 83 84 85 86 87 88 89 90 91 92 93 94 95 96 97 98 99 \n",
      "0 1 2 3 4 5 6 7 8 9 10 11 12 13 14 15 16 17 18 19 20 21 22 23 24 25 26 27 28 29 30 31 32 33 34 35 36 37 38 39 40 41 42 43 44 45 46 47 48 49 50 51 52 53 54 55 56 57 58 59 60 61 62 63 64 65 66 67 68 69 70 71 72 73 74 75 76 77 78 79 80 81 82 83 84 85 86 87 88 89 90 91 92 93 94 95 96 97 98 99 100 101 102 103 104 105 106 107 108 109 110 111 112 113 114 115 116 117 118 119 120 121 122 123 124 125 126 127 128 129 130 131 132 133 134 135 136 137 138 139 140 141 142 143 144 145 146 147 148 149 150 151 152 153 154 155 156 157 158 159 160 161 162 163 164 165 166 167 168 169 170 171 172 173 174 175 176 177 178 179 180 181 182 183 184 185 186 187 188 189 190 191 192 193 194 195 196 197 198 199 200 201 202 203 204 205 206 207 208 209 210 211 212 213 214 215 216 217 218 219 220 221 222 223 224 225 226 227 228 229 230 231 232 233 234 235 236 237 238 239 240 241 242 243 244 245 246 247 248 249 250 251 252 253 254 255 256 257 258 259 260 261 262 263 264 265 266 267 268 269 270 271 272 273 274 275 276 277 278 279 280 281 282 283 284 285 286 287 288 289 290 291 292 293 294 295 296 297 298 299 300 301 302 303 304 305 306 307 308 309 310 311 312 313 314 315 316 317 318 319 320 321 322 323 324 325 326 327 328 329 330 331 332 333 334 335 336 337 338 0 1 2 3 4 5 6 7 8 9 10 11 12 13 14 15 16 17 18 19 20 21 22 23 24 25 26 27 28 29 30 31 32 33 34 35 36 37 38 39 40 41 42 43 44 45 46 47 48 49 50 51 52 53 54 55 56 57 58 59 60 61 62 63 64 65 66 67 68 69 70 71 72 73 0 1 2 3 4 5 6 7 8 9 10 11 12 13 14 15 16 17 18 19 20 21 22 23 24 25 26 27 28 29 30 31 32 33 34 35 36 37 38 39 40 41 42 43 44 45 46 47 48 49 50 51 52 53 54 55 56 57 58 59 60 61 62 63 64 65 66 67 68 69 70 71 72 73 74 75 76 77 78 79 80 81 82 83 84 85 86 87 88 89 90 91 92 93 94 95 96 97 98 99 \n",
      "0 1 2 3 4 5 6 7 8 9 10 11 12 13 14 15 16 17 18 19 20 21 22 23 24 25 26 27 28 29 30 31 32 33 34 35 36 37 38 39 40 41 42 43 44 45 46 47 48 49 50 51 52 53 54 55 56 57 58 59 60 61 62 63 64 65 66 67 68 69 70 71 72 73 74 75 76 77 78 79 80 81 82 83 84 85 86 87 88 89 90 91 92 93 94 95 96 97 98 99 100 101 102 103 104 105 106 107 108 109 110 111 112 113 114 115 116 117 118 119 120 121 122 123 124 125 126 127 128 129 130 131 132 133 134 135 136 137 138 139 140 141 142 143 144 145 146 147 148 149 150 151 152 153 154 155 156 157 158 159 160 161 162 163 164 165 166 167 168 169 170 171 172 173 174 175 176 177 178 179 180 181 182 183 184 185 186 187 188 189 190 191 192 193 194 195 196 197 198 199 200 201 202 203 204 205 206 207 208 209 210 211 212 213 214 215 216 217 218 219 220 221 222 223 224 225 226 227 228 229 230 231 232 233 234 235 236 237 238 239 240 241 242 243 244 245 246 247 248 249 250 251 252 253 254 255 256 257 258 259 260 261 262 263 264 265 266 267 268 269 270 271 272 273 274 275 276 277 278 279 280 281 282 283 284 285 286 287 288 289 290 291 292 293 294 295 296 297 298 299 300 301 302 303 304 305 306 307 308 309 310 311 312 313 314 315 316 317 318 319 320 321 322 323 324 325 326 327 328 329 330 331 332 333 334 335 336 337 338 339 340 341 342 343 344 345 346 347 348 349 350 351 352 353 354 355 356 357 358 359 360 361 362 363 364 365 366 367 368 369 370 371 372 373 374 375 376 377 378 379 380 381 382 383 384 385 386 387 388 389 390 391 392 393 394 395 396 397 398 399 400 401 402 403 404 405 406 407 408 409 410 411 412 0 1 2 3 4 5 6 7 8 9 10 11 12 13 14 15 16 17 18 19 20 21 22 23 24 25 26 27 28 29 30 31 32 33 34 35 36 37 38 39 40 41 42 43 44 45 46 47 48 49 50 51 52 53 54 55 56 57 58 59 60 61 62 63 64 65 66 67 68 69 70 71 72 73 74 75 76 77 78 79 80 81 82 83 84 85 86 87 88 89 90 91 92 93 94 95 96 97 98 99 \n",
      "0 1 2 3 4 5 6 7 8 9 10 11 12 13 14 15 16 17 18 19 20 21 22 23 24 25 26 27 28 29 30 31 32 33 34 35 36 37 38 39 40 41 42 43 44 45 46 47 48 49 50 51 52 53 54 55 56 57 58 59 60 61 62 63 64 65 66 67 68 69 70 71 72 73 74 75 76 77 78 79 80 81 82 83 84 85 86 87 88 89 90 91 92 93 94 95 96 97 98 99 100 101 102 103 104 105 106 107 108 109 110 111 112 113 114 115 116 117 118 119 120 121 122 123 124 125 126 127 128 129 130 131 132 133 134 135 136 137 138 139 140 141 142 143 144 145 146 147 148 149 150 151 152 153 154 155 156 157 158 159 160 161 162 163 164 165 166 167 168 169 170 171 172 173 174 175 176 177 178 179 180 181 182 183 184 185 186 187 188 189 190 191 192 193 194 195 196 197 198 199 200 201 202 203 204 205 206 207 208 209 210 211 212 213 214 215 216 217 218 219 220 221 222 223 224 225 226 227 228 229 230 231 232 233 234 235 236 237 238 239 240 241 242 243 244 245 246 247 248 249 250 251 252 253 254 255 256 257 258 259 260 261 262 263 264 265 266 267 268 269 270 271 272 273 274 275 276 277 278 279 280 281 282 283 284 285 286 287 288 289 290 291 292 293 294 295 296 297 298 299 300 301 302 303 304 305 306 307 308 309 310 311 312 313 314 315 316 317 318 319 320 321 322 323 324 325 326 327 328 329 330 331 332 333 334 335 336 337 338 339 340 341 342 343 344 345 346 347 348 349 350 351 352 353 354 355 356 357 358 359 360 361 362 363 364 365 366 367 368 369 370 371 372 373 374 375 376 377 378 379 380 381 382 383 384 385 386 387 388 389 390 391 392 393 394 395 396 397 398 399 400 401 402 403 404 405 406 407 408 409 410 411 412 413 414 415 416 417 418 419 420 421 422 423 424 425 426 427 428 429 430 431 432 433 434 435 436 437 438 439 440 441 442 443 444 445 446 447 448 449 450 451 452 453 454 455 456 457 458 459 460 461 462 463 464 465 466 467 468 469 470 471 472 473 474 475 476 477 478 479 480 481 482 483 484 485 486 487 488 489 490 491 492 493 494 495 496 497 498 499 500 501 502 503 504 505 506 507 508 509 510 511 512 \n",
      "--test5--\n",
      "[11, 23, 37, 48, 94, 152, 230, 312, 339, 413] 616\n",
      "0 1 2 3 4 5 6 7 8 9 10 0 1 2 3 4 5 6 7 8 9 10 11 0 1 2 3 4 5 6 7 8 9 10 0 1 2 0 1 2 3 4 5 6 7 8 9 10 0 1 2 3 4 5 6 7 8 9 10 0 0 1 2 3 4 5 6 7 8 9 10 0 1 2 3 4 5 6 7 8 9 10 0 1 2 0 1 2 3 4 5 6 7 8 0 1 0 1 2 3 4 5 6 7 8 0 1 2 0 1 2 3 4 5 6 7 8 0 1 0 1 2 3 4 5 6 7 8 0 1 2 0 1 2 3 4 5 6 7 8 9 10 0 1 2 3 4 5 6 7 8 9 0 0 0 1 2 3 4 5 6 7 8 0 1 0 1 2 3 4 5 6 7 8 9 0 0 1 2 0 1 2 3 4 5 6 0 1 2 0 0 1 2 3 4 5 6 7 8 9 0 1 0 1 2 3 4 5 6 7 8 0 0 0 1 2 3 4 5 6 7 8 9 0 1 2 3 4 5 6 0 1 2 3 0 1 2 0 1 2 3 0 1 2 3 4 0 1 0 1 2 3 4 0 1 2 3 0 1 2 0 1 2 3 0 1 2 0 1 0 1 0 1 2 3 4 5 6 0 1 0 1 2 0 1 2 3 4 5 0 0 1 2 3 0 1 2 3 4 5 6 0 1 2 3 0 0 1 2 3 4 5 0 1 2 0 1 0 1 2 3 4 5 0 0 1 0 1 0 1 2 0 1 2 3 0 1 2 0 0 1 2 0 1 2 3 0 0 1 0 0 1 2 3 0 1 2 3 0 1 0 0 0 1 2 0 1 2 3 4 5 0 0 0 1 2 0 1 2 3 4 5 0 0 0 1 2 0 1 2 3 4 5 0 0 0 1 0 0 0 1 2 3 4 5 0 0 1 0 0 0 1 2 0 1 2 0 0 1 0 0 0 1 2 0 1 2 3 4 0 0 0 0 0 1 0 0 1 2 3 0 0 0 0 0 1 2 0 1 2 0 1 2 0 0 1 0 1 0 1 2 0 1 2 0 0 0 0 1 2 0 1 0 0 1 0 0 0 0 1 2 0 1 2 0 1 2 0 0 1 0 0 0 0 1 0 1 2 0 0 1 0 0 1 0 1 2 0 1 0 0 1 0 0 0 0 1 2 0 1 2 0 1 0 0 0 1 2 0 0 0 1 0 1 2 0 0 1 2 0 1 0 0 1 0 1 0 0 1 0 0 0 0 0 1 0 1 2 0 1 0 0 0 1 2 0 0 0 1 0 1 2 0 0 1 2 0 1 0 0 0 0 1 0 0 0 1 0 0 0 0 1 0 1 2 0 0 1 2 0 1 0 0 0 1 2 0 1 0 1 0 1 2 0 1 0 1 \n",
      "0 1 2 3 4 5 6 7 8 9 10 11 12 13 14 15 16 17 18 19 20 21 22 0 1 2 3 4 5 6 7 8 9 10 11 12 13 0 1 2 3 4 5 6 7 8 9 10 0 1 2 3 4 5 6 7 8 9 10 11 0 1 2 3 4 5 6 7 8 9 10 0 1 2 3 4 5 6 7 8 9 10 11 12 13 0 1 2 3 4 5 6 7 8 0 1 2 3 4 5 6 7 8 9 10 11 12 13 0 1 2 3 4 5 6 7 8 0 1 2 3 4 5 6 7 8 9 10 11 12 13 0 1 2 3 4 5 6 7 8 9 10 0 1 2 3 4 5 6 7 8 9 0 1 0 1 2 3 4 5 6 7 8 9 10 0 1 2 3 4 5 6 7 8 9 0 1 2 3 0 1 2 3 4 5 6 7 8 9 0 1 2 3 4 5 6 7 8 9 10 0 1 0 1 2 3 4 5 6 7 8 9 0 1 2 3 4 5 6 7 8 9 10 0 1 2 3 4 5 6 0 1 2 3 4 5 6 0 1 2 3 4 5 6 7 8 0 1 2 3 4 5 6 0 1 2 3 4 5 6 0 1 2 3 4 5 6 0 1 0 1 2 3 4 5 6 7 8 0 1 2 3 4 0 1 2 3 4 5 6 0 1 2 3 0 1 2 3 4 5 6 0 1 2 3 4 0 1 2 3 4 5 0 1 2 0 1 0 1 2 3 4 5 6 0 1 2 3 4 5 6 0 1 2 3 0 1 2 0 0 1 2 3 4 5 6 7 0 1 0 1 2 3 4 0 1 2 3 4 5 0 0 0 1 2 3 4 5 6 7 8 9 0 1 2 3 0 1 2 3 4 5 0 0 0 1 2 0 1 2 3 4 5 6 7 0 1 0 1 0 1 2 3 4 5 0 0 1 2 0 0 1 2 0 1 2 3 4 5 0 0 1 2 3 0 1 2 3 4 0 0 1 0 0 1 2 0 1 2 3 4 5 0 0 1 2 3 0 1 2 0 1 2 0 0 1 0 1 2 3 4 0 1 2 0 1 0 0 1 2 0 1 2 0 1 2 0 0 1 2 3 0 1 2 0 1 2 0 1 2 0 0 1 0 1 2 3 4 0 0 1 0 1 2 0 1 2 0 1 2 3 4 0 0 0 1 2 3 0 1 2 0 1 2 0 1 2 3 0 1 0 1 2 3 4 0 0 1 2 0 1 0 0 1 0 1 2 0 1 0 1 0 1 2 3 0 1 2 0 1 2 0 0 1 2 0 1 0 1 0 1 2 0 1 2 3 0 1 0 0 1 0 1 2 0 0 1 2 0 1 0 1 0 1 2 0 1 2 3 0 1 2 0 1 2 3 0 1 0 1 2 3 4 0 1 0 1 \n",
      "0 1 2 3 4 5 6 7 8 9 10 11 12 13 14 15 16 17 18 19 20 21 22 23 24 25 26 27 28 29 30 31 32 33 34 35 36 0 1 2 3 4 5 6 7 8 9 10 0 1 2 3 4 5 6 7 8 9 10 11 12 13 14 15 16 17 18 19 20 21 22 23 24 25 26 27 28 29 30 31 32 33 34 35 36 0 1 2 3 4 5 6 7 8 0 1 2 3 4 5 6 7 8 9 10 11 12 13 14 15 16 17 18 19 20 21 22 23 24 25 26 27 28 29 30 31 32 33 34 35 36 0 1 2 3 4 5 6 7 8 9 10 0 1 2 3 4 5 6 7 8 9 0 1 2 3 4 5 6 7 8 9 10 11 12 13 14 15 16 17 18 19 20 21 22 23 24 25 26 0 1 2 3 4 5 6 7 8 9 0 1 2 3 4 5 6 7 8 9 10 0 1 2 3 4 5 6 7 8 9 10 11 12 13 14 15 16 17 18 19 20 21 22 23 24 25 26 27 28 29 0 1 2 3 4 5 6 0 1 2 3 4 5 6 7 8 0 1 2 3 4 5 6 7 8 9 10 11 12 13 14 15 16 17 18 19 20 0 1 2 3 4 5 6 7 8 9 10 0 1 2 3 4 0 1 2 3 4 5 6 7 8 9 10 0 1 2 3 4 5 6 7 8 9 10 11 12 13 14 15 16 17 0 1 2 0 1 2 3 4 5 6 7 8 0 1 2 3 4 5 6 0 1 2 3 4 5 6 7 0 1 2 3 4 5 6 7 8 9 0 1 2 3 4 5 6 7 8 9 10 0 0 1 2 3 4 5 6 7 8 9 10 0 1 2 3 0 1 2 3 4 5 0 1 2 3 4 0 1 2 3 4 5 6 7 8 9 0 1 2 3 4 5 6 7 8 0 1 2 0 1 2 3 0 1 2 3 4 5 0 1 2 3 4 0 1 2 3 4 5 0 1 2 0 1 2 3 4 5 6 7 8 9 0 1 2 3 4 5 6 0 1 2 3 0 1 2 3 4 5 6 0 1 2 0 1 2 0 1 2 0 1 2 3 4 5 0 1 2 3 4 0 1 2 3 4 5 6 7 8 9 0 1 2 3 4 5 6 0 1 2 0 1 2 3 4 5 0 1 2 3 4 0 0 1 2 3 4 0 1 2 3 4 5 0 1 2 3 0 1 2 3 4 5 6 7 8 9 10 0 1 2 0 1 0 1 2 3 4 0 1 2 3 4 5 0 1 2 0 1 2 0 1 2 3 0 1 2 3 0 1 2 3 4 5 6 0 1 2 0 1 2 3 4 5 0 1 2 3 4 0 1 0 1 2 0 1 2 3 4 5 6 0 1 2 3 0 1 2 3 4 5 6 0 1 2 3 \n",
      "0 1 2 3 4 5 6 7 8 9 10 11 12 13 14 15 16 17 18 19 20 21 22 23 24 25 26 27 28 29 30 31 32 33 34 35 36 37 38 39 40 41 42 43 44 45 46 47 0 1 2 3 4 5 6 7 8 9 10 11 12 13 14 15 16 17 18 19 20 21 22 23 24 25 26 27 28 29 30 31 32 33 34 35 36 37 38 39 40 41 42 43 44 45 0 1 2 3 4 5 6 7 8 9 10 11 12 13 14 15 16 17 18 19 20 21 22 23 24 25 26 27 28 29 30 31 32 33 34 35 36 37 38 39 40 41 42 43 44 45 46 47 0 1 2 3 4 5 6 7 8 9 0 1 2 3 4 5 6 7 8 9 10 11 12 13 14 15 16 17 18 19 20 21 22 23 24 25 26 27 28 29 30 31 32 33 34 35 36 37 38 39 40 41 42 43 44 45 46 47 0 1 2 3 4 5 6 7 8 9 10 11 12 13 14 15 16 17 18 19 20 21 22 23 24 25 26 27 28 29 0 1 2 3 4 5 6 7 8 9 10 11 12 13 14 15 0 1 2 3 4 5 6 7 8 9 10 11 12 13 14 15 16 17 18 19 20 21 22 23 24 25 26 27 28 29 30 31 0 1 2 3 4 5 6 7 8 9 10 11 12 13 14 15 0 1 2 3 4 5 6 7 8 9 10 11 12 13 14 15 16 17 0 1 2 3 4 5 6 7 8 9 10 11 0 1 2 3 4 5 6 7 8 9 10 11 12 13 14 0 1 2 3 4 5 6 7 8 9 10 11 12 13 14 15 16 17 18 19 20 0 1 2 3 4 5 6 7 8 9 10 11 0 1 2 3 4 5 6 7 8 9 0 1 2 3 4 0 1 2 3 4 5 6 7 8 9 10 11 12 13 14 15 16 17 18 0 1 2 3 4 5 6 0 1 2 3 4 5 6 7 8 9 10 11 12 13 14 15 16 0 1 2 0 1 2 3 4 5 6 7 8 9 10 11 12 13 14 15 16 17 18 19 20 0 1 2 3 4 5 6 0 1 2 0 1 2 3 4 5 6 7 8 9 10 11 0 1 2 3 4 0 1 2 3 4 5 6 7 8 9 0 1 2 3 4 5 6 7 8 9 10 11 12 13 14 15 0 1 2 3 4 0 1 2 3 4 5 6 7 8 9 10 11 0 1 2 3 4 5 6 7 8 9 10 11 12 13 14 0 1 2 0 1 2 3 4 5 6 7 8 9 10 11 12 0 1 2 0 1 2 3 4 5 6 0 1 2 3 0 1 2 3 4 5 6 7 8 9 10 11 12 13 14 15 0 1 2 3 4 0 1 2 3 4 5 6 7 8 9 10 11 12 13 14 15 0 1 2 3 4 5 6 0 1 2 3 \n",
      "0 1 2 3 4 5 6 7 8 9 10 11 12 13 14 15 16 17 18 19 20 21 22 23 24 25 26 27 28 29 30 31 32 33 34 35 36 37 38 39 40 41 42 43 44 45 46 47 48 49 50 51 52 53 54 55 56 57 58 59 60 61 62 63 64 65 66 67 68 69 70 71 72 73 74 75 76 77 78 79 80 81 82 83 84 85 86 87 88 89 90 91 92 93 0 1 2 3 4 5 6 7 8 9 10 11 12 13 14 15 16 17 18 19 20 21 22 23 24 25 26 27 28 29 30 31 32 33 34 35 36 37 38 39 40 41 42 43 44 45 46 47 48 49 50 51 52 53 54 55 56 57 0 1 2 3 4 5 6 7 8 9 10 11 12 13 14 15 16 17 18 19 20 21 22 23 24 25 26 27 28 29 30 31 32 33 34 35 36 37 38 39 40 41 42 43 44 45 46 47 48 49 50 51 52 53 54 55 56 57 58 59 60 61 62 63 64 65 66 67 68 69 70 71 72 73 74 75 76 77 0 1 2 3 4 5 6 7 8 9 10 11 12 13 14 15 0 1 2 3 4 5 6 7 8 9 10 11 12 13 14 15 16 17 18 19 20 21 22 23 24 25 26 27 28 29 30 31 32 33 34 35 36 37 38 39 40 41 42 43 44 45 46 47 48 49 50 51 52 53 54 55 56 57 58 59 60 61 62 63 64 65 0 1 2 3 4 5 6 7 8 9 10 11 0 1 2 3 4 5 6 7 8 9 10 11 12 13 14 0 1 2 3 4 5 6 7 8 9 10 11 12 13 14 15 16 17 18 19 20 21 22 23 24 25 26 27 28 29 30 31 32 33 34 35 36 37 38 39 40 41 42 0 1 2 3 4 5 6 7 8 9 10 11 12 13 14 15 16 17 18 19 20 21 22 23 0 1 2 3 4 5 6 0 1 2 3 4 5 6 7 8 9 10 11 12 13 14 15 16 17 18 19 0 1 2 3 4 5 6 7 8 9 10 11 12 13 14 15 16 17 18 19 20 21 22 23 24 25 26 27 28 29 30 0 1 2 3 4 5 6 7 8 9 10 11 0 1 2 3 4 5 6 7 8 9 10 11 12 13 14 0 1 2 3 4 5 6 7 8 9 10 11 12 13 14 15 0 1 2 3 4 5 6 7 8 9 10 11 12 13 14 15 16 17 18 19 20 21 22 23 24 25 26 27 28 29 30 31 32 33 34 0 1 2 3 4 5 6 7 8 9 10 11 12 13 14 15 0 1 2 3 4 5 6 0 1 2 3 0 1 2 3 4 5 6 7 8 9 10 11 12 13 14 15 0 1 2 3 4 5 6 7 8 9 10 11 12 13 14 15 16 17 18 19 20 21 22 23 24 25 26 27 28 29 30 31 \n",
      "0 1 2 3 4 5 6 7 8 9 10 11 12 13 14 15 16 17 18 19 20 21 22 23 24 25 26 27 28 29 30 31 32 33 34 35 36 37 38 39 40 41 42 43 44 45 46 47 48 49 50 51 52 53 54 55 56 57 58 59 60 61 62 63 64 65 66 67 68 69 70 71 72 73 74 75 76 77 78 79 80 81 82 83 84 85 86 87 88 89 90 91 92 93 94 95 96 97 98 99 100 101 102 103 104 105 106 107 108 109 110 111 112 113 114 115 116 117 118 119 120 121 122 123 124 125 126 127 128 129 130 131 132 133 134 135 136 137 138 139 140 141 142 143 144 145 146 147 148 149 150 151 0 1 2 3 4 5 6 7 8 9 10 11 12 13 14 15 16 17 18 19 20 21 22 23 24 25 26 27 28 29 30 31 32 33 34 35 36 37 38 39 40 41 42 43 44 45 46 47 48 49 50 51 52 53 54 55 56 57 58 59 60 61 62 63 64 65 66 67 68 69 70 71 72 73 74 75 76 77 0 1 2 3 4 5 6 7 8 9 10 11 12 13 14 15 16 17 18 19 20 21 22 23 24 25 26 27 28 29 30 31 32 33 34 35 36 37 38 39 40 41 42 43 44 45 46 47 48 49 50 51 52 53 54 55 56 57 58 59 60 61 62 63 64 65 66 67 68 69 70 71 72 73 74 75 76 77 78 79 80 81 0 1 2 3 4 5 6 7 8 9 10 11 12 13 14 15 16 17 18 19 20 21 22 23 24 25 26 0 1 2 3 4 5 6 7 8 9 10 11 12 13 14 15 16 17 18 19 20 21 22 23 24 25 26 27 28 29 30 31 32 33 34 35 36 37 38 39 40 41 42 0 1 2 3 4 5 6 7 8 9 10 11 12 13 14 15 16 17 18 19 20 21 22 23 24 25 26 27 28 29 30 0 1 2 3 4 5 6 7 8 9 10 11 12 13 14 15 16 17 18 19 20 21 22 23 24 25 26 27 28 29 30 31 32 33 34 35 36 37 38 39 40 41 42 43 44 45 46 47 48 49 50 0 1 2 3 4 5 6 7 8 9 10 11 12 13 14 15 16 17 18 19 20 21 22 23 24 25 26 0 1 2 3 4 5 6 7 8 9 10 11 12 13 14 15 16 17 18 19 20 21 22 23 24 25 26 27 28 29 30 31 32 33 34 35 36 37 38 39 40 41 42 43 44 45 46 47 48 49 50 0 1 2 3 4 5 6 7 8 9 10 11 12 13 14 15 16 17 18 19 20 21 22 0 1 2 3 0 1 2 3 4 5 6 7 8 9 10 11 12 13 14 15 16 17 18 19 20 21 22 23 24 25 26 27 28 29 30 31 32 33 34 35 36 37 38 39 40 41 42 43 44 45 46 47 \n",
      "0 1 2 3 4 5 6 7 8 9 10 11 12 13 14 15 16 17 18 19 20 21 22 23 24 25 26 27 28 29 30 31 32 33 34 35 36 37 38 39 40 41 42 43 44 45 46 47 48 49 50 51 52 53 54 55 56 57 58 59 60 61 62 63 64 65 66 67 68 69 70 71 72 73 74 75 76 77 78 79 80 81 82 83 84 85 86 87 88 89 90 91 92 93 94 95 96 97 98 99 100 101 102 103 104 105 106 107 108 109 110 111 112 113 114 115 116 117 118 119 120 121 122 123 124 125 126 127 128 129 130 131 132 133 134 135 136 137 138 139 140 141 142 143 144 145 146 147 148 149 150 151 152 153 154 155 156 157 158 159 160 161 162 163 164 165 166 167 168 169 170 171 172 173 174 175 176 177 178 179 180 181 182 183 184 185 186 187 188 189 190 191 192 193 194 195 196 197 198 199 200 201 202 203 204 205 206 207 208 209 210 211 212 213 214 215 216 217 218 219 220 221 222 223 224 225 226 227 228 229 0 1 2 3 4 5 6 7 8 9 10 11 12 13 14 15 16 17 18 19 20 21 22 23 24 25 26 27 28 29 30 31 32 33 34 35 36 37 38 39 40 41 42 43 44 45 46 47 48 49 50 51 52 53 54 55 56 57 58 59 60 61 62 63 64 65 66 67 68 69 70 71 72 73 74 75 76 77 78 79 80 81 0 1 2 3 4 5 6 7 8 9 10 11 12 13 14 15 16 17 18 19 20 21 22 23 24 25 26 0 1 2 3 4 5 6 7 8 9 10 11 12 13 14 15 16 17 18 19 20 21 22 23 24 25 26 27 28 29 30 31 32 33 34 35 36 37 38 39 40 41 42 43 44 45 46 47 48 49 50 51 52 53 54 55 56 57 58 59 60 61 62 63 64 65 66 67 68 69 70 71 72 73 0 1 2 3 4 5 6 7 8 9 10 11 12 13 14 15 16 17 18 19 20 21 22 23 24 25 26 27 28 29 30 31 32 33 34 35 36 37 38 39 40 41 42 43 44 45 46 47 48 49 50 51 52 53 54 55 56 57 58 59 60 61 62 63 64 65 66 67 68 69 70 71 72 73 74 75 76 77 78 79 80 81 82 83 84 85 86 87 88 89 90 91 92 93 94 95 96 97 98 99 100 101 102 103 104 105 106 107 108 109 110 111 112 113 114 115 116 117 118 119 120 121 122 123 124 125 126 127 128 0 1 2 3 4 5 6 7 8 9 10 11 12 13 14 15 16 17 18 19 20 21 22 23 24 25 26 0 1 2 3 4 5 6 7 8 9 10 11 12 13 14 15 16 17 18 19 20 21 22 23 24 25 26 27 28 29 30 31 32 33 34 35 36 37 38 39 40 41 42 43 44 45 46 47 \n",
      "0 1 2 3 4 5 6 7 8 9 10 11 12 13 14 15 16 17 18 19 20 21 22 23 24 25 26 27 28 29 30 31 32 33 34 35 36 37 38 39 40 41 42 43 44 45 46 47 48 49 50 51 52 53 54 55 56 57 58 59 60 61 62 63 64 65 66 67 68 69 70 71 72 73 74 75 76 77 78 79 80 81 82 83 84 85 86 87 88 89 90 91 92 93 94 95 96 97 98 99 100 101 102 103 104 105 106 107 108 109 110 111 112 113 114 115 116 117 118 119 120 121 122 123 124 125 126 127 128 129 130 131 132 133 134 135 136 137 138 139 140 141 142 143 144 145 146 147 148 149 150 151 152 153 154 155 156 157 158 159 160 161 162 163 164 165 166 167 168 169 170 171 172 173 174 175 176 177 178 179 180 181 182 183 184 185 186 187 188 189 190 191 192 193 194 195 196 197 198 199 200 201 202 203 204 205 206 207 208 209 210 211 212 213 214 215 216 217 218 219 220 221 222 223 224 225 226 227 228 229 230 231 232 233 234 235 236 237 238 239 240 241 242 243 244 245 246 247 248 249 250 251 252 253 254 255 256 257 258 259 260 261 262 263 264 265 266 267 268 269 270 271 272 273 274 275 276 277 278 279 280 281 282 283 284 285 286 287 288 289 290 291 292 293 294 295 296 297 298 299 300 301 302 303 304 305 306 307 308 309 310 311 0 1 2 3 4 5 6 7 8 9 10 11 12 13 14 15 16 17 18 19 20 21 22 23 24 25 26 0 1 2 3 4 5 6 7 8 9 10 11 12 13 14 15 16 17 18 19 20 21 22 23 24 25 26 27 28 29 30 31 32 33 34 35 36 37 38 39 40 41 42 43 44 45 46 47 48 49 50 51 52 53 54 55 56 57 58 59 60 61 62 63 64 65 66 67 68 69 70 71 72 73 0 1 2 3 4 5 6 7 8 9 10 11 12 13 14 15 16 17 18 19 20 21 22 23 24 25 26 27 28 29 30 31 32 33 34 35 36 37 38 39 40 41 42 43 44 45 46 47 48 49 50 51 52 53 54 55 56 57 58 59 60 61 62 63 64 65 66 67 68 69 70 71 72 73 74 75 76 77 78 79 80 81 82 83 84 85 86 87 88 89 90 91 92 93 94 95 96 97 98 99 100 101 102 103 104 105 106 107 108 109 110 111 112 113 114 115 116 117 118 119 120 121 122 123 124 125 126 127 128 129 130 131 132 133 134 135 136 137 138 139 140 141 142 143 144 145 146 147 148 149 150 151 152 153 154 155 156 157 158 159 160 161 162 163 164 165 166 167 168 169 170 171 172 173 174 175 176 177 178 179 180 181 182 183 184 185 186 187 188 189 190 191 192 193 194 195 196 197 198 199 200 201 202 203 \n",
      "0 1 2 3 4 5 6 7 8 9 10 11 12 13 14 15 16 17 18 19 20 21 22 23 24 25 26 27 28 29 30 31 32 33 34 35 36 37 38 39 40 41 42 43 44 45 46 47 48 49 50 51 52 53 54 55 56 57 58 59 60 61 62 63 64 65 66 67 68 69 70 71 72 73 74 75 76 77 78 79 80 81 82 83 84 85 86 87 88 89 90 91 92 93 94 95 96 97 98 99 100 101 102 103 104 105 106 107 108 109 110 111 112 113 114 115 116 117 118 119 120 121 122 123 124 125 126 127 128 129 130 131 132 133 134 135 136 137 138 139 140 141 142 143 144 145 146 147 148 149 150 151 152 153 154 155 156 157 158 159 160 161 162 163 164 165 166 167 168 169 170 171 172 173 174 175 176 177 178 179 180 181 182 183 184 185 186 187 188 189 190 191 192 193 194 195 196 197 198 199 200 201 202 203 204 205 206 207 208 209 210 211 212 213 214 215 216 217 218 219 220 221 222 223 224 225 226 227 228 229 230 231 232 233 234 235 236 237 238 239 240 241 242 243 244 245 246 247 248 249 250 251 252 253 254 255 256 257 258 259 260 261 262 263 264 265 266 267 268 269 270 271 272 273 274 275 276 277 278 279 280 281 282 283 284 285 286 287 288 289 290 291 292 293 294 295 296 297 298 299 300 301 302 303 304 305 306 307 308 309 310 311 312 313 314 315 316 317 318 319 320 321 322 323 324 325 326 327 328 329 330 331 332 333 334 335 336 337 338 0 1 2 3 4 5 6 7 8 9 10 11 12 13 14 15 16 17 18 19 20 21 22 23 24 25 26 27 28 29 30 31 32 33 34 35 36 37 38 39 40 41 42 43 44 45 46 47 48 49 50 51 52 53 54 55 56 57 58 59 60 61 62 63 64 65 66 67 68 69 70 71 72 73 0 1 2 3 4 5 6 7 8 9 10 11 12 13 14 15 16 17 18 19 20 21 22 23 24 25 26 27 28 29 30 31 32 33 34 35 36 37 38 39 40 41 42 43 44 45 46 47 48 49 50 51 52 53 54 55 56 57 58 59 60 61 62 63 64 65 66 67 68 69 70 71 72 73 74 75 76 77 78 79 80 81 82 83 84 85 86 87 88 89 90 91 92 93 94 95 96 97 98 99 100 101 102 103 104 105 106 107 108 109 110 111 112 113 114 115 116 117 118 119 120 121 122 123 124 125 126 127 128 129 130 131 132 133 134 135 136 137 138 139 140 141 142 143 144 145 146 147 148 149 150 151 152 153 154 155 156 157 158 159 160 161 162 163 164 165 166 167 168 169 170 171 172 173 174 175 176 177 178 179 180 181 182 183 184 185 186 187 188 189 190 191 192 193 194 195 196 197 198 199 200 201 202 203 \n",
      "0 1 2 3 4 5 6 7 8 9 10 11 12 13 14 15 16 17 18 19 20 21 22 23 24 25 26 27 28 29 30 31 32 33 34 35 36 37 38 39 40 41 42 43 44 45 46 47 48 49 50 51 52 53 54 55 56 57 58 59 60 61 62 63 64 65 66 67 68 69 70 71 72 73 74 75 76 77 78 79 80 81 82 83 84 85 86 87 88 89 90 91 92 93 94 95 96 97 98 99 100 101 102 103 104 105 106 107 108 109 110 111 112 113 114 115 116 117 118 119 120 121 122 123 124 125 126 127 128 129 130 131 132 133 134 135 136 137 138 139 140 141 142 143 144 145 146 147 148 149 150 151 152 153 154 155 156 157 158 159 160 161 162 163 164 165 166 167 168 169 170 171 172 173 174 175 176 177 178 179 180 181 182 183 184 185 186 187 188 189 190 191 192 193 194 195 196 197 198 199 200 201 202 203 204 205 206 207 208 209 210 211 212 213 214 215 216 217 218 219 220 221 222 223 224 225 226 227 228 229 230 231 232 233 234 235 236 237 238 239 240 241 242 243 244 245 246 247 248 249 250 251 252 253 254 255 256 257 258 259 260 261 262 263 264 265 266 267 268 269 270 271 272 273 274 275 276 277 278 279 280 281 282 283 284 285 286 287 288 289 290 291 292 293 294 295 296 297 298 299 300 301 302 303 304 305 306 307 308 309 310 311 312 313 314 315 316 317 318 319 320 321 322 323 324 325 326 327 328 329 330 331 332 333 334 335 336 337 338 339 340 341 342 343 344 345 346 347 348 349 350 351 352 353 354 355 356 357 358 359 360 361 362 363 364 365 366 367 368 369 370 371 372 373 374 375 376 377 378 379 380 381 382 383 384 385 386 387 388 389 390 391 392 393 394 395 396 397 398 399 400 401 402 403 404 405 406 407 408 409 410 411 412 0 1 2 3 4 5 6 7 8 9 10 11 12 13 14 15 16 17 18 19 20 21 22 23 24 25 26 27 28 29 30 31 32 33 34 35 36 37 38 39 40 41 42 43 44 45 46 47 48 49 50 51 52 53 54 55 56 57 58 59 60 61 62 63 64 65 66 67 68 69 70 71 72 73 74 75 76 77 78 79 80 81 82 83 84 85 86 87 88 89 90 91 92 93 94 95 96 97 98 99 100 101 102 103 104 105 106 107 108 109 110 111 112 113 114 115 116 117 118 119 120 121 122 123 124 125 126 127 128 129 130 131 132 133 134 135 136 137 138 139 140 141 142 143 144 145 146 147 148 149 150 151 152 153 154 155 156 157 158 159 160 161 162 163 164 165 166 167 168 169 170 171 172 173 174 175 176 177 178 179 180 181 182 183 184 185 186 187 188 189 190 191 192 193 194 195 196 197 198 199 200 201 202 203 \n",
      "0 1 2 3 4 5 6 7 8 9 10 11 12 13 14 15 16 17 18 19 20 21 22 23 24 25 26 27 28 29 30 31 32 33 34 35 36 37 38 39 40 41 42 43 44 45 46 47 48 49 50 51 52 53 54 55 56 57 58 59 60 61 62 63 64 65 66 67 68 69 70 71 72 73 74 75 76 77 78 79 80 81 82 83 84 85 86 87 88 89 90 91 92 93 94 95 96 97 98 99 100 101 102 103 104 105 106 107 108 109 110 111 112 113 114 115 116 117 118 119 120 121 122 123 124 125 126 127 128 129 130 131 132 133 134 135 136 137 138 139 140 141 142 143 144 145 146 147 148 149 150 151 152 153 154 155 156 157 158 159 160 161 162 163 164 165 166 167 168 169 170 171 172 173 174 175 176 177 178 179 180 181 182 183 184 185 186 187 188 189 190 191 192 193 194 195 196 197 198 199 200 201 202 203 204 205 206 207 208 209 210 211 212 213 214 215 216 217 218 219 220 221 222 223 224 225 226 227 228 229 230 231 232 233 234 235 236 237 238 239 240 241 242 243 244 245 246 247 248 249 250 251 252 253 254 255 256 257 258 259 260 261 262 263 264 265 266 267 268 269 270 271 272 273 274 275 276 277 278 279 280 281 282 283 284 285 286 287 288 289 290 291 292 293 294 295 296 297 298 299 300 301 302 303 304 305 306 307 308 309 310 311 312 313 314 315 316 317 318 319 320 321 322 323 324 325 326 327 328 329 330 331 332 333 334 335 336 337 338 339 340 341 342 343 344 345 346 347 348 349 350 351 352 353 354 355 356 357 358 359 360 361 362 363 364 365 366 367 368 369 370 371 372 373 374 375 376 377 378 379 380 381 382 383 384 385 386 387 388 389 390 391 392 393 394 395 396 397 398 399 400 401 402 403 404 405 406 407 408 409 410 411 412 413 414 415 416 417 418 419 420 421 422 423 424 425 426 427 428 429 430 431 432 433 434 435 436 437 438 439 440 441 442 443 444 445 446 447 448 449 450 451 452 453 454 455 456 457 458 459 460 461 462 463 464 465 466 467 468 469 470 471 472 473 474 475 476 477 478 479 480 481 482 483 484 485 486 487 488 489 490 491 492 493 494 495 496 497 498 499 500 501 502 503 504 505 506 507 508 509 510 511 512 513 514 515 516 517 518 519 520 521 522 523 524 525 526 527 528 529 530 531 532 533 534 535 536 537 538 539 540 541 542 543 544 545 546 547 548 549 550 551 552 553 554 555 556 557 558 559 560 561 562 563 564 565 566 567 568 569 570 571 572 573 574 575 576 577 578 579 580 581 582 583 584 585 586 587 588 589 590 591 592 593 594 595 596 597 598 599 600 601 602 603 604 605 606 607 608 609 610 611 612 613 614 615 616 \n",
      "All tests passed (10 points)!\n"
     ]
    }
   ],
   "source": [
    "def checkMemoTblTargetSum(a, tgt, expected):\n",
    "    T = memoTargetSum(a, tgt)\n",
    "    for i in range(len(a)+1):\n",
    "        for j in range(tgt+1):\n",
    "            assert (i, j) in T, f'Memo table fails to have entry for i, j = {(i, j)}'\n",
    "    assert T[(0,tgt)] == expected, f'Expected answer = {expected}, your code returns {T[(0, tgt)]}'\n",
    "    return \n",
    "\n",
    "print('--test 1--')\n",
    "a1 = [1, 2, 3, 4, 5, 10]\n",
    "print(a1, 15)\n",
    "checkMemoTblTargetSum(a1, 15, 0)\n",
    "\n",
    "print('--test 2--')\n",
    "a2= [1, 2, 3, 4, 5, 10]\n",
    "print(a2, 26)\n",
    "checkMemoTblTargetSum(a2, 26, 1)\n",
    "\n",
    "print('--test3--')\n",
    "a3= [11, 23, 37, 48, 94, 152, 230, 312, 339, 413]\n",
    "print(a3, 457)\n",
    "checkMemoTblTargetSum(a3, 457, 1)\n",
    "\n",
    "print('--test4--')\n",
    "print(a3, 512)\n",
    "checkMemoTblTargetSum(a3, 512, 0)\n",
    "\n",
    "print('--test5--')\n",
    "print(a3, 616)\n",
    "checkMemoTblTargetSum(a3, 616, 1)\n",
    "print('All tests passed (10 points)!')\n"
   ]
  },
  {
   "cell_type": "markdown",
   "metadata": {
    "deletable": false,
    "editable": false,
    "nbgrader": {
     "cell_type": "markdown",
     "checksum": "57aa12c24e4d73e14e45401931cabbae",
     "grade": false,
     "grade_id": "cell-1c36c654c2578daa",
     "locked": true,
     "schema_version": 3,
     "solution": false,
     "task": false
    }
   },
   "source": [
    "## Part (C)\n",
    "\n",
    "Modify your code in part B to record additional information so that you can recover the solution.\n",
    "Implement a function `getBestTargetSum(S, tgt)` that returns a new sub list `T` of `S` so that the sum of elements of `T` is less than or equal to `tgt` and is as close as possible to `tgt`.\n"
   ]
  },
  {
   "cell_type": "code",
   "execution_count": 186,
   "metadata": {
    "deletable": false,
    "nbgrader": {
     "cell_type": "code",
     "checksum": "f40c788ab5601fbdf7f3c3d381d51a5a",
     "grade": false,
     "grade_id": "cell-60dcc8c2490b23da",
     "locked": false,
     "schema_version": 3,
     "solution": true,
     "task": false
    }
   },
   "outputs": [],
   "source": [
    "def getBestTargetSum(S, tgt):\n",
    "    k = len(S)\n",
    "    assert tgt >= 0\n",
    "    # your code here\n",
    "    ## Fill in base case for T[(i,j)] where i == k\n",
    "    T = {} # Memo table initialized as empty dictionary\n",
    "    path_info = {}\n",
    "    for j in range(tgt + 1):\n",
    "        T[(k,j)] = j\n",
    "    \n",
    "    res = []\n",
    "\n",
    "    for i in range(k-1, -1, -1):\n",
    "        # for j in range(tgt, -1, -1):\n",
    "        for j in range(tgt + 1):\n",
    "        \n",
    "            if j - S[i] >= 0:\n",
    "                T[(i, j)] = min(T[(i + 1, j - S[i])], T[(i + 1, j)])\n",
    "                if T[(i + 1, j - S[i])] < T[(i + 1, j)]:\n",
    "                    path_info[(i, j)] = (i + 1, j - S[i])\n",
    "                else:\n",
    "                    path_info[(i, j)] = (i + 1, j)\n",
    "                    \n",
    "            else:\n",
    "                T[(i, j)] = T[(i + 1, j)]\n",
    "                path_info[(i, j)] = (i + 1, j)\n",
    "\n",
    "    # print T\n",
    "    # for i in range(k):\n",
    "    #     for j in range(tgt + 1):\n",
    "    #         print(path_info[(i, j)], end=' ')\n",
    "    #     print('')\n",
    "\n",
    "    for i in range(k):\n",
    "        while j >= 0:\n",
    "            if path_info[(i, j)] == (i + 1, j - S[i]):\n",
    "                res.append(S[i])\n",
    "                j = j - S[i]\n",
    "                break\n",
    "            else: \n",
    "                break\n",
    "            \n",
    "        \n",
    "        \n",
    "    \n",
    "    return res"
   ]
  },
  {
   "cell_type": "code",
   "execution_count": 187,
   "metadata": {
    "deletable": false,
    "editable": false,
    "nbgrader": {
     "cell_type": "code",
     "checksum": "698e0f1bf672540f993cc9f1e2219eec",
     "grade": true,
     "grade_id": "cell-6f68c556faf759c0",
     "locked": true,
     "points": 15,
     "schema_version": 3,
     "solution": false,
     "task": false
    }
   },
   "outputs": [
    {
     "name": "stdout",
     "output_type": "stream",
     "text": [
      "--test 1--\n",
      "[1, 2, 3, 4, 5, 10] 15\n",
      "Your result: [5, 10]\n",
      "--test 2--\n",
      "[1, 8, 3, 4, 5, 12] 26\n",
      "Your result: [3, 12]\n"
     ]
    },
    {
     "ename": "AssertionError",
     "evalue": "Your code returns result that sums up to 15, expected was 0",
     "output_type": "error",
     "traceback": [
      "\u001b[0;31m---------------------------------------------------------------------------\u001b[0m",
      "\u001b[0;31mAssertionError\u001b[0m                            Traceback (most recent call last)",
      "Cell \u001b[0;32mIn[187], line 26\u001b[0m\n\u001b[1;32m     24\u001b[0m a2 \u001b[38;5;241m=\u001b[39m [\u001b[38;5;241m1\u001b[39m, \u001b[38;5;241m8\u001b[39m, \u001b[38;5;241m3\u001b[39m, \u001b[38;5;241m4\u001b[39m, \u001b[38;5;241m5\u001b[39m, \u001b[38;5;241m12\u001b[39m]\n\u001b[1;32m     25\u001b[0m \u001b[38;5;28mprint\u001b[39m(a2, \u001b[38;5;241m26\u001b[39m)\n\u001b[0;32m---> 26\u001b[0m \u001b[43mcheckTgtSumRes\u001b[49m\u001b[43m(\u001b[49m\u001b[43ma2\u001b[49m\u001b[43m,\u001b[49m\u001b[43m \u001b[49m\u001b[38;5;241;43m26\u001b[39;49m\u001b[43m,\u001b[49m\u001b[43m \u001b[49m\u001b[38;5;241;43m0\u001b[39;49m\u001b[43m)\u001b[49m\n\u001b[1;32m     28\u001b[0m \u001b[38;5;28mprint\u001b[39m(\u001b[38;5;124m'\u001b[39m\u001b[38;5;124m--test 3--\u001b[39m\u001b[38;5;124m'\u001b[39m)\n\u001b[1;32m     29\u001b[0m a3 \u001b[38;5;241m=\u001b[39m [\u001b[38;5;241m8\u001b[39m, \u001b[38;5;241m3\u001b[39m, \u001b[38;5;241m2\u001b[39m, \u001b[38;5;241m4\u001b[39m, \u001b[38;5;241m5\u001b[39m, \u001b[38;5;241m7\u001b[39m, \u001b[38;5;241m12\u001b[39m]\n",
      "Cell \u001b[0;32mIn[187], line 6\u001b[0m, in \u001b[0;36mcheckTgtSumRes\u001b[0;34m(a, tgt, expected)\u001b[0m\n\u001b[1;32m      4\u001b[0m res \u001b[38;5;241m=\u001b[39m \u001b[38;5;28msorted\u001b[39m(res)\n\u001b[1;32m      5\u001b[0m \u001b[38;5;28mprint\u001b[39m(\u001b[38;5;124m'\u001b[39m\u001b[38;5;124mYour result:\u001b[39m\u001b[38;5;124m'\u001b[39m , res)\n\u001b[0;32m----> 6\u001b[0m \u001b[38;5;28;01massert\u001b[39;00m tgt \u001b[38;5;241m-\u001b[39m \u001b[38;5;28msum\u001b[39m(res)  \u001b[38;5;241m==\u001b[39m expected, \u001b[38;5;124mf\u001b[39m\u001b[38;5;124m'\u001b[39m\u001b[38;5;124mYour code returns result that sums up to \u001b[39m\u001b[38;5;132;01m{\u001b[39;00m\u001b[38;5;28msum\u001b[39m(res)\u001b[38;5;132;01m}\u001b[39;00m\u001b[38;5;124m, expected was \u001b[39m\u001b[38;5;132;01m{\u001b[39;00mexpected\u001b[38;5;132;01m}\u001b[39;00m\u001b[38;5;124m'\u001b[39m\n\u001b[1;32m      7\u001b[0m i \u001b[38;5;241m=\u001b[39m \u001b[38;5;241m0\u001b[39m\n\u001b[1;32m      8\u001b[0m j \u001b[38;5;241m=\u001b[39m \u001b[38;5;241m0\u001b[39m\n",
      "\u001b[0;31mAssertionError\u001b[0m: Your code returns result that sums up to 15, expected was 0"
     ]
    }
   ],
   "source": [
    "def checkTgtSumRes(a, tgt,expected):\n",
    "    a = sorted(a)\n",
    "    res = getBestTargetSum(a, tgt)\n",
    "    res = sorted(res)\n",
    "    print('Your result:' , res)\n",
    "    assert tgt - sum(res)  == expected, f'Your code returns result that sums up to {sum(res)}, expected was {expected}'\n",
    "    i = 0\n",
    "    j = 0\n",
    "    n = len(a)\n",
    "    m = len(res)\n",
    "    while (i < n and j < m):\n",
    "        if a[i] == res[j]: \n",
    "            j = j + 1\n",
    "        i = i + 1\n",
    "    assert j == m, 'Your result  {res} is not a subset of {a}'\n",
    "\n",
    "\n",
    "print('--test 1--')\n",
    "a1 = [1, 2, 3, 4, 5, 10]\n",
    "print(a1, 15)\n",
    "checkTgtSumRes(a1, 15, 0)\n",
    "\n",
    "print('--test 2--')\n",
    "a2 = [1, 8, 3, 4, 5, 12]\n",
    "print(a2, 26)\n",
    "checkTgtSumRes(a2, 26, 0)\n",
    "\n",
    "print('--test 3--')\n",
    "a3 = [8, 3, 2, 4, 5, 7, 12]\n",
    "print(a3, 38)\n",
    "checkTgtSumRes(a3, 38, 0)\n",
    "\n",
    "print('--test 4 --')\n",
    "a4 = sorted([1, 10, 19, 18, 12, 11, 0, 9,  16, 17, 2, 7, 14, 29, 38, 45, 13, 26, 51, 82, 111, 124, 135, 189])\n",
    "print(a4)\n",
    "checkTgtSumRes(a4, 155, 0)\n",
    "print('--test 5--')\n",
    "checkTgtSumRes(a4, 189, 0)\n",
    "\n",
    "print('--test 7--')\n",
    "checkTgtSumRes(a4, 347, 0)\n",
    "\n",
    "print('--test 8--')\n",
    "checkTgtSumRes(a4, 461, 0)\n",
    "\n",
    "\n",
    "print('--test 9--')\n",
    "checkTgtSumRes(a4, 462, 0)\n",
    "\n",
    "\n",
    "print('--test 9--')\n",
    "checkTgtSumRes(a4, 517, 0)\n",
    "\n",
    "\n",
    "print('--test 10--')\n",
    "checkTgtSumRes(a4, 975, 3)\n",
    "\n",
    "print('All Tests Passed (15 points)')\n",
    "\n"
   ]
  },
  {
   "cell_type": "markdown",
   "metadata": {
    "deletable": false,
    "editable": false,
    "nbgrader": {
     "cell_type": "markdown",
     "checksum": "de3f8bf321213a8c6334371fd269b534",
     "grade": false,
     "grade_id": "cell-5d88b4169e6907e1",
     "locked": true,
     "schema_version": 3,
     "solution": false,
     "task": false
    }
   },
   "source": [
    "## That's All Folks!"
   ]
  }
 ],
 "metadata": {
  "kernelspec": {
   "display_name": "Python 3",
   "language": "python",
   "name": "python3"
  },
  "language_info": {
   "codemirror_mode": {
    "name": "ipython",
    "version": 3
   },
   "file_extension": ".py",
   "mimetype": "text/x-python",
   "name": "python",
   "nbconvert_exporter": "python",
   "pygments_lexer": "ipython3",
   "version": "3.9.6"
  }
 },
 "nbformat": 4,
 "nbformat_minor": 5
}
