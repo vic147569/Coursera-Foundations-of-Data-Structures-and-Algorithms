{
 "cells": [
  {
   "cell_type": "code",
   "execution_count": null,
   "metadata": {
    "ExecuteTime": {
     "end_time": "2023-10-06T17:14:38.855139Z",
     "start_time": "2023-10-06T17:14:38.844459Z"
    }
   },
   "outputs": [],
   "source": [
    "try:\n",
    "    %load_ext autotime\n",
    "except:\n",
    "    %pip install ipython-autotime\n",
    "    %load_ext autotime\n"
   ]
  },
  {
   "cell_type": "markdown",
   "metadata": {},
   "source": [
    "# Vertex Cover Problem\n",
    "\n",
    "Consider an undirected graph $G$ with vertices $V = \\{ 1, \\ldots, n \\}$ and undirected edges $E$. Since the graph is undirected, we  consider edges $(i,j)$ and $(j,i)$ to be the _same_.\n",
    "\n",
    " [!WARNING]\n",
    " Vertex Cover: A  vertex cover  of the graph is a subset $C \\subseteq V$ such that every edge $e \\in V$ has at least one of its end points in the set $C$.\n",
    "    \n",
    "\n",
    "Note that the entire vertex set $V$ is trivially a vertex cover. The vertex cover problem asks for the smallest size (cardinality) vertex cover for a given undirected graph $G$. \n",
    " \n",
    " [!WARNING]\n",
    " As a practical application, consider an advertiser who wishes to have advertisements on facebook or similar social media platform. They wish each person on the platform to see their ad but it is expensive to advertise to everyone. As it turns out, if they advertise to a person then all their friends on the platform get to see that ad as well in their timelines. Let's assume that everyone is friends with at least one other person. Thus, the company wishes to find the minimum set of people who are friends with everyone on the platform. One way to do it is to compute a vertex cover and advertise just to those people so that everyone is covered.\n",
    "\n",
    "\n",
    "We have seen previously that the problem is NP-complete and can be solved in many ways including a reduction to integer linear programming. \n",
    "\n",
    "Here, we consider fast algorithms for computing an approximate vertex cover and our natural choice is to consider greedy algorithms.\n",
    "\n",
    "\n",
    "## Example\n",
    "\n",
    "<div class=\"alert alert-block\" style=\"border-style: solid; border-width: 2px; border-color: white  white white green;\" >\n",
    "    \n",
    "Consider the example below where we show a graph with five nodes and the nodes in the vertex cover shaded in orange. In fact, the set $\\{ 1, 4, 5\\}$ is a vertex cover but there is in fact a smaller vertex cover consisting just the nodes $\\{4, 5\\}$.\n",
    "\n",
    "</div>"
   ]
  },
  {
   "cell_type": "code",
   "execution_count": null,
   "metadata": {
    "ExecuteTime": {
     "end_time": "2023-10-06T17:14:39.613218Z",
     "start_time": "2023-10-06T17:14:38.858251Z"
    }
   },
   "outputs": [],
   "source": [
    "import networkx as nx\n",
    "from matplotlib import pyplot as plt\n",
    "from pylab import rcParams\n",
    "\n",
    "# Use matplotlib and networkx to plot graphs with a designated\n",
    "# vertex cover passed in as a list of vertices.\n",
    "# n: number of vertices\n",
    "# edge_list: list of edges. please ensure that if edge (i,j) \n",
    "#            is present then (j,i) is not. We will not be checking this.\n",
    "# vert_cover: list of vertices in the cover to highlight in orange.\n",
    "# All nodes will be plotted in blue with vertex cover highlighted in orange.\n",
    "def plot_graph_with_vc(n, edge_list, vert_cover):\n",
    "    g = nx.Graph()\n",
    "    g.add_edges_from(edge_list)\n",
    "    pos = nx.spring_layout(g)  # positions for all nodes\n",
    "    not_vert_cover = [i for i in range(1, n+1) if i not in vert_cover]\n",
    "    plt.figure(1)\n",
    "    nx.draw_networkx_nodes(g, pos, nodelist=vert_cover,  node_color=\"tab:orange\")\n",
    "    nx.draw_networkx_nodes(g, pos, nodelist=not_vert_cover,  node_color=\"tab:blue\")\n",
    "    nx.draw_networkx_edges(g, pos, edgelist=edge_list)\n",
    "    nx.draw_networkx_labels(g, pos, font_size=12, font_color=\"whitesmoke\")\n",
    "    plt.show()\n",
    "    "
   ]
  },
  {
   "cell_type": "code",
   "execution_count": null,
   "metadata": {
    "ExecuteTime": {
     "end_time": "2023-10-06T17:14:39.783142Z",
     "start_time": "2023-10-06T17:14:39.615205Z"
    }
   },
   "outputs": [],
   "source": [
    "edge_list=[ (1,4), (1,5), (2,5), (2,4), (3,4), (4,5)]\n",
    "vert_cover = [1,  4, 5]\n",
    "plot_graph_with_vc(5, edge_list, vert_cover)"
   ]
  },
  {
   "cell_type": "code",
   "execution_count": null,
   "metadata": {
    "ExecuteTime": {
     "end_time": "2023-10-06T17:14:39.935580Z",
     "start_time": "2023-10-06T17:14:39.784988Z"
    }
   },
   "outputs": [],
   "source": [
    "edge_list=[ (1,4), (1,5), (2,5), (2,4), (3,4), (4,5)]\n",
    "smaller_vert_cover = [4, 5]\n",
    "plot_graph_with_vc(5, edge_list, smaller_vert_cover)"
   ]
  },
  {
   "cell_type": "markdown",
   "metadata": {},
   "source": [
    "## Integer Linear Programming Formulation for Vertex Cover\n",
    "\n",
    "We will present an integer linear programming formulation of the vertex cover problem. Let $G$ be a graph with vertices $V= \\{ 1, \\ldots, n \\}$ and undirected edges $E$. The edges $(i,j)$ and $(j,i)$ are taken to be the same.\n",
    "\n",
    "We will assume familiarity with the PuLP solver from previous lesson on linear programming.\n",
    "\n",
    "### Decision Variables\n",
    "\n",
    "We will have $n$ decision variables $w_1, \\ldots, w_n$ that will be binary variables: they will have values in $\\{0, 1\\}$.  $w_i = 1$ indicates that the vertex $i$ is chosen as part of the cover and $w_i = 0$ tells us that it is not.\n",
    "\n",
    "To declare a variable as binary in pulp, we simply use the following approach:\n",
    "~~~\n",
    "wi = LpVariable('w_i', cat='Binary')\n",
    "~~~\n",
    "\n",
    "### Objective Function\n",
    "\n",
    "With the decision variables fixed as above, the objective is simply\n",
    "\n",
    "$$ \\min w_1 + \\cdots + w_n $$\n",
    "\n",
    "We are minimizing the total over the binary variables which simply gives us the size of the cover.\n",
    "\n",
    "### Constraints\n",
    "\n",
    "The key constraints are that (a) $w_1,\\ldots, w_n$ are binary (already mentioned above) and (b) for every edge $(i,j)$ at least one of $i,j$ must be in the cover. In other words, at least one of $w_i, w_j$ must be $1$. The inequalities take care of this requirement:\n",
    "\n",
    "$$ w_i + w_j \\geq 1,\\ \\text{for all edges}\\ (i,j) \\in E$$\n",
    "\n",
    "\n",
    "### Putting it all together\n",
    "\n",
    "The overall ILP is \n",
    "\n",
    "$$ \\begin{array}{rl}\n",
    "\\max & \\sum_{j=1}^n w_j \\\\ \n",
    "\\mathsf{s.t.} & w_i + w_j \\geq 1\\ \\text{for all edges}\\ (i,j) \\in E \\\\ \n",
    "& w_i \\in \\{ 0, 1\\}\\ \\text{for all}\\ i = 1, \\ldots, n \\\\ \n",
    "\\end{array}$$"
   ]
  },
  {
   "cell_type": "code",
   "execution_count": null,
   "metadata": {
    "ExecuteTime": {
     "end_time": "2023-10-06T17:14:40.006178Z",
     "start_time": "2023-10-06T17:14:39.940132Z"
    }
   },
   "outputs": [],
   "source": [
    "from pulp import *\n",
    "\n",
    "\n",
    "def compute_optimal_vertex_cover(n, edge_list):\n",
    "    # Create a problem -- indicate that we will minimize the objectives\n",
    "    prob = LpProblem('vert_cover', LpMinimize)\n",
    "    # Add all the decision vars (we do this using comprehensions in Python but you could write a for-loop as well)\n",
    "    dvars = [LpVariable(f'w_{i}', cat='Binary') for i in range(1, n+1)]\n",
    "    # Note that lpSum is defined in Pulp and it simply takes the sum of all variables in a list of vars.\n",
    "    prob += lpSum(dvars) # minimize the sum of the variables\n",
    "    for (i, j) in edge_list: # go through each edge in the list\n",
    "        assert 1 <= i <= n \n",
    "        assert 1 <= j <= n\n",
    "        prob += dvars[i-1] + dvars[j-1] >= 1 # add the constraint -- wi + wj >= 1 -- indexing in python starts from 0 and thus we require the -1\n",
    "    stat = prob.solve() # solve the problem\n",
    "    assert stat == LpStatusOptimal, 'Problem does not have optimal status -- something went wrong -- this should not happen for this problem'\n",
    "    vert_cover = [i+1 for i in range(n) if dvars[i].varValue > 0 ]\n",
    "    return vert_cover"
   ]
  },
  {
   "cell_type": "code",
   "execution_count": null,
   "metadata": {
    "ExecuteTime": {
     "end_time": "2023-10-06T17:14:40.198926Z",
     "start_time": "2023-10-06T17:14:40.008666Z"
    }
   },
   "outputs": [],
   "source": [
    "edge_list=[ (1,4), (1,5), (2,5), (2,4), (3,4), (4,5)]\n",
    "opt_vcover = compute_optimal_vertex_cover(5, edge_list)\n",
    "print(opt_vcover)\n",
    "print(f'Optimal vertex cover has {len(opt_vcover)} vertices: {opt_vcover}')\n",
    "plot_graph_with_vc(5, edge_list, opt_vcover)"
   ]
  },
  {
   "cell_type": "code",
   "execution_count": null,
   "metadata": {
    "ExecuteTime": {
     "end_time": "2023-10-06T17:14:40.372616Z",
     "start_time": "2023-10-06T17:14:40.202933Z"
    }
   },
   "outputs": [],
   "source": [
    "edge_list=[ (1,4), (1,5), (2,5), (2,4), (3,4), (4,5),(1,8),(2,7), (7,8),(4,6), (5,7), (6,8), (3,1)]\n",
    "vcover = compute_optimal_vertex_cover(8, edge_list)\n",
    "plot_graph_with_vc(8, edge_list, vcover)"
   ]
  },
  {
   "cell_type": "code",
   "execution_count": null,
   "metadata": {
    "ExecuteTime": {
     "end_time": "2023-10-06T17:14:40.870192Z",
     "start_time": "2023-10-06T17:14:40.375047Z"
    }
   },
   "outputs": [],
   "source": [
    "from random import randint\n",
    "# graph with 40 vertices and 240 edges\n",
    "n = 40\n",
    "edge_list = [ ]\n",
    "for _ in range(240):\n",
    "    i = randint(1, n)\n",
    "    j = randint(1, n)\n",
    "    if i == 0 or j == 0 or i == j or (i,j) in edge_list or (j,i) in edge_list: \n",
    "        continue\n",
    "    edge_list.append((i,j))\n",
    "\n",
    "vcover = compute_optimal_vertex_cover(n, edge_list)\n",
    "print(f'Size of cover: {len(vcover)} consisting of vertices {vcover}')\n",
    "plot_graph_with_vc(n, edge_list, vcover)"
   ]
  },
  {
   "cell_type": "markdown",
   "metadata": {},
   "source": [
    "## That's All Folks"
   ]
  }
 ],
 "metadata": {
  "kernelspec": {
   "display_name": "Python 3",
   "language": "python",
   "name": "python3"
  },
  "language_info": {
   "codemirror_mode": {
    "name": "ipython",
    "version": 3
   },
   "file_extension": ".py",
   "mimetype": "text/x-python",
   "name": "python",
   "nbconvert_exporter": "python",
   "pygments_lexer": "ipython3",
   "version": "3.9.6"
  }
 },
 "nbformat": 4,
 "nbformat_minor": 5
}
