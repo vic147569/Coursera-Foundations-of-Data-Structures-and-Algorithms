{
 "cells": [
  {
   "cell_type": "code",
   "execution_count": null,
   "metadata": {
    "ExecuteTime": {
     "end_time": "2023-10-14T20:16:56.562842Z",
     "start_time": "2023-10-14T20:16:56.535563Z"
    }
   },
   "outputs": [],
   "source": [
    "try:\n",
    "    %load_ext autotime\n",
    "except:\n",
    "    %pip install ipython-autotime\n",
    "    %load_ext autotime"
   ]
  },
  {
   "cell_type": "markdown",
   "metadata": {},
   "source": [
    "# Exact Approaches for Solving TSPs\n",
    "\n",
    "We will go over some exact approaches including the famous Held-Karp algorithm, followed by some approaches based on integer linear programs.\n",
    "\n",
    "Recall that a TSP instance consists of a complete weighted directed graph with $n$ nodes. Here a graph is complete if for all pairs of vertices $i, j$ with $i \\not= j$, the edges $(i,j)$ and $(j,i)$ exist. The edge $(i,j)$ is associated with a cost $c_{ij}$. \n",
    "\n",
    "Note that an instance is symmetric if $c_{ij} = c_{ji}$ for all pairs $i,j$. The exact approaches below work on general, possibly asymmetric TSPs.\n",
    "\n",
    "\n",
    "A simple _brute force_ approach works as follows:\n",
    "  - Go through all possible permutations of the numbers $1, \\ldots, n$: there are $n!$ such permutations.\n",
    "  - Each permutation denotes a possible TSP tour. Compute its cost by summing up all the edge weights.\n",
    "  - Retain the permutation with the minimum cost.\n",
    "  \n",
    "The algorithm is simple, but its running time is $O(n \\times n!)$. This is because we go through $n!$ permutations in total with each permutation requiring $O(n)$ time to compute its cost.\n",
    "\n",
    "Can we do better than the brute force approach above? Indeed: we will now look at a dynamic programming algorithm by Held and Karp which solves the problem in time $O(n^2 2^n)$ for an instance with $n$ nodes."
   ]
  },
  {
   "cell_type": "markdown",
   "metadata": {},
   "source": [
    "## Held and Karp's Algorithm\n",
    "\n",
    "This algorithm was proposed by Bellman (who pioneered dynamic programming) and Held and Karp in 1962: \n",
    "\n",
    "<div class=\"alert alert-block alert-info\" style=\"border-color:white white white black\">\n",
    "\n",
    "Richard Bellman, Dynamic programming treatment of the travelling salesman problem, J. Assoc. Comput. Mach., 9 (1962), 61–63\n",
    "\n",
    "<p>\n",
    "    \n",
    "Michael Held and Richard M. Karp, \"A dynamic programming approach to sequencing problems\",  Journal for the Society for Industrial and Applied Mathematics (1962), 1-10.\n",
    "</div>\n",
    "\n",
    "\n",
    "The key idea is to think of constructing a TSP tour in terms of _combinations_ (where we try to delay specifying the precise order in which nodes are visited, as much as possible) rather than _permutations_. To do so, it is convenient to think about paths rather than cycles. \n",
    "\n",
    "The key idea is to express a TSP tour in terms of finding paths through a set of nodes ending at a designated vertex. Once we do that, we develop a dynamic programming algorithm.\n",
    "\n",
    "Note that Held-Karp algorithm works for arbitrary TSPs.\n",
    "\n",
    "### Basic Idea Behind Held-Karp Algorithm\n",
    "\n",
    "The first step is to think about a TSP tour as follows: \n",
    "  - We arbitrarily designate vertex $1$ as the \"start\" and \"end\" points of the tour. A different node can be chosen instead of $1$ but it does not matter to the overall operation of the algorithm.\n",
    "  - Next, we think of the TSP tour as starting from vertex $1$, and a path that visits the vertices in the set $\\{2, \\ldots, n-1\\}$ precisely once and returning back to vertex $1$. \n",
    "  \n",
    "Let $S$ be a subset of vertices $\\{2, \\ldots, n\\}$ and $e \\not\\in S$ be a designated vertex (assume $e \\not= 1$):\n",
    "\n",
    "$\\renewcommand\\minCostPath{\\mathsf{minCostPath}}$\n",
    "Let us introduce  $\\minCostPath(S, e)$ as the cost of the shortest path in the graph that satisfies the following constraints:\n",
    "  - The path starts from vertex $1$, \n",
    "  - The path visits each of the vertices in $S$ _precisely_ once, \n",
    "  - The path visits vertex $e$ and stops.\n",
    "  \n",
    "If we can compute $\\minCostPath(S, e)$ for any subset $S \\subseteq \\{2, \\ldots, n-1\\}$ and vertex $e$ such that $e \\not= 1$ and $e \\not\\in S$ then we can solve the original minimum cost TSP tour using $\\minCostPath$.\n",
    "\n",
    "$\\renewcommand\\minTSP{\\mathsf{minTSP}}$\n",
    "Let $\\minTSP(n, C )$ be the minimum TSP tour on an instance given by a complete graph of size $n$ and costs given by a  matrix $C$, where $C_{ij}$ is the cost of going fron $i$ to $j$. We need not assume that the TSP is symmetric. I.e, $C_{i,j}$ need not be the same as $C_{j,i}$, in general.\n",
    "\n",
    "The following equation relates the cost of the optimal TSP tour against the minimum path cost.\n",
    "\n",
    "$$\\minTSP(n, C) = \\min_{e=2}^n \\left\\{  \\minCostPath\\left(\\{2, 3, \\ldots, n\\} \\setminus \\{e\\}, e\\right) + C_{e,1} \\right\\} $$\n",
    "\n",
    "In other words, to compute the minimum TSP tour, just run through end points $e = 2, \\ldots, n$ and \n",
    "  1. Find a minimum cost path that goes through all nodes $2, \\ldots, n$ other than $e$, and ends at $e$,\n",
    "  2. Add the value of $C_{e,1}$ to return back to node $1$.\n",
    "\n",
    "The minimum value of $e$ among all these choices yields the cost of the minimum TSP. The image below illustrates this concept.\n",
    "\n",
    "<img src=\"./held-karp-illustr.jpeg\" width=\"60%\"></img>\n",
    "\n",
    "### Dynamic Programming for $\\minCostPath$\n",
    "\n",
    "We will now think about how to dynamic program for $\\minCostPath(S, e)$ for a given set of vertices $S$ and $e \\not\\in S$.  We approach it in four parts:\n",
    "  1. Stage the decisions we need to make and identify the optimal sub-structure.\n",
    "  2. Create a recurrence.\n",
    "  3. Memoize and compute value function.\n",
    "  4. Recover the solution.\n",
    " \n",
    "#### Staging Decisions + Optimal Substructure\n",
    "The key decision that we need to make for $\\minCostPath(S, e)$ is \"which order to visit the nodes in $S$\". We can stage this in multiple ways but the simplest one is to _decide the last but one vertex in the path_ (or the vertex that comes immediately before the end point $e$). This vertex has to be part of the set $S$. \n",
    "\n",
    "Once we fix a vertex $s \\in S$ as the one that occurs immediately before $e$, we have to find the best path that goes through $S \\setminus \\{s\\}$ and ends up in the node $s$. We can then traverse the edge $(s, e)$ to complete the original task of ending up in $e$.\n",
    "\n",
    "Optimal substructure tells us that to find $\\minCostPath(S, e)$, we commit to a last-but-one node $s \\in S$. What is left over is in turn to find $\\minCostPath(S,s)$. I.e, the optimal solution to the former problem contains within it an optimal solution to the latter problem. \n",
    "\n",
    "#### Recurrence \n",
    "Thus suggests the following recurrence if $S \\not = \\emptyset $.\n",
    "\n",
    "$$ \\minCostPath(S, e) = \\min_{s \\in S}\\ \\left( \\minCostPath(S \\setminus \\{s\\}, s) + C_{se} \\right) \\,.$$\n",
    "\n",
    "If $S = \\emptyset$ then note that $\\minCostPath(\\emptyset, e) = C_{1,e}$ the cost of going from vertex $1$ directly to end point.\n",
    "\n",
    "#### Memoization\n",
    "\n",
    "The memoization here is different from what we are used to. Our memo table has cells which are labeled by two arguments $S \\subseteq \\{2, \\ldots, n\\}$ and $e \\not\\in S$ (also $e \\not= 1$). We have $O(2^{n-1} \\times (n-1))$ such cells in our table.\n",
    "\n",
    "Note that the recurrence $$ \\minCostPath(S, e) = \\min_{s \\in S}\\ \\left( \\minCostPath(S \\setminus \\{s\\}, s) + C_{se} \\right) \\,.$$ \n",
    "\n",
    "tells us that we need to fill the table for sets $S$ of increasing sizes starting from sets of sizes $1$ and moving up to sets of sizes $n-1$.\n",
    "\n",
    "#### Recovering the Solution\n",
    "\n",
    "In order to recover the solution, we will label each cell corresponding to $\\minCostPath(S, e)$ with an element $s \\in S$ that produces the minimum value for our recurrence:\n",
    "\n",
    "$$ \\minCostPath(S, e) = \\min_{s \\in S}\\ \\left( \\minCostPath(S \\setminus \\{s\\}, s) + C_{se} \\right) \\,.$$\n",
    "\n",
    "Once we have this, we can recover the path as follows: \n",
    "  - Let $s_1 \\in S $ be the minimizing solution $ \\minCostPath(S, e)$.\n",
    "  - Let $s_2 \\in S \\setminus \\{s_1\\}$ be the minimizing solution to $ \\minCostPath(S\\setminus \\{s_1\\}, s_1)$.\n",
    "  - Let $s_3 \\in S \\setminus \\{s_1, s_2\\}$ be the minimizing solution to $ \\minCostPath(S\\setminus \\{s_1, s_2\\}, s_2)$.\n",
    "  - ...\n",
    "  - Let $s_k \\in S \\setminus \\{s_1, \\ldots, s_{k-1}\\}$ be the minimizing solution to $\\minCostPath(S\\setminus \\{s_1, s_2, \\ldots, s_{k-1}\\}, s_{k-1})$.\n",
    "\n",
    "Assuming that $S = \\{ s_1, \\ldots, s_{k} \\}$ then we hit the base case at the last step. The path will then be\n",
    "$$1 \\rightarrow s_{k} \\rightarrow s_{k-1} \\cdots \\rightarrow s_{1} \\rightarrow e $$\n",
    "\n",
    "We are ready to code this up in Python. The difficulty lies in designing a data structure for the memo table each of whose entries are indexed by a set $S$ and a vertex $e$. We will use a list of python dictionaries to store our memo table in our implementation. The code is below and the comments serve to explain its workings."
   ]
  },
  {
   "cell_type": "code",
   "execution_count": null,
   "metadata": {
    "ExecuteTime": {
     "end_time": "2023-10-15T02:05:48.200977Z",
     "start_time": "2023-10-15T02:05:48.185176Z"
    }
   },
   "outputs": [],
   "source": [
    "def memoize_min_cost_path(n, cost_matrix, debug=False):\n",
    "    ## Maintaining a memo table and iterating through all sets of size $k$ systematically is  very tricky.\n",
    "    ## We will just use inbuilt python data structures for this task.\n",
    "    tbl = [] # Our table is simply a list of dictionaries. Each dictionary in our list is a memo table for sets of a fixed size $j$\n",
    "    sol_tbl = [] # corresponding to tbl, we will hold the minimizing entry in sol_tbl to be able to recover the solution\n",
    "    # tbl[i] is a dictionary that will hold all sets $S$ of size $i$ and end points e.\n",
    "    # Also note that while we presented our algorithm to start from index 1, we will \n",
    "    # start our code from index 0. Therefore, vertex 0 is the starting point.\n",
    "    assert len(cost_matrix) == n, f'Cost matrix is not {n}x{n}'\n",
    "    assert all(len(cj) == n for cj in cost_matrix), f'Cost matrix is not {n}x{n}'\n",
    "    # start by seeding the dictionary with S = emptyset\n",
    "    mcp0 = {}\n",
    "    sol0 = {}\n",
    "    for e in range(1, n):\n",
    "        S = frozenset() # frozenset in Python is an immutable set that can be hashed\n",
    "        mcp0[(S, e)] = cost_matrix[0][e] # this is the base case when S = \\emptyset as explained in notes above.\n",
    "        sol0[(S, e)] = 0 # the previous vertex is just the start vertex 0\n",
    "    tbl.append(mcp0) # add the \"cost-to-go\" dictionary to table\n",
    "    sol_tbl.append(sol0) # add the solution dictionary to the solution table.\n",
    "    ## now build up for set sizes from 1 to n-1. Set size 0 is already built and added to list at start.\n",
    "    for size in range(1, n-1):\n",
    "        mcp_prev = tbl[-1] # fetch the table for sets of size $n-1$.\n",
    "        mcp = {} # initialize the current table\n",
    "        sol = {} # initialize the current solution table\n",
    "        # run through all sets of cardinality size-1\n",
    "        for ((S, s), v) in mcp_prev.items():  \n",
    "            assert len(S) == size-1, 'invariant failed -- the algorithm has been implemented wrong if this assertion fails'\n",
    "            S_new = S.union(frozenset({s})) # make S_new = S Union {s}\n",
    "            for e in range(1, n): # run through all possible end points \n",
    "                if e in S_new: # skip all end points already in the set S_new\n",
    "                    continue\n",
    "                new_path_cost = v + cost_matrix[s][e] # compute path cost using recursion\n",
    "                old_path_cost = mcp.get((S_new, e)) # if the entry has already been added to the dictionary look it up\n",
    "                old_sol = sol.get((S_new, e))\n",
    "                if old_path_cost == None or old_path_cost > new_path_cost:  # if entry is not already in dictionary or tthe current solution is better than previous, replace\n",
    "                    mcp[(S_new, e)] = new_path_cost\n",
    "                    sol[(S_new, e)] = s\n",
    "        tbl.append(mcp) # mcp is the memo table for sets of cardinality equal to the loop index size\n",
    "        sol_tbl.append(sol) # sol_tbl is to be appended as well.\n",
    "        if debug: # print stuff for our debugging\n",
    "            print(f'Sets of size {size}')\n",
    "            for ((S,e), v) in mcp.items():\n",
    "                print(f'\\t {S}, {e} --> {v}')\n",
    "    ## Now compute best TSP tour and recover solution.\n",
    "    mcp = tbl[-1] # pick up last entry \n",
    "    sol = sol_tbl[-1] \n",
    "    \n",
    "    min_cost_tour = float('inf')\n",
    "    end_pt = None\n",
    "    # Now find the best TSP tour by using the equation that relates minCostPath to minTSPTour\n",
    "    for e in range(1, n): # run through all end points\n",
    "        S = frozenset({i for i in range(1, n) if i != e}) # create set S of all vertices other than e\n",
    "        assert (S,e) in sol  \n",
    "        v = mcp[(S,e)] # look up minCostPath(S,e)\n",
    "        if v + cost_matrix[e][0] < min_cost_tour: # add the cost of retutrning from end point e to 0 to v\n",
    "            min_cost_tour =  v + cost_matrix[e][0] # is it better than previous solution, if so replace.\n",
    "            end_pt = e\n",
    "    if debug:\n",
    "        print(f'Minimum cost TSP tour: {min_cost_tour}')\n",
    "        print(f'Last vertex visited before cycling back: {e}')\n",
    "    # end_pt is the last vertex before cycling back to vertex 0.\n",
    "    # Let's recover the tour now in the reverse order\n",
    "    tour = [end_pt]\n",
    "    S = frozenset({j for j in range(1, n) if j != end_pt}) # this is the set of nodes to visit\n",
    "    for i in range(n-2, 0, -1):\n",
    "        assert len(S) == i, f'{len(S)}, {i}'\n",
    "        sol = sol_tbl[i]\n",
    "        e = tour[-1]\n",
    "        assert (S, e) in sol, f'Entry {(S,e)} missing from solution table: {sol}'\n",
    "        new_end_pt = sol[(S,e)]\n",
    "        if debug:\n",
    "            print(f'Recovering solution: looking up sol[{(S, e)}] -> new end point: {new_end_pt}')\n",
    "        assert new_end_pt in S\n",
    "        tour.append(new_end_pt) # add new end point to the tour but remember to reverse the whole list at the end or else tour will be in reverse order \n",
    "        S = frozenset({j for j in S if j != new_end_pt}) # remove new_end_pt from the set S\n",
    "        assert len(S) == i-1, f'{len(S)}, {i-1}'\n",
    "    tour.append(0)\n",
    "    tour.reverse() # reverse the tour since we have been appending to the end\n",
    "    if debug:\n",
    "        print(f'Tour:{tour}, cost: {min_cost_tour}')\n",
    "    return tour, min_cost_tour\n",
    "    "
   ]
  },
  {
   "cell_type": "code",
   "execution_count": null,
   "metadata": {
    "ExecuteTime": {
     "end_time": "2023-10-15T02:06:51.281766Z",
     "start_time": "2023-10-15T02:06:51.275711Z"
    }
   },
   "outputs": [],
   "source": [
    "cost_matrix = [ [ 0, 1, 3, 4],\n",
    "                [ 1, 0, 2, 3 ], \n",
    "                [ 3, 2, 0, 4 ], \n",
    "                [ 4, 3, 4, 0]]\n",
    "\n",
    "memoize_min_cost_path(4, cost_matrix, True)"
   ]
  },
  {
   "cell_type": "code",
   "execution_count": null,
   "metadata": {
    "ExecuteTime": {
     "end_time": "2023-10-15T02:06:52.289099Z",
     "start_time": "2023-10-15T02:06:52.281484Z"
    }
   },
   "outputs": [],
   "source": [
    "cost_matrix = [ [ 0, 1, 3, 4, 2 ],\n",
    "                [ 1, 0, 2, 3, 1 ], \n",
    "                [ 3, 2, 0, 4 , 3], \n",
    "                [ 4, 3, 4, 0, 4 ],\n",
    "                [ 2, 1, 3, 4, 0 ]]\n",
    "\n",
    "memoize_min_cost_path(5, cost_matrix, True)"
   ]
  },
  {
   "cell_type": "code",
   "execution_count": null,
   "metadata": {
    "ExecuteTime": {
     "end_time": "2023-10-15T02:06:56.324256Z",
     "start_time": "2023-10-15T02:06:56.316922Z"
    }
   },
   "outputs": [],
   "source": [
    "cost_matrix = [\n",
    "    [ 0, 12, 10, 19, 8],\n",
    "    [ 12, 0, 3, 7, 19],\n",
    "    [ 10, 3, 0, 6, 20],\n",
    "    [ 19, 7, 6, 0, 4],\n",
    "    [ 8, 19, 20, 4, 0]\n",
    "]\n",
    "memoize_min_cost_path(5, cost_matrix, True)"
   ]
  },
  {
   "cell_type": "code",
   "execution_count": null,
   "metadata": {
    "ExecuteTime": {
     "end_time": "2023-10-15T02:07:04.511200Z",
     "start_time": "2023-10-15T02:07:04.503806Z"
    }
   },
   "outputs": [],
   "source": [
    "cost_matrix = [\n",
    "    [0, 12, 29, 22, 13, 24],\n",
    "    [12, 0, 19, 3, 25, 6],\n",
    "    [29, 19, 0, 21, 23, 28],\n",
    "    [22, 3, 21, 0, 4, 5],\n",
    "    [13, 25, 23, 4, 0, 16],\n",
    "    [24, 6, 28, 5, 16, 0]\n",
    "]\n",
    "memoize_min_cost_path(6, cost_matrix, True)"
   ]
  },
  {
   "cell_type": "markdown",
   "metadata": {},
   "source": [
    "## Integer Linear Programming Solution\n",
    "\n",
    "We will now present two ways to formulate an ILP for the travelling salesperson problem. \n",
    "Once again, let $C$ be the cost matrix for the TSP tour, wherein $C_{i,j}$ is the cost of going from vertex $i$ to vertex $j$. Once again, we assume arbitrary TSP instance here.\n",
    "\n",
    "We will formulate an integer linear programming problem for our TSP. We will use the following decision variables:\n",
    "  - Binary variables $x_{i,j}$ for all pairs of vertices $i, j$ where $i \\not= j$. \n",
    "    - $x_{i,j} = 1$ denotes that the tour will proceed from vertex $i$ to vertex $j$ next through the edge $(i, j)$. In other words, $j$ is the next vertex in the tour after $i$. Note also that in a general TSP, the direction of the edge matters. \n",
    "    - $x_{i,j} = 0$ indicates the opposite: the tour does not traverse the edge from vertex $i$ to vertex $j$.\n",
    "  - We will arbitrarily designate vertex $1$ to be the starting/ending vertex of the tour. \n",
    "  \n",
    "### Objective Function \n",
    "\n",
    "The objective function for the TSP will be\n",
    "\n",
    "$$ \\min\\ \\sum_{i=1}^n \\sum_{j=1, j \\not= i}^n C_{i,j} x_{i,j} $$\n",
    "\n",
    "\n",
    "## Formulating Constraints\n",
    "\n",
    "Now we have the challenging task of formulating constraints over the decision variables $x_{i,j}$ such that the only feasible solutions are precisely those that describe TSP tours. These constraints, combined with the objective function above, we will help us find the minimum cost TSP tour using an ILP solver.\n",
    "\n",
    "\n",
    "## Degree-Based Encoding\n",
    "\n",
    "The simple idea is to constrain a tour as follows:\n",
    "  - For every vertex, we need to enter the vertex precisely once in our tour.\n",
    "  - For every vertex, we need to leave the vertex precisely once in our tour.\n",
    "  \n",
    "Clearly, any TSP tour satisfies the above constraints. And they can be encoded as follows:\n",
    "\n",
    "  1. First, the tour enters every vertex precisely once. For every $i = 1, \\ldots, n$, we have\n",
    "     $$ \\sum_{j=1, j \\not= i}^n x_{j, i} = 1, \\ i = 1, ..., n $$\n",
    "\n",
    "  2. Second, the tour leaves each vertex precisely once. For every $i = 1, \\ldots, n$, we have\n",
    "     $$ \\sum_{j=1, j \\not= i}^n x_{i,j} = 1, \\ i = 1, ..., n $$\n",
    "\n",
    "\n",
    "The main problem is that the two constraints above do not by themselves suffice to express the requirements of a TSP tour. I.e, all TSP tours must satisfy the constraints but there are invalid tours that satisfies the constraints, as well. The issue is that the constraints above permit \"subtours\". The figure below shows a subtour that will satisfy the constraints above.\n",
    "\n",
    "<img src=\"./subtour-illustration.jpeg\" width=\"50%\"></img>\n",
    "\n",
    "\n",
    "Here our TSP has five vertices and the edges shown illustrate the subtour. We have \n",
    "$$ x_{1,4} = 1, x_{4,1} = 1, x_{2,3} = 1, x_{3,5} =1, x_{5, 2} = 1 \\,.$$\n",
    "All other $x_{i,j}$ not shown above are assigned $0$. Notice that the assignment above corresponding to the\n",
    "subtour satisfies all the constraints thus far. \n",
    "\n",
    "A potential solution to the TSP problem exhibits a  <b> subtour </b> if there is a (strict) subset of the vertices $S \\subset V$ such that the solution involves a cycle that lies entirely in the set $S$.\n",
    "\n",
    "Clearly sub-tours cannot exist in a TSP tour. In fact, we will argue below that the degree constraints along with absence of sub-tours is necessary and sufficient for TSP tours.\n",
    "\n",
    "<div class=\"alert-block alert\" style=\"border-color:white black white black\">\n",
    "<b> Theorem: </b> A subset <i>T</i> of edges is a TSP tour if and only if \n",
    "\n",
    "- Every vertex $i$ has exactly one \"leaving edge\" $(i,j) \\in T$; \n",
    "- Every vertex $j$ has exactly one \"entering edge\" $(i,j) \\in T$; and \n",
    "- There are no \"subtours\" $S$ of the form $S =\\{ (i_1, i_2), (i_2, i_3), \\cdots, (i_k. i_1) \\} $ and $S \\subseteq T$, for $2 \\leq k \\leq n-1$\n",
    "\n",
    "<b> Proof: </b> Clearly if $T$ is the set of edges in a TSP tour, it satisfies all three conditions above. Let's prove the converse.\n",
    "    \n",
    "Suppose $T$ is a subset of edges in the graph that has the three properties above. We will use it to define our tour, as follows. We start the tour from vertex $1$. We know that there is exactly one \"leaving edge\" of the form $(1, i_2)$ in the set $T$. Let's add $i_2$ to our tour. \n",
    "    \n",
    "At any point in our construction, suppose we have a \"partial tour\": \n",
    "    $$ (1, i_2), (i_2, i_3), \\ldots, (i_{k-1}, i_k)$$ \n",
    " for some $ k \\geq 2$ and $k \\leq n-1$. Note that there has to be precisely one edge leaving each of $1, i_2, \\ldots, i_{k-1}, i_k$ in the set $T$. But one such edge is already present in our \"partial tour\" for all vertices seen so far except $i_k$. Therefore, we have to have an edge $(i_k, i_{k+1}) \\in T$ leaving the vertex $i_k$. \n",
    "Note that $i_{k+1} \\not \\in \\{ i_2, \\ldots, i_{k-1} \\}$ because each of the vertices in the RHS set can only have one entering edge and one such edge is already seen in the tour. Therefore, $i_{k+1}$ is either a previously unseen vertex (i.e, $i_{k+1} \\not\\in \\{1, i_2, \\ldots, i_k\\}$) or $i_{k+1} = 1$ (since vertex $1$ does not have an entering edge as yet). However, since $k < n-1$, if $i_{k+1} = 1$ then we have a subtour $S$ defined by the vertices $S = \\{ 1, i_2, \\cdots, i_{k} \\}$ of size $k$. This leaves no choice but to say $i_{k+1} \\not\\in \\{1, \\ldots, i_k\\}$. Thus our partial tour extends to \n",
    "$$ (1, i_2), (i_2, i_3), \\ldots, (i_{k-1}, i_k), (i_{k}, i_{k+1}) \\,.$$\n",
    "   \n",
    "Finally, suppose we have a \"partial tour\" of size $k = n$, \n",
    "    $$ (1, i_2), (i_2, i_3), \\ldots, (i_{n-1}, i_n)\\,,$$ \n",
    "then we note by construction of these partial tours, no vertex repeats and thus, $1, i_2, \\ldots, i_n$ accounts for all $n$ vertices in the graph (i.e, $\\{1, i_2, \\ldots, i_n\\} = \\{1, 2, \\ldots, n\\}$). The only remaining edge that we can add has to be $(i_n, 1)\\in T$. We can use a argument similar to the case $k <n$ to argue that $i_n$ must have a leaving edge but it cannot go to any of $i_2, \\ldots, i_{n-1}$, leaving us with only the edge $(i_n, 1)$ that completes the tour. Therefore the set $T$ must have the edges  that form a TSP tour:\n",
    " $$ (1, i_2), (i_2, i_3), \\ldots, (i_{n-1}, i_n), (i_n, 1)\\,.$$\n",
    "As one last technicality, we have to demonstrate that no additional edges other than these edges can exist in $T$. To prove this, we note that $T$ cannot have more than $n$ edges since we can have precisely one edge leaving every vertex.\n",
    "</div>\n",
    "\n",
    "We need to add __additional__ constraints to the two \"degree constraints\" above so that we can eliminate subtours. \n",
    "There are two ways of doing this: \n",
    "- the Miller-Tucker-Zemlin or MTZ approach and \n",
    "- incremental subtour elimination.\n",
    "\n",
    "### MTZ-Approach to Eliminating Subtours\n",
    "\n",
    "The first subtour elimination approach is called the MTZ-encoding after the three authors who came up with it:\n",
    "\n",
    "<div class=\"alert alert-block alert-success\">\n",
    "    C.E. Miller, A.W. Tucker and R. A. Zemlin, Integer Programming Formulation of Traveling Salesman Problems, Journal of the ACM, 7(4), 326-329, 1960.\n",
    "</div>\n",
    "\n",
    "It relies on adding additional decision variables in addition to the $x_{i,j}$ variables that we have already seen. \n",
    "\n",
    "  - We associate time-stamp decision variables $ t_2, \\ldots, t_n$, wherein $t_i$ denotes a notion of `time` at which vertex $i$ is visited. For technical reasons, no time stamps are given to vertex $1$ since it is visited \"twice\" once as our nominal start of the tour and another time as the \"end\" of the tour. \n",
    "  - Ideally, we will have the $t_i$ variables be integers but that is not strictly needed for our formulation. We can let them be real-valued decision variables and that makes the solving easier, as explained below.\n",
    "  \n",
    "The key trick is that we will make the time stamp satisfy the following constraint: \n",
    "  - Whenever we go from a vertex $i$ to the next vertex $j$ in a tour, we will ensure that $t_j \\geq t_i + 1$. \n",
    "\n",
    "Formally, for $i \\not= 1, j \\not= 1$, we will add the constraint:\n",
    "$$ \\fbox{$\\text{if}\\ x_{i,j} = 1 \\ \\text{then}\\ t_j \\geq t_i + 1$} \\,.$$\n",
    "\n",
    "However, the \"if-then\" constraints above are not constraints of the form we accept in an integer linear programming formulation. We will address this issue subsequently. \n",
    "\n",
    "The time-stamps and their associated constraints as stated above  gurantee that any solution to the $x_{i,j}$ variables (the actual time stamp solutions are not important  to us), will be a TSP tour. I.e, no subtour will be present. Why?\n",
    " \n",
    "  \n",
    "\n",
    "<div class=\"alert-block alert\" style=\"border-color:white black white black\">\n",
    "   \n",
    "<b> Theorem: </b> Using time stamps as described above, there cannot be any subtours in our solution. \n",
    "<p>\n",
    "<b>Proof:</b>    \n",
    "Note that the time stamps ensure that as we move along the tour, the time stamps will be strictly increasing. \n",
    "\n",
    "Firwt, we argue that if our solution had a subtour, then it has a subtour that does not involve vertex $1$.\n",
    "\n",
    " If our solution has a subtour then there have to be multiple subtours, by definition. This is because, if we just had a single subtour that is actually a valid TSP solution. If there are multiple subtours, then  there must be a subtour that does not involve the vertex $1$ (because only one of the subtours can have the vertex $1$ and thus the others will not).\n",
    "\n",
    "\n",
    "In other words, supposed we had a sub-tour of size $k$ (note that $k \\geq 2$) in our TSP:\n",
    "$$ i_1 \\rightarrow i_2 \\rightarrow \\cdots i_k $$\n",
    "None of the vertices $i_1, \\ldots, i_k$ equal the vertex $1$. The solution must have $x_{i_1, i_2} = 1, x_{i_2, i_3} = 1, \\ldots, x_{i_k, i_1} = 1$. Thus, we need to have the constraints:\n",
    "$$ t_{i_1} + 1 \\leq t_{i_2},\\ t_{i,2}+ 1 \\leq t_{i,3}, \\cdots, t_{i_k} +1 \\leq t_{i_1} $$\n",
    "In other words, we get $$ t_{i,1} + k \\leq t_{i_1} ,\\ \\text{or, alternatively,}\\ k \\leq 0 $$\n",
    "However, we note that $k$ is the size of the subtour and must satisfy $k \\geq 2$. This yields a contradiction since $k \\leq 0$ and $k \\geq 2$ cannot both be  true.\n",
    "</div>\n",
    "  \n",
    "\n",
    "\n",
    "  \n",
    "### Constraints \n",
    "\n",
    "We will have the degree constraints shown above (and repeated below for your conveneince).\n",
    "\n",
    "The tour must enter every vertex precisely once. For every $i = 1, \\ldots, n$, we have\n",
    "  $$ \\sum_{j=1, j \\not= i}^n x_{j, i} = 1 $$\n",
    "\n",
    "The tour leaves each vertex precisely once. For every $i = 1, \\ldots, n$, we have\n",
    "  $$ \\sum_{j=1, j \\not= i}^n x_{i,j} = 1 $$\n",
    "\n",
    "For each $i,j \\not=1 $ we need to satisfy :\n",
    "  $$ \\fbox{$\\text{if}\\ x_{i,j} = 1 \\ \\text{then}\\ t_j \\geq t_i + 1$} \\,. $$\n",
    "\n",
    "We write the if-then constraint above equivalently as follows:\n",
    "  $$ t_j \\geq t_i + 1 - ( 1- x_{i,j}) \\times M $$\n",
    "\n",
    "Where $M$ is a \"very large\" constant (think of it as $\\infty$ if it makes it easy for you!). A precise \"big enough\" value  will be decided in the argument below.\n",
    "The inequality above looks rather strange but it is in fact saying almost the same thing as the if-then constraint. Why?\n",
    "\n",
    "  - If $x_{i,j} = 1$, the inequality above simply reduces to \n",
    "   $$ t_j \\geq t_i + 1 - (1-1) \\times M \\ \\text{or equivalently}\\ t_j \\geq t_i +1 $$\n",
    "  - However, if $x_{i,j} = 0$, the inequality simply reduces to $ t_j \\geq t_i + 1 - M $. Think of $M$ as a really large number then it is reasonable to assume that for any two time stamps, $t_j \\geq t_i + 1 - M$. \n",
    "  \n",
    "In fact, we can constrain the time stamps all to be within the range $[1, n]$: i.e, all time stamps are bigger than $1$ and smaller than $n$. Therefore, we could simply set $M = (n+1)$ and it is true that for _any_ two time stamps, $t_j \\geq t_i + 1 - (n+1) = t_i -n $ must follow.\n",
    "\n",
    "This trick of encoding an implication as a linear constraint involving binary variable is called the \"big-M\" trick. It is extremely useful in optimization modeling. A great book on this and other tricks is the book \n",
    "\n",
    "<div class = \"alert alert-block alert-info\">\n",
    "    H. Paul Williams, Model Building in Mathematical Programming, 5th Edition, Wiley Publishers. ISBN: 978-1-118-50617-2.\n",
    "</div>\n",
    "\n",
    "\n",
    "<div class=\"alert alert-block alert-warning\">\n",
    "    <b> Note: </b>\n",
    "    We have not introduced optimization problems that involve both integer and real-valued variables so far. But they are really common and called <i> Mixed Integer Linear Programming </i> (MILP) problems. Algorithms for solving pure ILPs (without real-valued variables) can be adapted to solve MILPs.\n",
    "</div>\n",
    " "
   ]
  },
  {
   "cell_type": "code",
   "execution_count": null,
   "metadata": {
    "ExecuteTime": {
     "end_time": "2023-10-15T02:25:38.038838Z",
     "start_time": "2023-10-15T02:25:38.002382Z"
    }
   },
   "outputs": [],
   "source": [
    "from pulp import *\n",
    "\n",
    "def mtz_encoding_tsp(n, cost_matrix):\n",
    "    assert len(cost_matrix) == n, f'Cost matrix is not {n}x{n}'\n",
    "    assert all(len(cj) == n for cj in cost_matrix), f'Cost matrix is not {n}x{n}'\n",
    "    # create our encoding variables\n",
    "    binary_vars = [ # add a binary variable x_{ij} if i not = j else simply add None\n",
    "        [ LpVariable(f'x_{i}_{j}', cat='Binary') if i != j else None for j in range(n)] \n",
    "        for i in range(n) ]\n",
    "    # add time stamps for ranges 1 .. n (skip vertex 0 for timestamps)\n",
    "    time_stamps = [LpVariable(f't_{j}', lowBound=0, upBound=n, cat='Continuous') for j in range(1, n)]\n",
    "    # create the problem\n",
    "    prob = LpProblem('TSP-MTZ', LpMinimize)\n",
    "    # create add the objective function \n",
    "    objective_function = lpSum( [ lpSum([xij*cj if xij != None else 0 for (xij, cj) in zip(brow, crow) ])\n",
    "                           for (brow, crow) in zip(binary_vars, cost_matrix)] )\n",
    "    \n",
    "    prob += objective_function \n",
    "    \n",
    "    # add the degree constraints\n",
    "    for i in range(n):\n",
    "        # Exactly one leaving variable\n",
    "        prob += lpSum([xj for xj in binary_vars[i] if xj != None]) == 1\n",
    "        # Exactly one entering\n",
    "        prob += lpSum([binary_vars[j][i] for j in range(n) if j != i]) == 1\n",
    "    # add time stamp constraints\n",
    "    for i in range(1,n):\n",
    "        for j in range(1, n):\n",
    "            if i == j: \n",
    "                continue\n",
    "            xij = binary_vars[i][j]\n",
    "            ti = time_stamps[i-1]\n",
    "            tj = time_stamps[j -1]\n",
    "            prob += tj >= ti + xij - (1-xij)*(n+1) # add the constraint\n",
    "    # Done: solve the problem\n",
    "    status = prob.solve(PULP_CBC_CMD(msg=False)) # turn off messages\n",
    "    assert status == constants.LpStatusOptimal, f'Unexpected non-optimal status {status}'\n",
    "    # Extract the tour\n",
    "    tour = [0]\n",
    "    tour_cost = 0\n",
    "    while len(tour) < n:\n",
    "        i = tour[-1]\n",
    "        # find all indices j such that x_ij >= 0.999 \n",
    "        sols = [j for (j, xij) in enumerate(binary_vars[i]) if xij != None and xij.varValue >= 0.999]\n",
    "        assert len(sols) == 1, f'{sols}' # there better be just one such vertex or something has gone quite wrong\n",
    "        j = sols[0] # extract the lone solutio \n",
    "        tour_cost = tour_cost + cost_matrix[i][j] # add to the tour cost\n",
    "        tour.append(j) # append to the tour\n",
    "        assert j != 0\n",
    "    i = tour[-1]\n",
    "    tour_cost = tour_cost + cost_matrix[i][0]\n",
    "    return tour, tour_cost\n",
    "        "
   ]
  },
  {
   "cell_type": "markdown",
   "metadata": {},
   "source": [
    "We will run the code on the same examples as before and note that the overall cost remains the same."
   ]
  },
  {
   "cell_type": "code",
   "execution_count": null,
   "metadata": {
    "ExecuteTime": {
     "end_time": "2023-10-15T02:26:00.892822Z",
     "start_time": "2023-10-15T02:26:00.822962Z"
    }
   },
   "outputs": [],
   "source": [
    "cost_matrix = [ [ 0, 1, 3, 4],\n",
    "                [ 1, 0, 2, 3 ], \n",
    "                [ 3, 2, 0, 4 ], \n",
    "                [ 4, 3, 4, 0]]\n",
    "\n",
    "mtz_encoding_tsp(4, cost_matrix)"
   ]
  },
  {
   "cell_type": "code",
   "execution_count": null,
   "metadata": {
    "ExecuteTime": {
     "end_time": "2023-10-15T02:26:06.483329Z",
     "start_time": "2023-10-15T02:26:06.442993Z"
    }
   },
   "outputs": [],
   "source": [
    "cost_matrix = [ [ 0, 1, 3, 4, 2 ],\n",
    "                [ 1, 0, 2, 3, 1 ], \n",
    "                [ 3, 2, 0, 4 , 3], \n",
    "                [ 4, 3, 4, 0, 4 ],\n",
    "                [ 2, 1, 3, 4, 0 ]]\n",
    "\n",
    "mtz_encoding_tsp(5, cost_matrix)"
   ]
  },
  {
   "cell_type": "code",
   "execution_count": null,
   "metadata": {
    "ExecuteTime": {
     "end_time": "2023-10-15T02:26:09.167499Z",
     "start_time": "2023-10-15T02:26:09.129521Z"
    }
   },
   "outputs": [],
   "source": [
    "cost_matrix = [\n",
    "    [ 0, 12, 10, 19, 8],\n",
    "    [ 12, 0, 3, 7, 19],\n",
    "    [ 10, 3, 0, 6, 20],\n",
    "    [ 19, 7, 6, 0, 4],\n",
    "    [ 8, 19, 20, 4, 0]\n",
    "]\n",
    "mtz_encoding_tsp(5,cost_matrix)"
   ]
  },
  {
   "cell_type": "code",
   "execution_count": null,
   "metadata": {
    "ExecuteTime": {
     "end_time": "2023-10-15T02:26:11.025468Z",
     "start_time": "2023-10-15T02:26:10.983028Z"
    }
   },
   "outputs": [],
   "source": [
    "cost_matrix = [\n",
    "    [0, 12, 29, 22, 13, 24],\n",
    "    [12, 0, 19, 3, 25, 6],\n",
    "    [29, 19, 0, 21, 23, 28],\n",
    "    [22, 3, 21, 0, 4, 5],\n",
    "    [13, 25, 23, 4, 0, 16],\n",
    "    [24, 6, 28, 5, 16, 0]\n",
    "]\n",
    "mtz_encoding_tsp(6, cost_matrix)"
   ]
  },
  {
   "cell_type": "markdown",
   "metadata": {},
   "source": [
    "## Incremental (and Direct) Subtour Elimination\n",
    "\n",
    "The MTZ approach adds extra time stamps to get rid of sub-tours. Can we avoid these time stamps, which are after all extra real-valued variables and just have constraints on the $x_{i,j}$ variables?\n",
    "\n",
    "In fact, it is possible to do so but we will see that doing so requires an exponential number of constraints in theory.\n",
    "\n",
    "So far, we have decision variables $x_{i,j}$ for $i \\not= j$ where $i,j$ are vertices. We also have the degree constraints for each vertex:\n",
    "\n",
    "  - $\\sum_{j=1, j \\not= i}^n x_{i,j} = 1,\\ \\text{for each vertex}\\ i $.\n",
    "  - $\\sum_{i=1, i \\not= j}^n x_{i,j} = 1,\\ \\text{for each vertex}\\ j$. \n",
    "  \n",
    "But these constraints did not eliminate sub-tours (and hence the need for timestamps). If we do not wish to use timestamps, we can instead add the following constraint for every subset $S \\subset V$ such that $2 \\leq |S| \\leq n-1$:\n",
    "  - There must be at least one edge leaving the subset $S$ i.e, an edge in the tour from a vertex in $S$ to a vertex outside $S$:\n",
    "   $$\\sum_{i \\in S, j \\not\\in S}\\ x_{i,j} \\geq 1$$ \n",
    "  - There must be at least one edge entering the subset $S$, i.e, an edge from a vertex outside of $S$ to a vertex in $S$:\n",
    "   $$ \\sum_{i \\not\\in S, j \\in S}\\ x_{i,j} \\geq 1 $$\n",
    "   \n",
    "In fact, it suffices to add just one of the two constraints above for each subset $S$, as the argument below shows.\n",
    "  \n",
    "<b> Theorem: </b> Any solution $x_{i,j}$ that satisfies all the constraints above must be a tour, and conversely, any tour satisfies the constraints above. \n",
    "\n",
    "<b> Proof: </b> The proof is to show that there cannot be any subtours. Suppose we had a subtour $S$ in our solution: $i_1 \\rightarrow i_2 \\rightarrow \\cdots \\rightarrow i_k \\rightarrow i_1$ if size $k$, then note that for the subset $S =\\{i_1, \\ldots, i_k\\}$, there can be no edge from a vertex outside $S$ to  a vertex in $S$. If such a vertex were to exist then some vertex in $S$ must have two incoming edges which violates the constraint of having exactly one incoming edge per vertex. Likewise, there cannot be an edge from a vertex inside $S$ to one outside $S$ since that would mean that some vertex in $S$ must have two outgoing edges which violates the degree constraint.\n",
    "\n",
    "Unfortunately, the formulation above needs to encode constraints for $O(2^{n})$ subsets $S$. The precise number is actually $2^{n} -n -2 $, i.e, all subsets of vertices excluding the empty set, the entire set and sets of size 1. This is an astronomically large number of constraints to look at.  Can we do any better?\n",
    "\n",
    "Yes, one way is not to add the constraints but just start with the degree constraints to begin with. We iterate the following two steps:\n",
    "  1. Solve the ILP with the current set of constraints.\n",
    "  2. If the solution does not have a subtour:\n",
    "     - Return it as the optimal TSP.\n",
    "     - Else, if it has a subtour $S$, add the subtour elimination constraint for the set $S$ to the set of constraints, and go back to step 1.\n",
    "     \n",
    "In the worst case, the approach above is forced to add all the $O(2^n)$ constraints needed but in practice, we hope to get lucky and discover a TSP tour without needing to add all the subtour elimination constraints. "
   ]
  },
  {
   "cell_type": "code",
   "execution_count": null,
   "metadata": {
    "ExecuteTime": {
     "end_time": "2023-10-14T22:40:19.738658Z",
     "start_time": "2023-10-14T22:40:19.725674Z"
    }
   },
   "outputs": [],
   "source": [
    "from pulp import * \n",
    "\n",
    "\n",
    "def encode_with_subtour_elimination(n, cost_matrix, debug=True):\n",
    "    assert len(cost_matrix) == n, f'Cost matrix is not {n}x{n}'\n",
    "    assert all(len(cj) == n for cj in cost_matrix), f'Cost matrix is not {n}x{n}'\n",
    "    # create our encoding variables\n",
    "    binary_vars = [ # add a binary variable x_{ij} if i not = j else simply add None\n",
    "        [ LpVariable(f'x_{i}_{j}', cat='Binary') if i != j else None for j in range(n)] \n",
    "        for i in range(n) ]\n",
    "    # create the problem\n",
    "    prob = LpProblem('TSP-MTZ', LpMinimize)\n",
    "    # create add the objective function \n",
    "    objective_function = lpSum( [ lpSum([xij*cj if xij != None else 0 for (xij, cj) in zip(brow, crow) ])\n",
    "                           for (brow, crow) in zip(binary_vars, cost_matrix)] )\n",
    "    prob += objective_function \n",
    "    # add the degree constraints\n",
    "    for i in range(n):\n",
    "        # Exactly one leaving variable\n",
    "        prob += lpSum([xj for xj in binary_vars[i] if xj != None]) == 1\n",
    "        # Exactly one entering\n",
    "        prob += lpSum([binary_vars[j][i] for j in range(n) if j != i]) == 1\n",
    "    done = False\n",
    "    while not done:\n",
    "        # solve the problem as it is now\n",
    "        status = prob.solve(PULP_CBC_CMD(msg=False)) # turn off messages\n",
    "        assert status == constants.LpStatusOptimal, 'Unknown error : status should be optimal'\n",
    "        (has_subtour, tour) = check_solution(n, binary_vars) # returns if the problem has a subtour and the tour\n",
    "        if has_subtour: \n",
    "            # write down the constraint to block the subtour moving forward\n",
    "            if debug:\n",
    "                print(f'\\t Found subtour: {tour}. Adding constraint to eliminate.')\n",
    "            prob += ( lpSum([ lpSum([binary_vars[i][j] for j in range(n) if j not in tour]) for i in tour ])) >= 1\n",
    "        else: \n",
    "            tour_cost = objective_function.value()\n",
    "            if debug:\n",
    "                print(f'Success: Found tour {tour} of cost {tour_cost}')\n",
    "            done = True\n",
    "    return (tour, tour_cost)\n",
    "\n",
    "\n",
    "def check_solution(n, binary_vars):\n",
    "    # search to see if there is a subtour.\n",
    "    # 1. start from vertex 0\n",
    "    # 2. find the outgoing vertex and keep going until we circle back.\n",
    "    # This is going to be nearly identical to the solution extraction procedure we had in our earlier encoding.\n",
    "    tour = [0]\n",
    "    done = False\n",
    "    while not done:\n",
    "        i = tour[-1]\n",
    "        sols = [j for (j, xij) in enumerate(binary_vars[i]) if xij != None and xij.varValue >= 0.999]\n",
    "        #assert 0.99999 <= sum(sols) <= 1.00001, f'# of outgoing vertices for {i} is {sum(sols)}, solution: {sols}'\n",
    "        assert len(sols) == 1, f'{sols}'\n",
    "        j = sols[0]\n",
    "        if j != 0:\n",
    "            tour.append(j)\n",
    "        else:\n",
    "            done = True\n",
    "        if len(tour)== n:\n",
    "            done = True\n",
    "    has_sub_tour = (len(tour) < n)\n",
    "    return has_sub_tour, tour\n"
   ]
  },
  {
   "cell_type": "markdown",
   "metadata": {},
   "source": [
    "Let's try this out for our examples so far."
   ]
  },
  {
   "cell_type": "code",
   "execution_count": null,
   "metadata": {
    "ExecuteTime": {
     "end_time": "2023-10-14T22:40:21.001578Z",
     "start_time": "2023-10-14T22:40:20.954796Z"
    }
   },
   "outputs": [],
   "source": [
    "cost_matrix = [ [ 0, 1, 3, 4],\n",
    "                [ 1, 0, 2, 3 ], \n",
    "                [ 3, 2, 0, 4 ], \n",
    "                [ 4, 3, 4, 0]]\n",
    "\n",
    "encode_with_subtour_elimination(4, cost_matrix)"
   ]
  },
  {
   "cell_type": "code",
   "execution_count": null,
   "metadata": {
    "ExecuteTime": {
     "end_time": "2023-10-14T22:40:21.509148Z",
     "start_time": "2023-10-14T22:40:21.456995Z"
    }
   },
   "outputs": [],
   "source": [
    "cost_matrix = [ [ 0, 1, 3, 4, 2 ],\n",
    "                [ 1, 0, 2, 3, 1 ], \n",
    "                [ 3, 2, 0, 4 , 3], \n",
    "                [ 4, 3, 4, 0, 4 ],\n",
    "                [ 2, 1, 3, 4, 0 ]]\n",
    "\n",
    "encode_with_subtour_elimination(5, cost_matrix)"
   ]
  },
  {
   "cell_type": "code",
   "execution_count": null,
   "metadata": {
    "ExecuteTime": {
     "end_time": "2023-10-14T22:40:21.954412Z",
     "start_time": "2023-10-14T22:40:21.904597Z"
    }
   },
   "outputs": [],
   "source": [
    "cost_matrix = [\n",
    "    [ 0, 12, 10, 19, 8],\n",
    "    [ 12, 0, 3, 7, 19],\n",
    "    [ 10, 3, 0, 6, 20],\n",
    "    [ 19, 7, 6, 0, 4],\n",
    "    [ 8, 19, 20, 4, 0]\n",
    "]\n",
    "encode_with_subtour_elimination(5,cost_matrix)"
   ]
  },
  {
   "cell_type": "code",
   "execution_count": null,
   "metadata": {
    "ExecuteTime": {
     "end_time": "2023-10-14T22:40:22.231526Z",
     "start_time": "2023-10-14T22:40:22.173820Z"
    }
   },
   "outputs": [],
   "source": [
    "cost_matrix = [\n",
    "    [0, 12, 29, 22, 13, 24],\n",
    "    [12, 0, 19, 3, 25, 6],\n",
    "    [29, 19, 0, 21, 23, 28],\n",
    "    [22, 3, 21, 0, 4, 5],\n",
    "    [13, 25, 23, 4, 0, 16],\n",
    "    [24, 6, 28, 5, 16, 0]\n",
    "]\n",
    "encode_with_subtour_elimination(6, cost_matrix)"
   ]
  },
  {
   "cell_type": "markdown",
   "metadata": {},
   "source": [
    "Notice that in the examples above, just one subtour was eliminated before we found the least cost tour. This is much less than the theoretical maximum!"
   ]
  },
  {
   "cell_type": "markdown",
   "metadata": {},
   "source": [
    "### Empirical Comparison on Random TSPs\n",
    "\n",
    "Let's do an empirical comparison on random TSPs just to find out how these three methods compare. We will create random TSPs of various sizes, run the three methods and compare the total time taken (we will do wall clock time but that is not super scientific)."
   ]
  },
  {
   "cell_type": "code",
   "execution_count": null,
   "metadata": {
    "ExecuteTime": {
     "end_time": "2023-10-15T02:35:16.478858Z",
     "start_time": "2023-10-15T02:35:14.985525Z"
    }
   },
   "outputs": [],
   "source": [
    "from random import uniform\n",
    "from timeit import default_timer as timer\n",
    "\n",
    "def mk_cost_matrix(n, min_cost=0, max_cost=100):\n",
    "    assert n >= 2\n",
    "    return [ [ uniform(min_cost, max_cost) if i != j else None for j in range(n)] for i in range(n)]\n",
    "\n",
    "\n",
    "def run_comparisons(n, num_compare=100, debug=False):\n",
    "    total_held_karp = 0\n",
    "    total_mtz = 0\n",
    "    total_subt_elim = 0\n",
    "    for i in range(num_compare):\n",
    "        cost_matrix = mk_cost_matrix(n)\n",
    "        # Held-Karp\n",
    "        t1 = timer()\n",
    "        (_, cost1) = memoize_min_cost_path(n, cost_matrix, False)\n",
    "        t2 = timer()\n",
    "        # MTZ\n",
    "        (_, cost2) = mtz_encoding_tsp(n, cost_matrix)\n",
    "        t3 = timer()\n",
    "        (_, cost3) = encode_with_subtour_elimination(n, cost_matrix, debug=False)\n",
    "        t4 = timer()\n",
    "        assert abs(cost1 - cost2) <= 1E-03, 'Held Karp and MTZ costs disagree : {cost1} vs {cost2}'\n",
    "        assert abs(cost2-cost3) <= 1E-03, 'MTZ and Subtour elimination costs disagree {cost2} vs {cost3}'\n",
    "        if debug:\n",
    "            print(f'Trial: {i}. Held-Karp cost: {cost1}, MTZ cost: {cost2}, Subtour elim cost: {cost3}')\n",
    "            print(f'\\t Held-Karp time: %.2f seconds, MTZ cost: %.2f seconds, Subtour elim cost: %.2f seconds' %(t2-t1, t3-t2, t4-t3))\n",
    "        total_held_karp += (t2 - t1)\n",
    "        total_mtz += (t3 - t2)\n",
    "        total_subt_elim += (t4-t3)\n",
    "        \n",
    "    return (total_held_karp/num_compare, total_mtz/num_compare, total_subt_elim/num_compare)\n",
    "    \n",
    "run_comparisons(10, 10, True)"
   ]
  },
  {
   "cell_type": "code",
   "execution_count": null,
   "metadata": {
    "ExecuteTime": {
     "end_time": "2023-10-15T02:52:44.104194Z",
     "start_time": "2023-10-15T02:35:41.035113Z"
    }
   },
   "outputs": [],
   "source": [
    "from matplotlib import pyplot as plt \n",
    "## Warning this will take about 30 minutes to run to run: go grab a coffee!\n",
    "average_hk = []\n",
    "average_mtz = []\n",
    "average_st_elim = []\n",
    "for n in range(4, 19):\n",
    "    print(f'Running n ={n}')\n",
    "    (a1, a2, a3) = run_comparisons(n, 50)\n",
    "    average_hk.append(a1)\n",
    "    average_mtz.append(a2)\n",
    "    average_st_elim.append(a3)"
   ]
  },
  {
   "cell_type": "code",
   "execution_count": null,
   "metadata": {
    "ExecuteTime": {
     "end_time": "2023-10-15T02:52:44.111654Z",
     "start_time": "2023-10-15T02:52:44.107195Z"
    }
   },
   "outputs": [],
   "source": [
    "# This is the data from the previous cell that we have saved on our machine locall\n",
    "print(average_hk)\n",
    "print(average_mtz)\n",
    "print(average_st_elim)"
   ]
  },
  {
   "cell_type": "code",
   "execution_count": null,
   "metadata": {
    "ExecuteTime": {
     "end_time": "2023-10-15T03:06:08.616855Z",
     "start_time": "2023-10-15T03:06:08.458876Z"
    }
   },
   "outputs": [],
   "source": [
    "plt.plot(range(4, 19), average_hk, '-+', label='Held Karp')\n",
    "plt.plot(range(4, 19), average_mtz, '-*', label='MTZ')\n",
    "plt.plot(range(4, 19), average_st_elim, '-*', label='Inc. Subtour Elim.')\n",
    "plt.legend()\n",
    "plt.xlabel('Number of Nodes')\n",
    "plt.ylabel('Avg. Wall Clock Time/Problem Instance')\n",
    "plt.show()"
   ]
  },
  {
   "cell_type": "markdown",
   "metadata": {},
   "source": [
    "Surprisingly, the algorithm that performs best in practice is the one that should theoretically have the worst time complexity: the integer linear programming approach based on sub-tour elimination. Note that there are many issues with our comparison: we are not using a particularly efficient ILP solver. Commercial solvers such as Gurobi will be much faster than the open source solver we are using. Also, our implementation of the Held-Karp algorithm can benefit from many improvements such as better data stucture for the memo table.\n",
    "\n",
    "However, solving TSPs exactly is now possible for very large instances. For instance, the [Concorde TSP solver](https://www.math.uwaterloo.ca/tsp/concorde.html) can solve TSP instances with as many as [85900 vertices](https://www.math.uwaterloo.ca/tsp/pla85900/index.html) arising from a circuit design application."
   ]
  },
  {
   "cell_type": "markdown",
   "metadata": {},
   "source": [
    "# That's all folks!"
   ]
  }
 ],
 "metadata": {
  "kernelspec": {
   "display_name": "Python 3",
   "language": "python",
   "name": "python3"
  },
  "language_info": {
   "codemirror_mode": {
    "name": "ipython",
    "version": 3
   },
   "file_extension": ".py",
   "mimetype": "text/x-python",
   "name": "python",
   "nbconvert_exporter": "python",
   "pygments_lexer": "ipython3",
   "version": "3.9.6"
  }
 },
 "nbformat": 4,
 "nbformat_minor": 5
}
