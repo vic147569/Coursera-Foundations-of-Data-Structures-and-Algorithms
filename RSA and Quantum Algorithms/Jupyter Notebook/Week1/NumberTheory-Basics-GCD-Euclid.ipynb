{
 "cells": [
  {
   "cell_type": "markdown",
   "metadata": {},
   "source": [
    "# GCD and Euclid's Algorithm\n",
    "\n",
    "We will first review some grade school number theory and an _ancient_ algorithm attributed to Euclid in his book _Elements_. \n",
    "\n",
    "First, we review the concept of the greatest common divisor (GCD) of two numbers.\n",
    "<div class=\"alert alert-block alert-info\">\n",
    "\n",
    "  Given two  integers $m, n$ that are not both zero, their greatest common divisor $GCD(m, n)$ is the largest number $k$ that divides both $m, n$.\n",
    "\n",
    "</div>\n",
    "\n",
    "By convention, we will have (a)  $GCD(m, n)$ be a positive number, (b) $GCD(m, n) = GCD(n, m)$,  (c) $GCD(m, 0) = m$ for $m \\not= 0$ and (d) $GCD(0,0)$  be undefined.\n",
    "\n",
    "### Examples\n",
    " - $GCD(15, 12) = 3$\n",
    " - $GCD(35, 14) = 7$\n",
    " - $GCD(75, 15) = 15$\n",
    " - $GCD(7, 9) = 1$\n",
    " - $GCD(18, 18) = 18$\n",
    " - $GCD(n, 1) = 1$ for all $n$.\n",
    " \n",
    " \n",
    "<div class=\"alert alert-block alert-warning\">\n",
    "\n",
    "  Two numbers $m, n$ are <i> relatively prime </i> if $GCD(m,n) = 1$.\n",
    "\n",
    "</div>\n",
    "\n",
    "Given two numbers $m, n$, we can find their GCDs using Euclid's algorithm. The key insight into Euclid's algorithm is as follows:\n",
    "\n",
    "<div class=\"alert alert-block alert-info\">\n",
    "\n",
    "For all integers $m$ and $n \\not= 0$, $GCD(m, n) = GCD(n,\\ m \\bmod n)$ (recall $m \\bmod n$ is the reminder when $m$ is divided by $n$).\n",
    "\n",
    "</div>\n",
    "\n",
    "**Proof** Let $r = (m \\bmod n)$. Therefore, $m = q n +r $ for some quotient $q$.  We will prove that any number that divides both $m, n$  will also divide both $n, r$, and vice-versa.  \n",
    "\n",
    "Let $k$ divide $m, n$. \n",
    "Therefore, $m = q_1 k$ and $n = q_2 k$ for integers $q_1, q_2$. Hence, $r = m - q n = q_1 k - q q_2 k = (q_1 - q q_2)k$. Therefore, $k$ divides $r$.\n",
    "\n",
    "Similarly, suppose $k$ divides $n, r$, then $n = k_1 k$ and $r = k_2 k$ for some integers $k_1, k_2$. Thus, \n",
    "$m = q n + r = q k_1 k + k_2 k = (q k_1 + k_2) k$. Therefore, $k$ divides $m$ as well. \n",
    "\n",
    "The _common divisors_ of $m, n$ are all common divisors of $n, r$ and vice-versa. Therefore, $GCD(m, n) = GCD(n, r)$. __QED__\n",
    "\n",
    "Therefore, Euclid's algorithm for finding the GCD of two numbers $m, n$ where $m \\geq n$, recursively seeks to find the GCD of $n, m \\bmod n$. "
   ]
  },
  {
   "cell_type": "code",
   "execution_count": null,
   "metadata": {
    "ExecuteTime": {
     "end_time": "2024-02-06T04:05:43.964017Z",
     "start_time": "2024-02-06T04:05:43.959787Z"
    }
   },
   "outputs": [],
   "source": [
    "def euclids_algorithm(m, n):\n",
    "    if m < 0: \n",
    "        m = -m  # make them positive\n",
    "    if n < 0: \n",
    "        n = -n \n",
    "    if m < n:\n",
    "        (m, n) = (n, m) \n",
    "    assert m >= n and m >= 1 and n >= 0\n",
    "    if n == 0:\n",
    "        return m if m != 0 else None \n",
    "    \n",
    "    print(f'GCD({m}, {n})')\n",
    "    \n",
    "    while n > 0:\n",
    "        (m, n) = (n, m % n) # the new value of m = n, and new value n = m % n\n",
    "        print(f'= GCD({m}, {n})')\n",
    "\n",
    "    assert n == 0\n",
    "    print(f'= {m}')\n",
    "    return m"
   ]
  },
  {
   "cell_type": "code",
   "execution_count": null,
   "metadata": {
    "ExecuteTime": {
     "end_time": "2024-02-06T04:05:46.436554Z",
     "start_time": "2024-02-06T04:05:46.432523Z"
    }
   },
   "outputs": [],
   "source": [
    "euclids_algorithm(15, 12)"
   ]
  },
  {
   "cell_type": "code",
   "execution_count": null,
   "metadata": {
    "ExecuteTime": {
     "end_time": "2024-02-06T04:05:46.967464Z",
     "start_time": "2024-02-06T04:05:46.963435Z"
    }
   },
   "outputs": [],
   "source": [
    "euclids_algorithm(35, 14)"
   ]
  },
  {
   "cell_type": "code",
   "execution_count": null,
   "metadata": {
    "ExecuteTime": {
     "end_time": "2024-02-06T04:05:47.438791Z",
     "start_time": "2024-02-06T04:05:47.434779Z"
    }
   },
   "outputs": [],
   "source": [
    "euclids_algorithm(10, 10)"
   ]
  },
  {
   "cell_type": "code",
   "execution_count": null,
   "metadata": {
    "ExecuteTime": {
     "end_time": "2024-02-06T04:05:47.954102Z",
     "start_time": "2024-02-06T04:05:47.949656Z"
    }
   },
   "outputs": [],
   "source": [
    "euclids_algorithm(75, 15)"
   ]
  },
  {
   "cell_type": "code",
   "execution_count": null,
   "metadata": {
    "ExecuteTime": {
     "end_time": "2024-02-06T04:05:48.493178Z",
     "start_time": "2024-02-06T04:05:48.489068Z"
    }
   },
   "outputs": [],
   "source": [
    "euclids_algorithm(7, 9)"
   ]
  },
  {
   "cell_type": "code",
   "execution_count": null,
   "metadata": {
    "ExecuteTime": {
     "end_time": "2024-02-06T04:05:49.344111Z",
     "start_time": "2024-02-06T04:05:49.339397Z"
    }
   },
   "outputs": [],
   "source": [
    "euclids_algorithm(10909014081, 1092091)"
   ]
  },
  {
   "cell_type": "markdown",
   "metadata": {},
   "source": [
    "## Running Time of Euclid's Algorithm \n",
    "\n",
    "How fast is Euclid's algorithm? Suppose we have two numbers $m, n$ as input, we need to figure out a bound on the number of times the while loop in Euclid's algorithm runs in terms of the sizes of $m, n$.\n",
    "\n",
    "<div class=\"alert alert-block alert-warning\">\n",
    "\n",
    "  The size of a number is measured in terms of the number of bits in its binary representation. Typically, the size of a number $n$ is given by (the smallest whole number greater than or equal to) $1+\\log_2(n)$.\n",
    "\n",
    "</div>\n",
    "\n",
    "For instance, the size of the number $256$ is $9$ since it can be represented by a $1$ followed by $8$ zeros in binary.  However, we will simply write $\\log_2(n)$ to denote the size of the number $n$, dispensing with the rounding up to the nearest whole number or the extra bit etc..\n",
    "\n",
    "\n",
    "The question thus becomes: Given two numbers $m, n$ whose sizes are $\\log_2(m)$ and $\\log_2(n)$ respectively, how long does Euclid's algorithm take _in the worst case_.\n",
    "\n",
    "We will turn the question on its head and instead answer the following question: How big do $m, n$ have to be for the while loop in Euclid's algorithm to run $k$ steps. For instance, see above for an instance where Euclid's algorithm runs $7$ steps. But the numbers involved are fairly big. If we wanted to make Euclid's algorithm run $15$ steps, how big do the numbers have to be?\n",
    "\n",
    "Recall Fibonacci numbers are given by the sequence: \n",
    "$$ F_0 = 0, F_1 = 1, F_2 = 1, F_3 = 2, F_4 = 3, F_5 = 5, F_6 = 8, F_7 = 13, F_8 = 21, \\ldots $$\n",
    "\n",
    "In other words, they are formed by setting $F_0 = 0, F_1 = 1$ and the rule $F_{k+2} = F_k + F_{k+1}$ for all $k \\geq 0$.\n",
    "\n",
    "Assume, we are running Euclid's algorithm on twwo numbers $m, n$ where $m \\geq n$, $m > 0$ and $n \\geq 0$.\n",
    "\n",
    "<div class=\"alert alert-block alert-info\">\n",
    "\n",
    "<b> Theorem: </b> \n",
    "\n",
    "For Euclid's algorithm's while loop to run at least $k$ steps, we need  $n \\geq F_{k}$ and $m \\geq F_{k+1}$.\n",
    "\n",
    "</div> \n",
    "\n",
    "Proof is by induction on $k$, the number of times Euclid's algorithm runs. \n",
    "\n",
    "**Base Case** For $k = 0$, we verify (trivially) that if the algorithm runs for at least $0$ steps, \n",
    "then $n \\geq 0$  and $m \\geq 1$. This holds trivially from what we assumed about the algorithm's inputs.\n",
    "    \n",
    "**Induction** Suppose for some $k \\geq 0$, if Euclid's algorithm runs at least $k$ iterations of the while loop then $n \\geq F_{k}$ and $m \\geq F_{k+1}$. \n",
    "\n",
    "Let us assume for some $\\hat{m}, \\hat{n}$ inputs that Euclid's algorithm runs at least $k+1$ steps of the while loop. Note that $\\hat{m} \\geq \\hat{n}$. \n",
    "\n",
    "The very first iteration sets $m_1 = \\hat{n}$ and $n_1 = (\\hat{m} \\bmod \\hat{n})$. Now, if we input $(m_1, n_1)$ to Euclid's algorithm, it would run at least $k$ steps. Therefore, by induction hypothesis, \n",
    "$m_1 \\geq F_{k+1}$ and $n_1 \\geq F_k$.  In otherwords, $\\hat{n} = m_1 \\geq F_{k+1}$. Also,\n",
    "\n",
    "$$F_{k} \\leq n_1 = \\hat{m} \\bmod \\hat{n} \\leq \\hat{m} - \\hat{n} \\,.$$ \n",
    "Rearranging, we have $ \\hat{m} \\geq F_k + \\hat{n} \\geq F_k + F_{k+1} \\geq F_{k+2}$. \n",
    "\n",
    "The theorem is thus established by induction. __QED__\n",
    "\n",
    "As an illustration, let us make Euclid's algorithm run $15$ steps.\n"
   ]
  },
  {
   "cell_type": "code",
   "execution_count": null,
   "metadata": {
    "ExecuteTime": {
     "end_time": "2024-02-06T04:12:05.018829Z",
     "start_time": "2024-02-06T04:12:05.013149Z"
    }
   },
   "outputs": [],
   "source": [
    "euclids_algorithm(987, 610)"
   ]
  },
  {
   "cell_type": "markdown",
   "metadata": {},
   "source": [
    "Notice how Fibonacci numbers appear in the successive iterations of the algorithm. Next, we note the following well known fact:\n",
    "\n",
    "<div class=\"alert alert-block alert-info\">\n",
    "\n",
    "  For all $k \\geq 2$, $F_k \\geq (1.6)^{k-2}$.\n",
    "\n",
    "</div>\n",
    "\n",
    "**Proof** Proof is by induction. We verify the base cases: the result holds for $k = 2$, $F_2 = 1 \\geq 1.6^0 \\geq 1$ and $k = 3$,  $F_3 = 2 \\geq 1.6^1 = 1.6$.\n",
    "\n",
    "Suppose it holds two consecutive numbers $k, k+1$ where $k \\geq 2$.\n",
    "$$F_{k+2} = F_k + F_{k+1} \\geq 1.6^{k-2} + 1.6^{k-1} \\geq 1.6^{k} \\left(\\frac{1}{1.6^2} + \\frac{1}{1.6}\\right) = 1.015625 \\times 1.6^{k} \\geq 1.6^{k}\\,.$$\n",
    "The result is thus proven using induction. __QED__\n",
    "\n",
    "<div class=\"alert alert-block alert-info\">\n",
    "\n",
    "The running time of Euclid's algorithm on two inputs $m, n$ each of size $l$ bits is $O(l)$.\n",
    "\n",
    "</div>\n",
    "\n",
    "Let $m, n$ be two numbers of at most $l$ bits. Therefore, $m \\leq 2^l$ and $n \\leq 2^l$. Suppose Euclid's algorithm ran for $k$ steps on $m, n$ then we conclude that $m \\geq F_{k+1}$, the $(k+1)^{th}$ Fibonacci number. \n",
    "Therefore, $2^l \\geq m \\geq 1.6^{k-1}$. Hence, $ (k-1) \\log(1.6) \\leq l$. Therefore, $k \\leq 1 + \\frac{l}{\\log(1.6)} = O(l)$. __QED__\n",
    "\n",
    "\n",
    "<div class=\"alert alert-block alert-info\">\n",
    "\n",
    "  Euclid's algorithm runs in time linear in the number of bits needed to represent its inputs $m, n$.\n",
    "\n",
    "</div>\n",
    "\n",
    "\n",
    "## Bezout's Theorem and Extended Euclid's Algorithm\n",
    "\n",
    "Next, we will go over a simple extension to Euclid's algorithm that will be quite helpful in developing the RSA cryptosystem. This is a theorem by the famous French mathematician Etienne Bezout.\n",
    "\n",
    "Given two numbers say $16$ and $12$, we consider all numbers that can be written in the form \n",
    "$16s + 12t$ for integers $16, 12$. \n",
    "  - With $s = t = 1$, we get $28$.\n",
    "  - With $s= 1, t= -1$, we get $4$.\n",
    "  - With $s = -2, t = 3$, we get $4$.\n",
    "  - With $s = 2, t= -2$, we obtain $8$.\n",
    "  - ...\n",
    "\n",
    "What can we say about the (non-negative) numbers that we can generate in this fashion? Notice that they are all multiples of $4$ and in fact, $4$ is the smallest such natural number. In fact, we cannot write\n",
    "$16s + 12t = 1$ for any choice of integers $s, t$.\n",
    "\n",
    "\n",
    "<div class=\"alert alert-block alert-warning\">\n",
    "\n",
    "  Given $m, n$ where $m \\geq 1$ and $n \\geq 0$, we can write $GCD(m, n) = s \\times m + t \\times n$ for integers $s, t$.\n",
    "\n",
    "</div> \n",
    "\n",
    "We will give an \"algorithmic\" proof by extending Euclid's algorithm to not just generate the GCD of two numbers but also provide the \"Bezout coefficients\"."
   ]
  },
  {
   "cell_type": "code",
   "execution_count": null,
   "metadata": {
    "ExecuteTime": {
     "end_time": "2024-02-06T04:45:40.077150Z",
     "start_time": "2024-02-06T04:45:40.071172Z"
    }
   },
   "outputs": [],
   "source": [
    "def extended_euclid(m, n):\n",
    "    assert m >= 1 and n >= 0 and m >= n\n",
    "    m0, n0 = m, n # let's rememver the initial values\n",
    "    (s, t) = (1, 0)# m = s * m0 + t * n0\n",
    "    (s_hat, t_hat) = (0, 1) # n = s_hat * m0 + t_hat * n0\n",
    "    while n > 0:\n",
    "        assert m == s * m0 + t * n0\n",
    "        assert n == s_hat * m0 + t_hat * n0\n",
    "        q = m // n # compute the integer quotient \n",
    "        r = m % n # the reminder \n",
    "        # m = q * n + r, or alternatively, r = m - q * n = (s-q*s_hat) * m_0 + (t - q * t_hat)* n_0  \n",
    "        a, b = (s - q*s_hat, t - q * t_hat)\n",
    "        (m, n, s, t, s_hat, t_hat) = (n, r, s_hat, t_hat, a, b)\n",
    "        print(f'GCD({m0}, {n0}) = GCD({m}, {n})')\n",
    "        print(f'\\t {m} = {s}*{m0} + {t} * {n0}')\n",
    "        print(f'\\t {n} = {s_hat}*{m0} + {t_hat} * {n0}')\n",
    "    return m, s, t\n",
    "        "
   ]
  },
  {
   "cell_type": "code",
   "execution_count": null,
   "metadata": {
    "ExecuteTime": {
     "end_time": "2024-02-06T04:46:10.016518Z",
     "start_time": "2024-02-06T04:46:10.012878Z"
    }
   },
   "outputs": [],
   "source": [
    "(g, s, t) = extended_euclid(16, 12)"
   ]
  },
  {
   "cell_type": "code",
   "execution_count": null,
   "metadata": {
    "ExecuteTime": {
     "end_time": "2024-02-06T04:50:07.975714Z",
     "start_time": "2024-02-06T04:50:07.972016Z"
    }
   },
   "outputs": [],
   "source": [
    "(g, s, t) = extended_euclid(19, 17)"
   ]
  },
  {
   "cell_type": "markdown",
   "metadata": {},
   "source": [
    "The actual proof of Bezout's theorem is through induction. But the extended Euclid's algorithm shows that we can systematically construct/maintain the Bezout coefficients as we run Euclid's algorithm.\n",
    "\n",
    "Here is a corollary we will use in our derivation of the RSA cryptosystem.\n",
    "\n",
    "<div class=\"alert alert-block alert-info\">\n",
    "\n",
    "  If two numbers $m, n$ are relatively prime, then there exists integers $s, t$ such that \n",
    "  $s m + tn = 1$.\n",
    "\n",
    "</div>\n",
    "\n",
    "Note that two numbers are relatively prime iff their GCD is $1$. The rest is by Bezout's theorem. "
   ]
  },
  {
   "cell_type": "code",
   "execution_count": null,
   "metadata": {
    "ExecuteTime": {
     "end_time": "2024-02-06T22:43:49.763487Z",
     "start_time": "2024-02-06T22:43:49.751450Z"
    }
   },
   "outputs": [],
   "source": [
    "extended_euclid(60, 13)"
   ]
  },
  {
   "cell_type": "markdown",
   "metadata": {},
   "source": [
    "Hopefully, the small primer on number theory brings back some memories from high-school and undergraduate mathematics. If not, welcome to the party!! Please get comfortable with the concepts in these notes and review the proofs, especially proof by induction.  Next, we will derive the RSA scheme for _public key_ cryptography."
   ]
  }
 ],
 "metadata": {
  "kernelspec": {
   "display_name": "Python 3",
   "language": "python",
   "name": "python3"
  },
  "language_info": {
   "codemirror_mode": {
    "name": "ipython",
    "version": 3
   },
   "file_extension": ".py",
   "mimetype": "text/x-python",
   "name": "python",
   "nbconvert_exporter": "python",
   "pygments_lexer": "ipython3",
   "version": "3.7.6"
  }
 },
 "nbformat": 4,
 "nbformat_minor": 5
}
