{
 "cells": [
  {
   "cell_type": "markdown",
   "metadata": {},
   "source": [
    "## Suffix Tries\n",
    "\n",
    "We will present some notes and implementations of Suffix Tries. We will work directly with so-called \"compressed tries\". What we are describing in these notes is often called a _generalized suffix trie_. \n",
    "\n",
    "This presentation is going to be somewhat sketchy. While the ideas are quite intuitive, the _devil_ (as they say) is in the _details_. The details are hard to describe fully and reading the code should give you a great idea. I sourced my presentation from two sources:\n",
    "\n",
    "<div class=\"alert alert-block\" style=\"border-color: black white black white\">\n",
    "    <ol>\n",
    "        <li> Dan Gusfield's excellent book titled <i> Algorithms on Strings, Trees and Sequences </i>. \n",
    "         <li> Chapter on suffix tries available in the <i> Handbook of Data-Structures </i> by Dinesh P. Mehta and Sartaj Sahni (this is a much shorter presentation and also includes a related data structure called suffix arrays).\n",
    "    </ol>\n",
    "</div>\n",
    "\n",
    "\n",
    "A suffix trie is a _trie data structure_ whose set of strings correspond to all the suffixes of a given string. As an example, consider the string _mamamia\\$_ wherein \"\\$\" represents the special termination character that only appears at the end of the string.\n",
    "  - The suffixes are { _mamamia\\$_, _amamamia\\$_, _amamia\\$_, _mamia\\$_, _amia\\$_, _mia\\$_, _ia\\$_, _a\\$_, _\\$_ }\n",
    "\n",
    "The (generalized) suffix trie for the string \"mamamia\\$\" is shown below:\n",
    "<img src=\"./mamamia-suffix-trie.png\" width=\"60%\"></img>\n",
    "\n",
    "For the time being ignore the red dashed edges (they are called suffix links and will be described subsequently). \n",
    "\n",
    " - The internal nodes are shown in blue and leaves in green.\n",
    " \n",
    "Each path from the root to leaf corrresponds to a suffix of the string (see set above)\n",
    "and every suffix belongs to precisely one path. \n",
    "\n",
    " - Each leaf is labeled \"l\\<i\\>s\\<j\\>\" for two numbers $i, j$ wherein $i$ denotes the \n",
    " ID and $j$ denotes the starting position of the suffix that the leaf represents.\n",
    "\n",
    "Note that the edges are \"compressed\": each edge is labeled by a substring of the \n",
    "original string rather than by a single character (in the case of a regular trie).\n",
    "Also for every internal node, no two outgoing edges represent strings beginning with the same character. \n",
    "\n",
    "Therefore, for any string, there is either a unique path in the suffix trie starting from the root, or no path at all. Returning to the \"mamamia$\" example above, \n",
    "  - The string \"amia\" traces the path $$n0 \\rightarrow n10 \\rightarrow n5 \\rightarrow ((\\text{two characters offset into the edge from }\\ n5\\ \\text{to}\\ l6)) $$\n",
    "  - On the other hand, there is no path corresponding to the string \"anana\" in the suffix trie. \n",
    "  \n",
    "The key property of a suffix trie is the following:\n",
    "\n",
    "<div class=\"alert alert-block\" style=\"border-color: black white black white; border-style:dashed\">\n",
    "  Every path from root to leaf corresponds to a unique suffix of the string, and every suffix corresponds to a unique path from root to leaf.\n",
    "\n",
    "</div>\n",
    "\n",
    "Note that every node $n$ in the suffix trie has a unique path from the root to it and therefore has a unique string $s(n)$ that leads us from the root to that node. Note that $s(n) $ is empty if $n$ is the root node.\n",
    "\n",
    "For the suffix trie in the \"mamamia$\" example above, we have the following values for $s(n)$ for various nodes $n$:\n",
    "\n",
    "$$\\begin{array}{rl}\n",
    "\\hline\n",
    "n & s(n) \\\\ \n",
    "\\hline \n",
    "n_0 & \\text{<empty>} \\\\ \n",
    "n_7 & m \\\\ \n",
    "n_{10} & a \\\\ \n",
    "n_3 & mam \\\\ \n",
    "n_5 & am \\\\ \n",
    "\\hline\n",
    "\\end{array}$$\n",
    "\n",
    "### Suffix Links\n",
    "\n",
    "Suffix links are a useful short cut between nodes in the trees. Let $n$ be an internal node where $s(n) = c \\alpha$ where $c$ is a character and $\\alpha$ is a substring. \n",
    "The suffix link is an edge of the form \n",
    "$n \\rightarrow m$, such that $s(m) = \\alpha$.\n",
    "\n",
    "We will set the suffix link for the root to be itself by convention.\n",
    "\n",
    "For the suffix trie in the \"mamamia$\" example above, the suffix links are shown as red dashed lines.\n",
    "\n",
    "However, the key question is that why does a suffix link for a node need to point to another node. Could it not be possible that the suffix link for a node point to somewere in the middle of the string that labels an edge.\n",
    "\n",
    "<div class=\"alert alert-block\" style=\"\">\n",
    "\n",
    "Let $n$ be an internal node such that $s(n) = c \\alpha$. There must be an internal node $m$ in the suffix trie such that $s(m) = \\alpha$.\n",
    "</div>\n",
    "\n",
    "**Proof:** Note that there must be a path in the tree corresponding to $\\alpha$. We just need to show that the path cannot end up in a leaf node or in the middle of an edge. \n",
    "First off, since $n$ is an internal node of a compressed suffix trie, there are at least two suffixes in the original string of the form $c \\alpha \\beta_1$ and \n",
    "$c \\alpha \\beta_2$ for non-empty substrings $\\beta_1, \\beta_2$. Therefore, there are at least two suffixes $\\alpha \\beta_1$ and $\\alpha \\beta_2$, where $\\beta_1, \\beta_2$ differ at their very first position. Hence, the path starting from root corresponding to $\\alpha$ cannot end in a leaf since there must be paths corresponding to $\\alpha \\beta_1$ and $\\alpha \\beta_2$. Also, it cannot end in the middle of an edge for the same reason since $\\beta_1, \\beta_2$ differ at the very first position. \n",
    "\n",
    "### Implementation\n",
    "\n",
    "We will represent the root and internal nodes using the `SuffixTrieNode` class below.\n",
    "It stores the following fields\n",
    "  - `orig_str`: the original string.\n",
    "  - `outgoing_edges`: a dictionary that maps characters to the outgoing edge that begins with the char.\n",
    "  - `suffix_link`: the suffix link of the node, if it exists.\n",
    "  - `depth`: the number of characters in the unique string that leads from the root to the node.\n",
    " - `id`: a unique number/id for the node. We reserve the id `0` for the root node.\n",
    " - `parent`: a pointer to the parent of the node. This is set to `None` for the root.\n"
   ]
  },
  {
   "cell_type": "code",
   "execution_count": null,
   "metadata": {
    "ExecuteTime": {
     "end_time": "2024-03-28T16:04:53.416988Z",
     "start_time": "2024-03-28T16:04:53.402215Z"
    }
   },
   "outputs": [],
   "source": [
    "class SuffixTrieNode:\n",
    "    \n",
    "    def __init__(self, node_id, orig_str):\n",
    "        self.orig_str = orig_str # a reference to the entire string\n",
    "        self.outgoing_edges = {} # dictionary from chars to edges\n",
    "        self.suffix_link = None  # suffix link : initially set to None\n",
    "        self.id = node_id # Note: id == 0 is taken to be root for now.\n",
    "        self.depth = 0 # automatically set the depth when node's parent is set\n",
    "        self.parent = None # parent pointer\n",
    "        \n",
    "    def is_root(self):\n",
    "        return self.id == 0\n",
    "        \n",
    "    def get_edge(self, char):\n",
    "        if char in self.outgoing_edges:\n",
    "            return self.outgoing_edges[char]\n",
    "        else:\n",
    "            return None\n",
    "        \n",
    "    def is_leaf(self):\n",
    "        return False\n",
    "    \n",
    "    def add_suffix_link(self, node):\n",
    "        self.suffix_link = node\n",
    "        \n",
    "    def add_outgoing_edge(self, new_edge):\n",
    "        edge_init_char = new_edge.get_char_at(0)\n",
    "        # ensure that an edge with the initial character does not exist\n",
    "        assert edge_init_char not in self.outgoing_edges, f\"Char {edge_init_char} already has an outgoing edge for node id:{self.id}\"\n",
    "        #ensure that the new_edge src matches self\n",
    "        assert new_edge.src.id == self.id, f\"Src node in outgoing edge id:{new_edge.src.id} does not match node id {self.id}\"\n",
    "        # add the new edge to the dictionary with the initial char as key\n",
    "        self.outgoing_edges[edge_init_char] = new_edge\n",
    "        # add a parent pointer from destination to the src of the new edge\n",
    "        new_edge.dest.parent = new_edge.src # set the parent pointer of the new edges dest\n",
    "        if not new_edge.is_leaf_edge(): # set the depth of the destination node for the edge\n",
    "            new_edge.dest.depth = self.depth + new_edge.length()\n",
    "       \n",
    "        \n",
    "    def find_edge_corresponding_to_child(self, child_node):\n",
    "        # search among outgoing edges to see if there is one whose destination is the child node\n",
    "        for (_, edge) in self.outgoing_edges.items():\n",
    "            if edge.dest.id == child_node.id:\n",
    "                return edge\n",
    "        return None # no such edge found\n",
    "    \n",
    "        \n",
    "    "
   ]
  },
  {
   "cell_type": "markdown",
   "metadata": {},
   "source": [
    "We will use the `SuffixTrieLeaf` structure to represent leaves of the suffix trie.\n",
    "Leaves will have a field `suffix_start_pos` that tells us where the suffix for the path from root to leaf starts in the original string.\n",
    "\n",
    "Going back to the example suffix trie shown above for \"mamamia$\", we have labeled each leaf (shown in green) as `l<id>s<suffix_start_pos>` that gives us the starting position of the suffix that corresponds to a given leaf. "
   ]
  },
  {
   "cell_type": "code",
   "execution_count": null,
   "metadata": {
    "ExecuteTime": {
     "end_time": "2024-03-28T16:04:53.424059Z",
     "start_time": "2024-03-28T16:04:53.420373Z"
    }
   },
   "outputs": [],
   "source": [
    "class SuffixTrieLeaf:\n",
    "    def __init__(self, node_id, orig_str, suffix_start_pos):\n",
    "        self.orig_str = orig_str # the original string\n",
    "        self.id  = node_id # the id of this node\n",
    "        assert 0 <= suffix_start_pos < len(orig_str) \n",
    "        self.suffix_start_pos = suffix_start_pos # the starting pos for the suffix\n",
    "        self.parent = None # parent pointer initially set to None\n",
    "        \n",
    "    def is_leaf(self):\n",
    "        return True\n",
    "    "
   ]
  },
  {
   "cell_type": "markdown",
   "metadata": {},
   "source": [
    "The `SuffixTrieEdge` structure repreents an edge. An edge goes from `src` to `dest` nodes which can be internal nodes or `dest` can be a leaf.\n",
    "\n",
    "Also the edge has two integers `lo` and `hi` that refer to positions in the string The edge is taken to represent the substring from positions `lo` to `hi` inclusive. Note that `hi=-1` represents the end of the string."
   ]
  },
  {
   "cell_type": "code",
   "execution_count": null,
   "metadata": {
    "ExecuteTime": {
     "end_time": "2024-03-28T16:04:53.433933Z",
     "start_time": "2024-03-28T16:04:53.426101Z"
    }
   },
   "outputs": [],
   "source": [
    "class SuffixTrieEdge:\n",
    "    \n",
    "    def __init__(self, orig_str, src_node, dest_node, lo, hi):\n",
    "        assert 0 <= lo < len(orig_str) # lo must be a valid position in the original string\n",
    "        # if destination node is a leaf then hi == -1 else hi != -1\n",
    "        if dest_node.is_leaf():\n",
    "            assert hi == -1 \n",
    "        else:\n",
    "            assert lo <= hi <= len(orig_str)\n",
    "        assert not src_node.is_leaf() # src node cannot be a leaf.\n",
    "        # edge represents str[lo]...str[hi] inclusive if hi != -1\n",
    "        # or set[lo] ... str[end]\n",
    "        self.orig_str = orig_str # set the orig_str field\n",
    "        self.lo = lo # set lo/hi\n",
    "        self.hi = hi \n",
    "        self.src = src_node # set src/dest\n",
    "        self.dest = dest_node\n",
    "        \n",
    "    def is_leaf_edge(self):\n",
    "        return self.hi == -1\n",
    "    \n",
    "    def length(self):\n",
    "        if self.hi == -1:\n",
    "            return -1\n",
    "        else:\n",
    "            return self.hi - self.lo + 1\n",
    "    \n",
    "    def get_char_at(self, offs):\n",
    "        assert self.hi == -1 or offs + self.lo <= self.hi\n",
    "        return self.orig_str[self.lo + offs]\n",
    "    \n",
    "    \n",
    "    def get_sub_str(self, end=-1):\n",
    "        if self.hi == -1:\n",
    "            return self.orig_str[self.lo:end] if (end != -1) else self.orig_str[self.lo:]\n",
    "        \n",
    "        else:\n",
    "            return self.orig_str[self.lo:self.hi+1]\n",
    "        \n",
    "        \n",
    "    def reset_hi_and_dest(self, new_dest, new_hi):\n",
    "        assert new_hi >= self.lo, f\"Cannot replace hi value by {new_hi}\"\n",
    "        assert not new_dest.is_leaf(), \"Cannot replace destination by a leaf node\"\n",
    "        self.hi = new_hi\n",
    "        new_dest.parent = self.src\n",
    "        new_dest.depth = self.src.depth + self.length()\n",
    "        self.dest = new_dest\n",
    "        \n",
    "    \n",
    "    \n",
    "        \n",
    "        "
   ]
  },
  {
   "cell_type": "markdown",
   "metadata": {},
   "source": [
    "As a convenience, we will define a structure called an `TrieAddress` to refer to locations within a suffix trie. A trie address can be of two types:\n",
    "  - A node (can be a root or internal node) of the trie, or\n",
    "  - A triple `(node, edge, offset)` consisting of the \n",
    "     - internal/root `node`\n",
    "     - An `edge` that must be an outgoing edge from the `node`\n",
    "     - An `offset` that must be between 1 and  the edge length -1.\n",
    "\n",
    "\n",
    "An address helps is point to a location in the trie that can be at a node or somewhere in the \"middle\" of an edge.\n",
    "\n",
    "As an example `TrieAddress(n7, n7 -> n3, 1)` refers to a pointer that points to after the character `a` in the edge labled `am` from `n7` to `n3`.\n",
    "\n",
    "Likewise `TrieAddress(n7, None, 0)` points to the internal node `n7`. If the suffix trie were actually a \"full trie\" with each edge labeled by a single character rather than a compressed trie (wherein each edge can be labeled by an arbitrary substring), a trie address would simply have pointed to a node of the full trie.\n",
    "\n",
    "\n",
    "The trie address class implements three critical helper methods:\n",
    "  - `address.travserse_next(c)` :  find the next address if we are currently located at `address` and then  encountered character `c`.\n",
    "  - `address.compute_suffix()`: every address corresponds to a unique substring that takes us from the root node to that address. Suppose this string is of the form $c\\alpha$, `compute_suffix` seeks to find the address corresponding to the string $\\alpha$.\n",
    "  - `address.create_new_edge_at`: If `address` points to an internal node, create a new edge with a new leaf node as destination corresponding to the suffix starting at position `i` of the original string. Else, if the address points to the middle of the string, \"split\" the edge and create a new internal edge/leaf.\n",
    "  \n",
    "  All of these routines are somewhat complicated since they need to deal with different cases. The comments will help you follow the logic of the code.\n",
    "  Examples of each routine are provided based on the running example of \"mamamia$\"."
   ]
  },
  {
   "cell_type": "code",
   "execution_count": null,
   "metadata": {
    "ExecuteTime": {
     "end_time": "2024-03-28T19:25:02.546064Z",
     "start_time": "2024-03-28T19:25:02.525843Z"
    }
   },
   "outputs": [],
   "source": [
    "class TrieAddress:\n",
    "    \n",
    "    def __init__(self,  node, edge=None, offs=0):\n",
    "        assert 0 <= offs \n",
    "        self.node = node # set the node\n",
    "        self.edge = edge # set the edge\n",
    "        self.offs = offs # set the offset\n",
    "        if self.edge != None:\n",
    "            assert self.offs > 0\n",
    "        else:\n",
    "            assert self.offs == 0\n",
    "    \n",
    "    def traverse_next(self, c):\n",
    "        \"\"\"Function traverse_next: find the next address (if one exists) that \n",
    "           is obtained when we encounter character c. Return the new address if \n",
    "           one exists or else return None.\"\"\"\n",
    "        if self.edge == None: # Is the address pointing to an internal node?\n",
    "            # Yes: address is just a pointer to an internal node/root.\n",
    "            # check if the node has an outgoing edge corresponding to 'c'\n",
    "            new_edge = self.node.get_edge(c) # try to get a new edge corresponding to character `c`.\n",
    "            if new_edge == None:\n",
    "                return None # No such edge, then return None\n",
    "            else: # new_edge != None\n",
    "                assert new_edge.get_char_at(0) == c # got an edge. Check that we got the right one.\n",
    "                if new_edge.is_leaf_edge() or new_edge.length() > 1: # if new edge is a leaf edge, or its length is more than 2\n",
    "                    return TrieAddress( self.node, new_edge,  1 ) # return an address with an offset of 1 into the new edge\n",
    "                else:\n",
    "                    new_node = new_edge.dest # new edge is not a leaf and must have length exactly one\n",
    "                    return TrieAddress( new_node, None, 0) # the address must therefore be the destination.\n",
    "        else: # self.edge != None\n",
    "            # No: address is a pointer self.offs past self.node along self.edge\n",
    "            edge = self.edge \n",
    "            if edge.lo + self.offs < len(edge.orig_str) and edge.get_char_at(self.offs) == c:# if the next char is a `c`\n",
    "                if edge.is_leaf_edge() or self.offs < edge.length() -1 : # is the edge a leaf edge or do we have one more char in the edge?\n",
    "                    return TrieAddress(self.node, self.edge, self.offs+1) # return a new address that is just one further offset along same edge\n",
    "                else:\n",
    "                    dest_node = edge.dest # we reaches the destination node\n",
    "                    return TrieAddress( dest_node, None, 0) # return the new address\n",
    "            else: # next char is not a `c`\n",
    "                return None # no next address\n",
    "            \n",
    "    def compute_suffix(self, debug=False):\n",
    "        # to compute a suffix, follow the suffix link from the source node\n",
    "        #                      to get to a new source node.\n",
    "        #                     next, fetch the appropriate edge \n",
    "        #                     finally, move offset distance into the edge.\n",
    "        node = self.node # unpack\n",
    "        edge = self.edge \n",
    "        offs = self.offs \n",
    "        if node.id == 0 and offs <= 1: # If we are at the very root, the suffix is the same.\n",
    "                return TrieAddress(node, None, 0) # let's keep the suffix the same\n",
    "        if node.id == 0: # if we are the the root, the suffix node is the root\n",
    "            s_node = node\n",
    "        else:\n",
    "            s_node = node.suffix_link # otherwise, follow the suffix link.\n",
    "            assert s_node != None # assert that the suffix link should exist\n",
    "        \n",
    "        if edge == None: # if the address points right to a node, \n",
    "            return TrieAddress(s_node, None, offs) # the suffix address points right to the suffix node.\n",
    "        \n",
    "        if node.id == 0: # Are we are at the root.\n",
    "            c = edge.get_char_at(1) # compute the char c at position 1 of the edge.\n",
    "            s_edge = node.get_edge(c) # get the outgoing edge for that character c\n",
    "            assert s_edge != None, f\"No edge for char {c} at node {node.id}\" # this edge should exist\n",
    "            offs = offs - 1 # suffix is offs -1 length along s_edge\n",
    "            fwd = 1 # set the fwd pointer to 1 to indicate that we have moved one step fwd\n",
    "            if debug:\n",
    "                print(f\"Debug: Looking for {offs} past {s_edge.src.id, s_edge.dest.id}\")\n",
    "        else:\n",
    "            c = edge.get_char_at(0) # get the initial char at the edge\n",
    "            s_edge = s_node.get_edge(c) # get the corresponding edge at the suffix link\n",
    "            fwd = 0\n",
    "            assert s_edge != None, f\"No edge for char {c} at node {s_node.id}\"\n",
    "            if debug:\n",
    "                print(f\"Debug: Looking for {offs} past {s_edge.src.id, s_edge.dest.id}\")\n",
    "\n",
    "        assert s_edge != None # assert that the edge should exist\n",
    "         # Now we have to find the location that is offs steps away from s_node \n",
    "         # along s_edge. \n",
    "        if s_edge.is_leaf_edge() or offs < s_edge.length(): \n",
    "            # if the edge is leaf or the offset is less than the length\n",
    "            return TrieAddress(s_node, s_edge, offs) # we found the required suffix address along s_edge itself\n",
    "        else:\n",
    "            new_offs = offs # otherwise, move offset distance away from edge\n",
    "            # we may have to move across multiple nodes/edges to find the location \n",
    "            # that is offs away from node s_node.\n",
    "            while (not s_edge.is_leaf_edge()) and new_offs >= s_edge.length():\n",
    "                new_offs = new_offs - s_edge.length() # move forward edge length from s\n",
    "                fwd = fwd + s_edge.length()\n",
    "                s_node = s_edge.dest # get the destination node\n",
    "                if new_offs > 0:\n",
    "                    c = edge.get_char_at(fwd) # get the edge corresponding to the character\n",
    "                    s_edge = s_node.get_edge(c)\n",
    "                    assert s_edge != None\n",
    "                else:\n",
    "                    break\n",
    "            if new_offs > 0:\n",
    "                return TrieAddress(s_node, s_edge, new_offs)\n",
    "            else:\n",
    "                return TrieAddress(s_node, None, 0)\n",
    "\n",
    "    def create_new_edge_at(self, orig_str, i, node_id):\n",
    "        \"\"\"Create a new leaf edge in the suffix trie by \n",
    "           inserting the char at orig_str[i]. \"\"\"\n",
    "        assert i >= 0 and i < len(orig_str) # i better be a valid index into orig_str\n",
    "        c = orig_str[i]  # fetch the char\n",
    "        node = self.node # unpack \n",
    "        edge = self.edge \n",
    "        offs = self.offs\n",
    "        if edge == None: # if the current address points to an internal node\n",
    "            assert offs == 0\n",
    "            assert node.get_edge(orig_str[i]) == None, f\"Node {node.id} already has outgoing edge for {orig_str[i]}\"\n",
    "            new_leaf = SuffixTrieLeaf(node_id, orig_str, i - node.depth) # create a new leaf node to be the destination\n",
    "            new_edge = SuffixTrieEdge(orig_str, node, new_leaf, i, -1) # create a leaf edge with \n",
    "            node.add_outgoing_edge(new_edge) # add it to the node pointed by the current address\n",
    "            return (node, new_leaf, False) # return the node at which insertion happend, the new leaf and whether or not a new internal node was created\n",
    "        else:\n",
    "            assert edge.get_char_at(offs) != c, f'{edge.get_char_at(offs)}, {c}' # if the next char is c, we should not be calling this function\n",
    "            # split edge into two\n",
    "            node1 = SuffixTrieNode(node_id, orig_str) # create a new node       \n",
    "            src_node = edge.src \n",
    "            dest_node = edge.dest \n",
    "            lo = edge.lo\n",
    "            hi = edge.hi\n",
    "            # modify the current edge to make node1 its destination and the \n",
    "            # value of hi to be lo. +offs -1 \n",
    "            edge.reset_hi_and_dest(node1, lo+offs-1)\n",
    "            # create two new edges \n",
    "            # first one consists of the remaining part of edge\n",
    "            new_edge_1 = SuffixTrieEdge(orig_str, node1, dest_node, lo+offs, hi)\n",
    "            node1.add_outgoing_edge(new_edge_1)\n",
    "            suffix_start_pos = i - node1.depth\n",
    "            # create a new leaf node \n",
    "            new_leaf = SuffixTrieLeaf(node_id+1, orig_str, suffix_start_pos)\n",
    "            # create a new leaf edge \n",
    "            new_edge_2 = SuffixTrieEdge(orig_str, node1, new_leaf, i, -1)\n",
    "            node1.add_outgoing_edge(new_edge_2)\n",
    "            return (node1, new_leaf, True) # return newly created internal node and new leaf, True indicates that the internal node we are returning is newly created\n",
    "            \n",
    "    def is_at_root(self):\n",
    "        return self.node.id == 0 and self.offs == 0\n",
    "            \n",
    "    def compute_depth(self):\n",
    "        if self.edge == None:\n",
    "            return self.node.depth\n",
    "        else:\n",
    "            return self.node.depth + self.offs \n",
    "    \n",
    "    def __str__(self):\n",
    "        edge = self.edge\n",
    "        return f'{self.node.id}, {(edge.src.id, edge.dest.id) if edge != None else None}, {self.offs}'\n",
    "                "
   ]
  },
  {
   "cell_type": "markdown",
   "metadata": {},
   "source": [
    "Below, we have a very useful routine to draw a suffix trie using networkx package in Python."
   ]
  },
  {
   "cell_type": "code",
   "execution_count": null,
   "metadata": {
    "ExecuteTime": {
     "end_time": "2024-03-28T16:04:54.342793Z",
     "start_time": "2024-03-28T16:04:53.461796Z"
    }
   },
   "outputs": [],
   "source": [
    "import networkx as nx\n",
    "from matplotlib import pyplot as plt\n",
    "\n",
    "def draw_networkx_graph(root, end=-1, highlight_addr=None, filename=None):\n",
    "    worklist = [root]\n",
    "    node_labels={}\n",
    "    edge_str_label = {}\n",
    "    suffix_links = [] \n",
    "    leaf_nodes = []\n",
    "    internal_nodes = []\n",
    "    G = nx.DiGraph()\n",
    "    while len(worklist) > 0:\n",
    "        node = worklist.pop()\n",
    "        G.add_node(node.id)\n",
    "        if node.is_leaf():\n",
    "            leaf_nodes.append(node.id)\n",
    "            node_labels[node.id]= \"l\"+str(node.id) + \"s\"+str(node.suffix_start_pos)\n",
    "            continue\n",
    "        else:\n",
    "            internal_nodes.append(node.id)\n",
    "            node_labels[node.id]= \"n\"+str(node.id)\n",
    "        if node.suffix_link != None:\n",
    "            suffix_links.append((node.id, node.suffix_link.id))\n",
    "        for (c, edge) in node.outgoing_edges.items():\n",
    "            (u, v) = (edge.src.id, edge.dest.id)\n",
    "            G.add_edge(u, v)\n",
    "            s = edge.get_sub_str(end)\n",
    "            edge_str_label[(u,v)] = s\n",
    "            worklist.append(edge.dest)            \n",
    "    pos = nx.nx_agraph.graphviz_layout(G, prog=\"dot\")  # positions for all nodes\n",
    "    fig, ax = plt.subplots()\n",
    "    fig.set_tight_layout(True)\n",
    "    nx.draw_networkx_nodes(G, pos=pos, nodelist=internal_nodes,  node_shape=\"s\", node_color=\"lightcyan\")\n",
    "    nx.draw_networkx_nodes(G, pos=pos, nodelist=leaf_nodes, node_shape=\"s\", node_color=\"lightgreen\")\n",
    "    nx.draw_networkx_edges(G, pos=pos,width=2.0)\n",
    "    nx.draw_networkx_labels(G, pos, labels=node_labels, font_size=7, font_color='k')\n",
    "    #nx.draw_networkx_edge_labels(G, pos,edge_labels=edge_char_label, font_color='red')\n",
    "    nx.draw_networkx_edge_labels(G, pos,edge_labels=edge_str_label, font_color='blue', rotate=False)\n",
    "    nx.draw_networkx_edges(G, pos, width=0.5, edgelist=suffix_links, style='dashed', edge_color='r', connectionstyle='arc3,rad=0.2')\n",
    "    if highlight_addr != None:\n",
    "        node = highlight_addr.node \n",
    "        edge = highlight_addr.edge\n",
    "        offs = highlight_addr.offs\n",
    "        nx.draw_networkx_nodes(G, pos=pos, nodelist=[node.id],  node_shape=\"s\", node_color=\"yellow\")\n",
    "\n",
    "        if edge != None:\n",
    "            nx.draw_networkx_edges(G, edgelist=[(edge.src.id, edge.dest.id)], edge_color='b', width=2, pos=pos)\n",
    "            c = edge.get_char_at(0)\n",
    "            txt = f'{offs}'\n",
    "            x0,y0 = pos[node.id]\n",
    "            x1,y1 = pos[edge.dest.id]\n",
    "            (x, y) = ((3*x0+x1)/4, (3*y0+y1)/4)\n",
    "            props = dict(boxstyle='round', facecolor='wheat', alpha=0.5)\n",
    "            plt.text(x-0.5, y+0.5, s=txt,  fontsize=8, bbox=props,horizontalalignment='center')\n",
    "        \n",
    "    ax = plt.gca()\n",
    "    ax.margins(0.20)\n",
    "    plt.axis(\"off\")\n",
    "    if filename != None:\n",
    "        plt.savefig(filename, bbox_inches='tight')\n",
    "    plt.show()\n",
    "    \n",
    "        "
   ]
  },
  {
   "cell_type": "code",
   "execution_count": null,
   "metadata": {
    "ExecuteTime": {
     "end_time": "2024-03-28T16:04:54.686920Z",
     "start_time": "2024-03-28T16:04:54.344996Z"
    }
   },
   "outputs": [],
   "source": [
    "## Let's manually construct a test suffix trie for \"mamamia$\"\n",
    "orig_str = \"mamamia$\"\n",
    "\n",
    "n3 = SuffixTrieNode(3, orig_str)\n",
    "l31 = SuffixTrieLeaf(5, orig_str, 0)\n",
    "l32 = SuffixTrieLeaf(6, orig_str, 2)\n",
    "e31 = SuffixTrieEdge(orig_str, n3, l31, 3, -1)\n",
    "e32 = SuffixTrieEdge(orig_str, n3, l32, 5, -1)\n",
    "n3.add_outgoing_edge(e31)\n",
    "n3.add_outgoing_edge(e32)\n",
    "\n",
    "n4 = SuffixTrieNode(4, orig_str)\n",
    "\n",
    "l41 = SuffixTrieLeaf(8, orig_str, 1)\n",
    "l42 = SuffixTrieLeaf(9, orig_str, 3)\n",
    "e41 = SuffixTrieEdge(orig_str, n4, l41, 3, -1)\n",
    "e42 = SuffixTrieEdge(orig_str, n4, l42, 5, -1)\n",
    "n4.add_outgoing_edge(e41)\n",
    "n4.add_outgoing_edge(e42)\n",
    "\n",
    "n1 = SuffixTrieNode(1, orig_str)\n",
    "l11 = SuffixTrieLeaf(7, orig_str, 4)\n",
    "e11 = SuffixTrieEdge(orig_str, n1, n3, 1, 2)\n",
    "e12 = SuffixTrieEdge(orig_str, n1, l11, 5, -1)\n",
    "n1.add_outgoing_edge(e11)\n",
    "n1.add_outgoing_edge(e12)\n",
    "\n",
    "\n",
    "n2 = SuffixTrieNode(2, orig_str)\n",
    "l21 = SuffixTrieLeaf(10, orig_str, 6)\n",
    "e21 = SuffixTrieEdge(orig_str, n2, n4, 2, 2)\n",
    "e22 = SuffixTrieEdge(orig_str, n2, l21, 7, -1)\n",
    "n2.add_outgoing_edge(e21)\n",
    "n2.add_outgoing_edge(e22)\n",
    "\n",
    "root = SuffixTrieNode(0, orig_str)\n",
    "l11 = SuffixTrieLeaf(11, orig_str, 5)\n",
    "l12 = SuffixTrieLeaf(12, orig_str, 7)\n",
    "e01 = SuffixTrieEdge(orig_str, root, n1, 0, 0 )\n",
    "e02 = SuffixTrieEdge(orig_str, root, n2, 1, 1)\n",
    "e03 = SuffixTrieEdge(orig_str, root, l11, 5, -1)\n",
    "e04 = SuffixTrieEdge(orig_str, root, l12, 7,-1)\n",
    "root.add_outgoing_edge(e01)\n",
    "root.add_outgoing_edge(e02)\n",
    "root.add_outgoing_edge(e03)\n",
    "root.add_outgoing_edge(e04)\n",
    "root.add_suffix_link(root)\n",
    "n1.add_suffix_link(root)\n",
    "n2.add_suffix_link(root)\n",
    "n3.add_suffix_link(n4)\n",
    "n4.add_suffix_link(n1)\n",
    "\n",
    "draw_networkx_graph(root)"
   ]
  },
  {
   "cell_type": "markdown",
   "metadata": {},
   "source": [
    "We will now show the use of some of the methods created above. We will create an address initially `(root, None, 0)` and call various methods on it."
   ]
  },
  {
   "cell_type": "code",
   "execution_count": null,
   "metadata": {
    "ExecuteTime": {
     "end_time": "2024-03-28T16:04:54.693123Z",
     "start_time": "2024-03-28T16:04:54.689093Z"
    }
   },
   "outputs": [],
   "source": [
    "addr0 = TrieAddress(root) # address pointing to the root.\n",
    "addr1 = addr0.traverse_next('m') # should now point to node n1\n",
    "print(f\"addr1 = ({addr1})\")\n",
    "addr2 = addr1.traverse_next('i') # should now point to n1, along edge (n1 -> l7), offset 1\n",
    "print(f\"addr2 = ({addr2})\")\n",
    "addr3 = addr2.compute_suffix() # should now point to n0, along edge (n0 -> l11), offset = 1\n",
    "print(f\"addr3 = {addr3}\")\n",
    "addr4 = addr3.compute_suffix() # should now point just to n0\n",
    "print(f\"addr4 = {addr4}\")"
   ]
  },
  {
   "cell_type": "markdown",
   "metadata": {},
   "source": [
    "## Creating a Suffix Trie : Inefficient Algorithm\n",
    "\n",
    "We will now have a simple but inefficient algorithm for creating a suffix trie. The idea is to go through each suffix one by one and insert it into the tree starting from the empty tree.\n"
   ]
  },
  {
   "cell_type": "code",
   "execution_count": null,
   "metadata": {
    "ExecuteTime": {
     "end_time": "2024-03-28T16:04:54.699891Z",
     "start_time": "2024-03-28T16:04:54.695243Z"
    }
   },
   "outputs": [],
   "source": [
    "def make_suffix_trie_simple(orig_str): \n",
    "    # Insert the suffix starting from orig_str position j into the trie.\n",
    "    root = SuffixTrieNode(0, orig_str)\n",
    "    n = len(orig_str)\n",
    "    node_list = [root]\n",
    "    for j in range(n):\n",
    "        addr = TrieAddress(root) # initialize the address to 0\n",
    "        for i in range(j, n):\n",
    "            # try traversing one step more from the current address with char orig_str[i]\n",
    "            addr1 = addr.traverse_next(orig_str[i])\n",
    "            if addr1 == None:\n",
    "                # here is where we need to insert.\n",
    "                (next_node, leaf_node, newly_created) = addr.create_new_edge_at(orig_str, i, len(node_list) )\n",
    "                node_list.append(leaf_node)\n",
    "                if newly_created:\n",
    "                    node_list.append(next_node)\n",
    "                break \n",
    "            else:\n",
    "                addr = addr1\n",
    "    return root "
   ]
  },
  {
   "cell_type": "code",
   "execution_count": null,
   "metadata": {
    "ExecuteTime": {
     "end_time": "2024-03-28T16:04:54.991004Z",
     "start_time": "2024-03-28T16:04:54.701953Z"
    }
   },
   "outputs": [],
   "source": [
    "root = make_suffix_trie_simple(\"mamamia$\")\n",
    "draw_networkx_graph(root)"
   ]
  },
  {
   "cell_type": "markdown",
   "metadata": {},
   "source": [
    "Notice that the suffix links are missing. We can however create suffix links after the fact and do so efficiently. We will explore this as part of our problem set.\n",
    "\n",
    "The overall complexity is $O(m^2)$ for a string of length $m$. We have $m$ suffixes to insert and the $j^{th}$ suffix is of size $m-j$. Total time is proportional to $\\sum_{j=0}^m (m-j) = O(m^2)$."
   ]
  },
  {
   "cell_type": "code",
   "execution_count": null,
   "metadata": {
    "ExecuteTime": {
     "end_time": "2024-03-28T18:30:28.733827Z",
     "start_time": "2024-03-28T18:30:28.283346Z"
    }
   },
   "outputs": [],
   "source": [
    "root = make_suffix_trie_simple(\"BANANA$\")\n",
    "draw_networkx_graph(root, filename=\"assignment4-fig1.png\")"
   ]
  },
  {
   "cell_type": "markdown",
   "metadata": {},
   "source": [
    "## Ukkonen's Algorithm\n",
    "\n",
    "We will now discuss an $O(m)$ algorithm for constructing suffix tries. This is in fact the most efficient algorithm possible. It is somewhat involved and depends on many improvements to a rather inefficient baseline algorithm that will serve as our starting point.\n",
    "\n",
    "\n",
    "### Baseline Algorithm\n",
    "\n",
    "Baseline algorithm builds a sequence of implicit suffix tries $T_0, \\ldots, T_m$ wherein  $T_0$ is the empty trie, $T_1$ is the trie for $s[0]$ and in general $T_i$ is an (implicit) suffix trie for the substring $s[0], \\ldots, s[i-1]$. We extend $T_i$ to $T_{i+1}$ by extending it with the character $s[i]$.  This is called phase \\# $i$ of the algorithm.\n",
    "\n",
    "- $T_0$ is the empty tree with just a single root node.\n",
    "- for i = 0 to m-1\n",
    "  - Extend $T_i$ to $T_{i+1}$ by inserting character $s[i]$ at the end.\n",
    "\n",
    "The _extension_ from $T_{i}$ to $T_{i+1}$ happens in $i$ extension steps each step \n",
    "$j$ adding $s[i]$ to the end of the suffix $s[j] \\ldots s[i-1]$.\n",
    "\n",
    "\n",
    "The overall baseline algorithm is \n",
    "  \n",
    "\n",
    "- $T_0$ is the empty tree with just a single root node.\n",
    "- for i = 0 to m-1\n",
    "  - for j = 0 to i\n",
    "     - Find location in tree corresponding to substring $s[j], \\ldots, s[i-1]$ (root node if this is empty substring).\n",
    "     - Insert $s[i]$ at the location based on Rules 1 - 3 described below.\n",
    "     \n",
    "The three rules for inserting $c=s[i]$ are as follows:\n",
    " - Rule # 1: if the location in tree is a leaf node then, we add the character $c$ to the end of the unique edge from the node's parent to itself.\n",
    " - Rule # 2: if the location in tree is an internal node or an internal node + an offset along an edge:\n",
    "   - If the location is an internal node that does not have an outgoing edge corresponding to the character $c$, then add such an outgoing leaf edge to a new leaf node. This edge is labeled with character $c$.\n",
    "   - If the location is an internal node + an edge and an offset along that edge and the next character is not $c$, then split the edge at the offset by creating a new internal node and two new edges. One of the new edges will be labeled by the character $c$.\n",
    "   \n",
    " - Rule # 3: if the location in tree is an internal node or an internal node + an offset along an edge:\n",
    "   - If the location is an internal node, but has an outgoing edge corresponding to the character $c$, then do nothing.\n",
    "   - If the location is an internal node + an edge and an offset along that edge and the next character is $c$, then do nothing.\n",
    "   \n",
    "### Examples\n",
    "\n",
    "Suppose we are building a trie for the string `mamamia$` and we have built $T_4$ which is a trie for the substring `mama`.\n",
    "<img src=\"attachment:mamamia$.3.png\" width=\"60%\"></img>\n",
    "\n",
    "Ignore the annotation `2` on the blue edge for now. Suppose we wanted to extend it to $T_5$ which would be the trie for the substring `mamam`. We have to extend $T_4$ by attaching the character `m` at the end. We have to consider 5 extentions:\n",
    "  - E1: `mama` -> `mamam` (rule 1)\n",
    "  - E2: `ama` -> `amam` (rule 1)\n",
    "  - E3: `ma` -> `mam` (rule 2)\n",
    "  - E4: `a` -> `am` (rule 3)\n",
    "  - E5: insert `m` at root (rule 3)\n",
    "\n",
    "Note that E1, E2 follow Rule # 1 above since they extend an edge to a leaf by one characted. \n",
    "\n",
    "E3, E4 and E5 follow Rule # 3 since the corresponding substrings `mam`, `am` and `m` already exist in the tree."
   ]
  },
  {
   "cell_type": "markdown",
   "metadata": {},
   "source": [
    "The result is shown below.\n",
    "\n",
    "<img src=\"./mamamia$.4.png\" width=\"60%\"> </img>\n",
    "\n",
    "Next, we wish to insert the character \"i\" to go from $T_5$ to $T_6$. We have to consider 6 extensions:\n",
    "  - E1: `mamam` -> `mamami` (rule 1)\n",
    "  - E2: `amam` -> `amami` (rule 1)\n",
    "  - E3: `mam` -> `mami` (rule 2)\n",
    "  - E4: `am` -> `ami` (rule 2)\n",
    "  - E5: `m` -> `mi` (rule 2)\n",
    "  - E6:  insert `i` at root (rule 2)\n",
    " \n",
    " Note that E3 follows rule # 2. The reason is that there is an edge corresponding to `mam` in the tree. But the next character in this edge has to be an `a` whereas we are interested in inserting a character `i`. As a result, the edge is split and a new node \n",
    "  $n3$ is added. Similarly, the extensions E4, E5 and E6 follow rule # 2 as well.\n",
    "\n",
    "E4 will lead to the creation of a new node $n5$, E5 to a new node $n7$ and E6 to a new leaf node $l9$."
   ]
  },
  {
   "cell_type": "markdown",
   "metadata": {},
   "source": [
    "The result is as follows:\n",
    "\n",
    "<img src=\"./mamamia$.5.png\" width=\"60%\"></img>\n",
    "\n",
    "Note that we can add in suffix links in this process. Successive internal nodes (cannot be leaf nodes) that are _freshly created_ as a result of successive applications of rule 2 will be suffix linked.  But the chain of suffix links will end at the root node. We have to be careful not to add suffix links to leaf nodes in this process."
   ]
  },
  {
   "cell_type": "markdown",
   "metadata": {},
   "source": [
    "\n",
    "## Making it Faster\n",
    "\n",
    "As such, the baseline algorithm has complexity $O(m^3)$ and makes things worse upon the first sight.  We will now work on making this process faster.\n",
    "  - First of all, we will avoid doing rule # 1 which extends the leaf edges by one more character. We will internally label leaf edges with a special upper bound `-1` that is a place holder for the position $i$ for tree $T_i$. Automatically considering a new $i= i+1$ cases all appplications of rule # 1 to happen.\n",
    "  \n",
    " - Next, we can always terminate a phase when we get to rule # 3. Suppose a path for a string of the form $\\alpha c$ for substring $\\alpha$ and char $c$ already exists in the suffix trie so far, then it will exit for all suffixes of $\\alpha c$ and the phase can be terminated the moment we encounter rule # 3. \n",
    "   - Interestingly the first time we hit rule # 3 in a phase, we can just stop and remember where we are in the trie. In the next phase, we can simply start from what ever location we were at the end of the previous phase when rule # 3 first applied.\n",
    "   \n",
    "We are now ready to develop Ukkonen's algorithm.\n",
    "\n",
    "The main idea in Ukkonen's algorithm is to build the trie in phases $T_0$, $T_1$, $\\ldots$, $T_m$ as before but to optimize the construction so that the total time spent in $O(m)$ across all the phases. \n",
    "\n",
    " - Ukkonen's algorithm will never consider rule # 1 since we will have leaf edges maintain an implicit `hi` index of `-1` that denotes the end of the substring so far. At each phase, we move the end of the string by one position to the right implicitly. Therefore, we do not need to keep visiting these edges and adding the end character explicitly. \n",
    " - Ukkonen's algorithm will terminate a phase as soon as rule # 3 applies for the first time. This is achieved by storing an `address` for the trie constructed thus far. This address indicates where rule 3 would have applied for the first time for the previous phase. \n",
    "   - This address is initialized to point to the root node at the very start.\n",
    "   \n",
    "The only rule that causes the algorithm to do more than constant amount of work at each phase is rule # 2. This successively either splits an edge into two causing the creation of a new internal node and edge, or inserts a leaf edge at an already existing internal node.\n",
    "\n",
    "Let us illustrate the working on the string \"BANANA$\"."
   ]
  },
  {
   "cell_type": "markdown",
   "metadata": {},
   "source": [
    "#### Phase 0\n",
    "\n",
    "We insert the character `B` into the empty trie. Rule # 2 applies.\n",
    "\n",
    "<img src=\"./BANANA$.0.png\" width=\"50%\"></img>\n",
    "\n",
    "At the end the  address points to the root."
   ]
  },
  {
   "cell_type": "markdown",
   "metadata": {},
   "source": [
    "### Phase 1\n",
    "\n",
    "We insert the character `A` into the trie at the end of previous phase. The extension `B` -> `BA` is carried out implicitly by applying rule # 1. We simply add a new leaf edge with the character `A` at the root.\n",
    "\n",
    "<img src=\"./BANANA$.1.png\" width=\"50%\"></img>\n",
    "\n",
    "The address pointer continues to point to the root."
   ]
  },
  {
   "cell_type": "markdown",
   "metadata": {},
   "source": [
    "### Phase 2\n",
    "\n",
    "We insert the character `N` at the end of the previous phase. The extensions `BA` -> `BAN` and `A` -> `AN` are implicitly carried out (the algorithm does not need to do anything for these). It simply inserts `N` at the current address which is the root. The current address remains the root.\n",
    "\n",
    "<img src=\"./BANANA$.2.png\" width=\"50%\"></img>"
   ]
  },
  {
   "cell_type": "markdown",
   "metadata": {},
   "source": [
    "### Phase 3\n",
    "\n",
    "We now insert the character `A` at the end. Current address is at the root. There are three extensions that involve rule # 1 but these are not considered. We simply seek to insert the character `A` at the root but an edge labeled `AN` already exists. We simply note that rule # 3 would apply and move one position along that edge. The new address points to an offset of `1` into the edge `AN` outgoing form `n0`. The figure below illustrates this.\n",
    "\n",
    "<img src=\"./BANANA$.3.png\" width=\"50%\"></img>"
   ]
  },
  {
   "cell_type": "markdown",
   "metadata": {},
   "source": [
    "### Phase 4\n",
    "We will now insert the character `N` at the end.\n",
    "Since the previous phase ended with an application of rule 3 at the address `(n0, n0 -> l2, 1)` in the trie, we will simply seek to insert the character `N` there. We see that rule 3 applies once again. The address is simply updated to `(n0, n0 -> l2, 2)` and we stop.\n",
    "\n",
    "<img src=\"./BANANA$.4.png\" width=\"50%\"></img>"
   ]
  },
  {
   "cell_type": "markdown",
   "metadata": {},
   "source": [
    "### Phase 5\n",
    "\n",
    "We will insert the character `A` at the end. Since the previous phase ended with an application of rule 3 at the address `(n0, n0 -> l2, 2)` in the trie, we will simply seek to insert the character `A` there. We see that rule 3 applies once again. The address is simply updated to `(n0, n0 -> l2, 3)` and we stop.\n",
    "\n",
    "<img src=\"./BANANA$.5.png\" width=\"50%\"></img>"
   ]
  },
  {
   "cell_type": "markdown",
   "metadata": {},
   "source": [
    "### Phase 6\n",
    "\n",
    "We will seek to insert the `$` character at the end. The previous phase ended at `(n0, n0 -> l2, 3)`. We seek to insert the `$` character there. However, note that there is no such character there. Rule 2 applies and we need to split the edge.\n",
    "  - We split the edge $n0 \\rightarrow l2$ and insert a new internal node $n4$ there.\n",
    "  - Next, we follow the suffix link for our current address and try insert `$` there.\n",
    "     - The suffix link leads us to the edge $n0 \\rightarrow l3$ with an offset of $2$. \n",
    "     - We insert `$` there. This leads to a new internal node $n6$. We add a suffix link from $n4$ to $n6$.\n",
    "     - address becomes $(n0, n0 \\rightarrow l3, 2)$\n",
    "  - Next we follow the suffix link from our current address and try to insert `$` there.\n",
    "      - The suffix link leads us back to the edge $n0 \\rightarrow n4$ with an offset of $1$.\n",
    "      - We try to insert `$` there. This leads to the creation of a new insternal node $n8$. \n",
    "      - We add a suffix link from $n6$ to $n8$.\n",
    "      - address now becomes $(n0, 0)$.\n",
    "  - We add a suffix link from $n8$ to the root. We insert `$` at the root, leading to a new leaf node and edge.\n",
    "  \n",
    "  \n",
    "<img src=\"./BANANA$.6.png\" width=\"50%\"></img> "
   ]
  },
  {
   "cell_type": "markdown",
   "metadata": {},
   "source": [
    "The overall algorithm code is below. This is a complicated algorithm (since there are a few special cases to take care of). Hopefully, the description above gives you an idea of how the algorithm works. We encourage you to read the code and comments carefully."
   ]
  },
  {
   "cell_type": "code",
   "execution_count": null,
   "metadata": {
    "ExecuteTime": {
     "end_time": "2024-03-28T16:04:55.642501Z",
     "start_time": "2024-03-28T16:04:55.633778Z"
    }
   },
   "outputs": [],
   "source": [
    "# Implementation of Ukkonen's algorithm\n",
    "def construct_suffix_trie(orig_str, debug=False):\n",
    "    root = SuffixTrieNode(0, orig_str) # create a root node with id = 0\n",
    "    root.add_suffix_link(root) # make the root suffix link to itself\n",
    "    node_list= [root] # maintain a list of all nodes for our bookkeeping\n",
    "    addr = TrieAddress(root, None, 0) # initialize the address to point to the root\n",
    "    n = len(orig_str)\n",
    "    for i in range(n): # go through each position in the original string\n",
    "        # We will now work on phase number i of the algorithm\n",
    "        c = orig_str[i] \n",
    "        if debug:\n",
    "            print(f\"Phase # {i}: inserting {c}\")\n",
    "        node = None # initialize pointers to node and new_node to None\n",
    "        new_node = None # these pointers will help us with the adding of suffix links for newly created nodes later\n",
    "        dest = addr.traverse_next(c) # try to move from the current address to a new address given the character `c`.\n",
    "        if dest != None:\n",
    "            addr = dest # dest exists, we simply update addr to that destination and continue\n",
    "        else: # no such destination exists. Rule # 2 applies and we have to create new internal nodes\n",
    "            while dest == None and not addr.is_at_root(): # while the current addr does not have a destination for next character c, and it is not at the root\n",
    "                if debug:\n",
    "                    print(f\"Creating new node with char {orig_str[i]} at {addr}\")\n",
    "                # create a new node and a new leaf at the current address\n",
    "                (new_node, new_leaf, newly_created) = addr.create_new_edge_at(orig_str, i, len(node_list))\n",
    "                if debug:\n",
    "                    print(f\"Created new node: {new_node.id}\")\n",
    "                \n",
    "                if node != None and not node.is_root():\n",
    "                    node.add_suffix_link(new_node) # add a suffix link from the previously created node to the new node\n",
    "                    if debug:\n",
    "                        print(f\"D1: Adding Suffix Link:{node.id} ---> {new_node.id}\")\n",
    "                if newly_created:\n",
    "                    node_list.append(new_node) # if it is freshly created then add it to the list of nodes\n",
    "                node_list.append(new_leaf)\n",
    "                node = new_node # update pointer to previously created node\n",
    "                addr = addr.compute_suffix() # compute the suffix of the address\n",
    "                assert addr != None, f\"Suffix computation failed. \"\n",
    "                dest = addr.traverse_next(c) # see if there is a destination with char c from the newly computed address\n",
    "                #if dest != None: # if there is a destination\n",
    "                #    new_node.add_suffix_link(addr.node) # add the last suffix link\n",
    "                #    if debug:\n",
    "                #        print(f\"D2: Adding Suffix Link: {new_node.id} --> {addr.node.id}\")\n",
    "            # We are out of the loop\n",
    "            # add a suffix link from the last created node to the current address.\n",
    "            if node != None:\n",
    "                if debug:\n",
    "                    print(f\"D3: Adding Suffix Link: {new_node.id} --> {addr.node.id}\")\n",
    "                node.add_suffix_link(addr.node)\n",
    "            \n",
    "            if dest == None:\n",
    "                # if this happens, we are at the root\n",
    "                # insert the char `c` here.\n",
    "                assert addr.is_at_root()\n",
    "                (new_node, new_leaf, newly_created) = addr.create_new_edge_at(orig_str, i, len(node_list))\n",
    "                assert not newly_created \n",
    "                node_list.append(new_leaf)\n",
    "            else:\n",
    "                # this indicates that the char c already exists.\n",
    "                addr = dest\n",
    "        \n",
    "        if debug:\n",
    "            print(\"currently at: \", addr)\n",
    "            draw_networkx_graph(root, end=i+1, highlight_addr=addr, filename=f\"{orig_str}.{i}.png\")\n",
    "    return root"
   ]
  },
  {
   "cell_type": "markdown",
   "metadata": {},
   "source": [
    "We will briefly note that the algorithm runs in linear time though it is not obvious as to why. Clearly at each phase, the algorithm simply updates its current address (corresponding to rule # 3) application in $O(1)$ time or moves on to a series of rule # 2 applications. However, the key fact which can be proven is that the number of such rule # 2 applications cannot exceed the number of previous rule # 3 applications. We can therefore \"charge\" each rule # 3 applications to pay for the cost of a future rule # 2 application. \n",
    "\n",
    "We will now demonstrate its working on some examples below."
   ]
  },
  {
   "cell_type": "code",
   "execution_count": null,
   "metadata": {
    "ExecuteTime": {
     "end_time": "2024-03-28T16:04:55.649849Z",
     "start_time": "2024-03-28T16:04:55.644821Z"
    }
   },
   "outputs": [],
   "source": [
    "def test_suffix_trie(root, orig_str):\n",
    "    # test if we built the suffix trie correctly\n",
    "    n = len(orig_str)\n",
    "    for i in range(n):\n",
    "        addr = TrieAddress(root, None, 0)\n",
    "        for c in orig_str[i:]:\n",
    "            addr0 = addr\n",
    "            addr = addr.traverse_next(c)\n",
    "            assert addr != None, f\"{orig_str[i:]}: Expected next node for character {c} from address {addr0} but obtained None\"\n",
    "        assert addr.edge != None, f\"{orig_str[i:]}: Ended up at adress {addr} which has no edge but a leaf edge was expected\"\n",
    "        assert addr.edge.is_leaf_edge(), f\"Did not end up at a leaf edge for {orig_str[i:]}\"\n",
    "        assert addr.edge.dest.suffix_start_pos == i, f\"{orig_str[i:]} suffix starting position should be {i} but obtained {addr.edge.dest.suffix_start_pos}\"\n",
    "        "
   ]
  },
  {
   "cell_type": "code",
   "execution_count": null,
   "metadata": {
    "ExecuteTime": {
     "end_time": "2024-03-28T19:04:56.528319Z",
     "start_time": "2024-03-28T19:04:56.522184Z"
    }
   },
   "outputs": [],
   "source": [
    "def check_suffix_links(root):\n",
    "    worklist = [root]\n",
    "    all_nodes = [root]\n",
    "    d = {0:\"\"}\n",
    "    while len(worklist) > 0:\n",
    "        n = worklist.pop()\n",
    "        str_n = d[n.id]\n",
    "        for (_, e) in n.outgoing_edges.items():\n",
    "            if not e.is_leaf_edge():\n",
    "                str_e = str_n + e.orig_str[e.lo:e.hi+1]\n",
    "                d[e.dest.id] = str_e\n",
    "                worklist.append(e.dest)\n",
    "                all_nodes.append(e.dest)\n",
    "    for n in all_nodes:\n",
    "        assert n.suffix_link != None, f'node {n.id} has no suffix link'\n",
    "        s_n = n.suffix_link\n",
    "        assert n.id in d\n",
    "        assert s_n.id in d\n",
    "        s1 = d[n.id]\n",
    "        s2 = d[s_n.id]\n",
    "        assert s1[1:] == s2, f'node {n.id} has string {s1} but its  suffix node  has string {s2}'\n",
    "    print(\"Suffix links are all valid!\")"
   ]
  },
  {
   "cell_type": "code",
   "execution_count": null,
   "metadata": {
    "ExecuteTime": {
     "end_time": "2024-03-28T19:05:26.123223Z",
     "start_time": "2024-03-28T19:05:23.157860Z"
    }
   },
   "outputs": [],
   "source": [
    "\n",
    "root = construct_suffix_trie(\"BANANA$\", debug=True)\n",
    "test_suffix_trie(root, \"BANANA$\")\n",
    "check_suffix_links(root)\n",
    "draw_networkx_graph(root)"
   ]
  },
  {
   "cell_type": "code",
   "execution_count": null,
   "metadata": {
    "ExecuteTime": {
     "end_time": "2024-03-28T19:05:35.263204Z",
     "start_time": "2024-03-28T19:05:31.338821Z"
    }
   },
   "outputs": [],
   "source": [
    "\n",
    "root = construct_suffix_trie(\"ACCACAAC$\", debug=True)\n",
    "test_suffix_trie(root, \"ACCACAAC$\")\n",
    "check_suffix_links(root)\n",
    "draw_networkx_graph(root)"
   ]
  },
  {
   "cell_type": "code",
   "execution_count": null,
   "metadata": {
    "ExecuteTime": {
     "end_time": "2024-03-28T16:05:05.162875Z",
     "start_time": "2024-03-28T16:05:02.288542Z"
    }
   },
   "outputs": [],
   "source": [
    "root = construct_suffix_trie(\"CCTCCG$\", debug=True)\n",
    "test_suffix_trie(root, \"CCTCCG$\")\n",
    "draw_networkx_graph(root)"
   ]
  },
  {
   "cell_type": "code",
   "execution_count": null,
   "metadata": {
    "ExecuteTime": {
     "end_time": "2024-03-28T16:05:08.539358Z",
     "start_time": "2024-03-28T16:05:05.164978Z"
    }
   },
   "outputs": [],
   "source": [
    "orig_str = \"mamamia$\"\n",
    "root = construct_suffix_trie(orig_str, debug=True)\n",
    "draw_networkx_graph(root, filename=\"mamamia-suffix-trie.png\")\n",
    "test_suffix_trie(root, orig_str)"
   ]
  },
  {
   "cell_type": "code",
   "execution_count": null,
   "metadata": {
    "ExecuteTime": {
     "end_time": "2024-03-28T19:05:45.873514Z",
     "start_time": "2024-03-28T19:05:45.595239Z"
    }
   },
   "outputs": [],
   "source": [
    "root = construct_suffix_trie(\"abacus$\")\n",
    "draw_networkx_graph(root)\n",
    "test_suffix_trie(root, \"abacus$\")\n",
    "check_suffix_links(root)"
   ]
  },
  {
   "cell_type": "code",
   "execution_count": null,
   "metadata": {
    "ExecuteTime": {
     "end_time": "2024-03-28T19:05:54.348107Z",
     "start_time": "2024-03-28T19:05:54.073137Z"
    }
   },
   "outputs": [],
   "source": [
    "root = construct_suffix_trie(\"papaya$\")\n",
    "draw_networkx_graph(root)\n",
    "test_suffix_trie(root, \"papaya$\")\n",
    "check_suffix_links(root)"
   ]
  },
  {
   "cell_type": "code",
   "execution_count": null,
   "metadata": {
    "ExecuteTime": {
     "end_time": "2024-03-28T19:05:58.404905Z",
     "start_time": "2024-03-28T19:05:58.124398Z"
    }
   },
   "outputs": [],
   "source": [
    "root = construct_suffix_trie(\"aaaamy$\")\n",
    "draw_networkx_graph(root)\n",
    "test_suffix_trie(root, \"aaaamy$\")\n",
    "check_suffix_links(root)"
   ]
  },
  {
   "cell_type": "code",
   "execution_count": null,
   "metadata": {
    "ExecuteTime": {
     "end_time": "2024-03-28T19:06:03.390408Z",
     "start_time": "2024-03-28T19:06:03.051040Z"
    }
   },
   "outputs": [],
   "source": [
    "root = construct_suffix_trie(\"queqquequ$\", debug=False)\n",
    "draw_networkx_graph(root)\n",
    "test_suffix_trie(root, \"queqquequ$\")\n",
    "check_suffix_links(root)"
   ]
  },
  {
   "cell_type": "code",
   "execution_count": null,
   "metadata": {
    "ExecuteTime": {
     "end_time": "2024-03-28T19:06:07.771983Z",
     "start_time": "2024-03-28T19:06:07.497827Z"
    }
   },
   "outputs": [],
   "source": [
    "root = construct_suffix_trie(\"catama$\", debug=False)\n",
    "draw_networkx_graph(root)\n",
    "test_suffix_trie(root, \"catama$\")\n",
    "check_suffix_links(root)"
   ]
  },
  {
   "cell_type": "code",
   "execution_count": null,
   "metadata": {
    "ExecuteTime": {
     "end_time": "2024-03-28T19:06:11.711660Z",
     "start_time": "2024-03-28T19:06:11.435473Z"
    }
   },
   "outputs": [],
   "source": [
    "root = construct_suffix_trie(\"TGGT$\", debug=False)\n",
    "draw_networkx_graph(root)\n",
    "test_suffix_trie(root, \"TGGT$\")\n",
    "check_suffix_links(root)"
   ]
  },
  {
   "cell_type": "code",
   "execution_count": null,
   "metadata": {
    "ExecuteTime": {
     "end_time": "2024-03-28T19:06:16.002340Z",
     "start_time": "2024-03-28T19:06:15.451931Z"
    }
   },
   "outputs": [],
   "source": [
    "root = construct_suffix_trie(\"AAAACCCAAAACCCTTTTAA$\", debug=False)\n",
    "draw_networkx_graph(root)\n",
    "test_suffix_trie(root, \"AAAACCCAAAACCCTTTTAA$\")\n",
    "check_suffix_links(root)"
   ]
  },
  {
   "cell_type": "code",
   "execution_count": null,
   "metadata": {
    "ExecuteTime": {
     "end_time": "2024-03-28T19:06:26.241460Z",
     "start_time": "2024-03-28T19:06:26.236388Z"
    }
   },
   "outputs": [],
   "source": [
    "from random import choice\n",
    "\n",
    "def generate_random_str_and_test(l, debug=True):\n",
    "    chars = ['A', 'C', 'T', 'G']\n",
    "    s = []\n",
    "    for i in range(l):\n",
    "        s.append(choice(chars))\n",
    "    s.append('$')\n",
    "    orig_str = \"\".join(s)\n",
    "    print(f\"generating suffix trie for {orig_str}\")\n",
    "    root = construct_suffix_trie(orig_str, debug)\n",
    "    #draw_networkx_graph(root)\n",
    "    test_suffix_trie(root, orig_str)\n",
    "    check_suffix_links(root)\n",
    "    print('\\t Test Passed')\n",
    "    "
   ]
  },
  {
   "cell_type": "code",
   "execution_count": null,
   "metadata": {
    "ExecuteTime": {
     "end_time": "2024-03-28T19:06:40.716707Z",
     "start_time": "2024-03-28T19:06:27.276024Z"
    }
   },
   "outputs": [],
   "source": [
    "for i in range(10000):\n",
    "    generate_random_str_and_test(50, debug=False)"
   ]
  },
  {
   "cell_type": "markdown",
   "metadata": {},
   "source": [
    "## Empirical Timing Validation"
   ]
  },
  {
   "cell_type": "code",
   "execution_count": null,
   "metadata": {
    "ExecuteTime": {
     "end_time": "2024-03-28T19:48:42.076801Z",
     "start_time": "2024-03-28T19:48:42.071442Z"
    }
   },
   "outputs": [],
   "source": [
    "from time import process_time\n",
    "\n",
    "def generate_random_str_and_time(l, n_samples=1000):\n",
    "    chars = ['A', 'C', 'T', 'G']\n",
    "    tot_time = 0\n",
    "    for _ in range(n_samples):\n",
    "        s = []\n",
    "        for i in range(l):\n",
    "            s.append(choice(chars))\n",
    "        s.append('$')\n",
    "        orig_str = \"\".join(s)\n",
    "        t0 = process_time()\n",
    "        root = construct_suffix_trie(orig_str, debug=False)\n",
    "        t1 = process_time()\n",
    "        tot_time = tot_time + (t1 - t0)\n",
    "    print(f'length: {l} --> time for {n_samples} runs: {tot_time}')\n",
    "    return tot_time/n_samples\n",
    "    "
   ]
  },
  {
   "cell_type": "code",
   "execution_count": null,
   "metadata": {
    "ExecuteTime": {
     "end_time": "2024-03-28T19:50:33.794687Z",
     "start_time": "2024-03-28T19:48:42.840303Z"
    }
   },
   "outputs": [],
   "source": [
    "from matplotlib import pyplot as plt\n",
    "lengths = [10, 15, 20, 25, 50, 100, 200, 500, 1000, 2500, 5000]\n",
    "times = [generate_random_str_and_time(l) for l in lengths]\n",
    "plt.plot(lengths, times, '-x')\n",
    "plt.xlabel('Length of string')\n",
    "plt.ylabel('Running time (seconds)')\n",
    "plt.show()"
   ]
  },
  {
   "cell_type": "markdown",
   "metadata": {},
   "source": [
    "## Applications of Suffix Tries\n",
    "\n",
    "We already noted a simple application of suffix tries to pattern matching. Given a large string $s$, we can pre-process it to build its suffix trie. \n",
    "\n",
    "### Finding occurrences of patterns\n",
    "\n",
    "When we query the suffix trie with a shorter pattern string $t$, we can rapidly answer the following questions in time proportional to the length of the pattern $t$.\n",
    "  - Does $t$ appear as a substring in $s$?\n",
    "  - What is the largest prefix of $t$ that appears as a substring in $s$?\n",
    "  - How many times does $t$ appear as a substring of $s$?\n",
    "  - List the starting positions of all occurrences of $t$ in $s$ ? note that this will take time $O(|t| + k)$ where $k$ is the number of occurrences of $t$ in $s$.\n",
    "  \n",
    "We can also extend this to patterns with wild-cards which can stand for any character.\n",
    "\n"
   ]
  },
  {
   "cell_type": "code",
   "execution_count": null,
   "metadata": {
    "ExecuteTime": {
     "end_time": "2024-03-28T16:05:22.709031Z",
     "start_time": "2024-03-28T16:05:22.704076Z"
    }
   },
   "outputs": [],
   "source": [
    "def find_all_occurrences(root, pattern):\n",
    "    addr = TrieAddress(root) # start at the root\n",
    "    n = len(pattern)\n",
    "    for i in range(n): # traverse the trie according to the successive characters of the pattern \n",
    "        addr = addr.traverse_next(pattern[i])\n",
    "        if addr == None:\n",
    "            print(f'{pattern} does not appear in the string. The longest prefix that does occur is {pattern[:i]}')\n",
    "            return [] # return empty list.\n",
    "    # if we are here then addr cannot be null\n",
    "    assert addr != None\n",
    "    # now collect all the leaves reachable from address and obtain the suffix start position fields from them\n",
    "    start_positions = []\n",
    "    list_of_nodes = []\n",
    "    if addr.edge == None:\n",
    "        list_of_nodes.append(addr.node)\n",
    "    else:\n",
    "        list_of_nodes.append(addr.edge.dest)\n",
    "    while len(list_of_nodes) > 0:\n",
    "        # pop a node from the list\n",
    "        node = list_of_nodes.pop()\n",
    "        if node.is_leaf(): #if it is a leaf, then append the starting position of the suffix corr. to this leaf\n",
    "            start_positions.append(node.suffix_start_pos)\n",
    "        else:\n",
    "            # else, get all the children node\n",
    "            for (_, edge) in node.outgoing_edges.items():\n",
    "                list_of_nodes.append(edge.dest) # add them to the list of unprocessed nodes\n",
    "    return start_positions # return all the start positions\n",
    "        "
   ]
  },
  {
   "cell_type": "code",
   "execution_count": null,
   "metadata": {
    "ExecuteTime": {
     "end_time": "2024-03-28T16:05:23.635280Z",
     "start_time": "2024-03-28T16:05:22.711849Z"
    }
   },
   "outputs": [],
   "source": [
    "orig_str = \"ACCTAGCCTGATTACAAATGCGCGTTGTTGATTACAATTACCTAGC$\"\n",
    "root = construct_suffix_trie(orig_str, debug=False)\n",
    "draw_networkx_graph(root)\n",
    "test_suffix_trie(root, orig_str)\n"
   ]
  },
  {
   "cell_type": "code",
   "execution_count": null,
   "metadata": {
    "ExecuteTime": {
     "end_time": "2024-03-28T16:05:23.646823Z",
     "start_time": "2024-03-28T16:05:23.642980Z"
    }
   },
   "outputs": [],
   "source": [
    "find_all_occurrences(root, \"GATTACA\")"
   ]
  },
  {
   "cell_type": "code",
   "execution_count": null,
   "metadata": {
    "ExecuteTime": {
     "end_time": "2024-03-28T16:05:23.655058Z",
     "start_time": "2024-03-28T16:05:23.649376Z"
    }
   },
   "outputs": [],
   "source": [
    "find_all_occurrences(root, \"CAATT\")"
   ]
  },
  {
   "cell_type": "code",
   "execution_count": null,
   "metadata": {
    "ExecuteTime": {
     "end_time": "2024-03-28T16:05:23.663330Z",
     "start_time": "2024-03-28T16:05:23.657288Z"
    }
   },
   "outputs": [],
   "source": [
    "find_all_occurrences(root, \"ATT\")"
   ]
  },
  {
   "cell_type": "code",
   "execution_count": null,
   "metadata": {
    "ExecuteTime": {
     "end_time": "2024-03-28T16:05:23.671031Z",
     "start_time": "2024-03-28T16:05:23.666036Z"
    }
   },
   "outputs": [],
   "source": [
    "find_all_occurrences(root, \"AT\")"
   ]
  },
  {
   "cell_type": "markdown",
   "metadata": {},
   "source": [
    "### Longest Common Substring\n",
    "\n",
    "Consider two strings $s, t$. We wish to findout the longest string $p$ such that $p$ is a substring of both $s$ and $t$. Note that this is different from the longest common subsequence problem studied earlier in course # 3 on dynamic programming. $p$ must appear in contiguous positions in $s, t$.\n",
    "\n",
    "For instance, consider $s = banana\\$$ and $t = bnanabna\\$$.  The longest common substring is \"nana\".\n",
    "\n",
    "The idea is to build a suffix trie for the string $s$. Next we traverse the suffix trie according to string $t$ with $i$ starting from $0$ and ranging over the positions of string $t$.\n",
    "\n",
    "At any step $i$, we maintain the current address which represents the longest suffix of $t[0], \\ldots, t[i-1]$ that is a substring of $s$.   For step $i+1$, we try to see if the current address can be extended by $t[i]$. If not, we traverse suffix links until we reach a point where we can extend by $t[i]$. If no such point exists, we reset back to the root node.\n",
    "\n",
    "As this process continues, we store the deepest point in the suffix trie that was reached so far. This is in fact the longest common substring between $t[0], \\ldots, t[i-1]$ and $s$. When the process terminates, we compute this substring and return it.\n",
    "\n",
    "The algorithm runs in time $O(|s| + |t|)$ if we use the efficient linear time suffix trie construction algorithm."
   ]
  },
  {
   "cell_type": "code",
   "execution_count": null,
   "metadata": {
    "ExecuteTime": {
     "end_time": "2024-03-28T16:14:02.236083Z",
     "start_time": "2024-03-28T16:14:02.229007Z"
    }
   },
   "outputs": [],
   "source": [
    "def find_longest_common_substring(s, t):\n",
    "    n = len(t)\n",
    "    root = construct_suffix_trie(s, debug=False)\n",
    "    addr = TrieAddress(root) # start with the address being the root\n",
    "    best_depth = 0\n",
    "    best_addr = addr \n",
    "    # go through each index of t\n",
    "    for i in range(n): \n",
    "        c = t[i] \n",
    "        addr1 = addr.traverse_next(c) # try to extend current address by c\n",
    "        while addr1 == None and not addr.is_at_root(): # as long as we keep failing or we are not at the root \n",
    "            addr = addr.compute_suffix() # compute the suffix address\n",
    "            addr1 = addr.traverse_next(c) # see if the suffix can be extended\n",
    "        if addr1 != None: \n",
    "            addr = addr1\n",
    "        addr_depth = addr.compute_depth()# lookup depth of the current address\n",
    "        if addr_depth > best_depth: # if it is greater than the best so far\n",
    "            best_depth = addr_depth # update the best so far\n",
    "            best_addr = addr \n",
    "    \n",
    "    # now compute the common substring by traversing back from the best address to the root\n",
    "    common_substring = \"\"\n",
    "    if best_addr.edge != None: # if we are in the middle of an edge, append the substring and go to the internal node\n",
    "        lo_idx = best_addr.edge.lo\n",
    "        offs = best_addr.offs\n",
    "        common_substring = s[lo_idx:lo_idx+offs]\n",
    "    cur_node = best_addr.node\n",
    "    while cur_node.parent != None: # keep traversing parent pointer until we hit root\n",
    "        parent_node = cur_node.parent\n",
    "        parent_edge = parent_node.find_edge_corresponding_to_child(cur_node)\n",
    "        assert parent_edge != None\n",
    "        assert not parent_edge.is_leaf_edge()\n",
    "        # add the relevant substring for each edge we traverse to the common substring\n",
    "        common_substring = s[parent_edge.lo:parent_edge.hi+1] + common_substring\n",
    "        cur_node = parent_node \n",
    "    return common_substring"
   ]
  },
  {
   "cell_type": "code",
   "execution_count": null,
   "metadata": {
    "ExecuteTime": {
     "end_time": "2024-03-28T16:15:06.890916Z",
     "start_time": "2024-03-28T16:15:06.886074Z"
    }
   },
   "outputs": [],
   "source": [
    "find_longest_common_substring(\"banananaxnanana$\", \"bnananaxbnanana$\")"
   ]
  },
  {
   "cell_type": "code",
   "execution_count": null,
   "metadata": {
    "ExecuteTime": {
     "end_time": "2024-03-28T16:15:13.291788Z",
     "start_time": "2024-03-28T16:15:13.286861Z"
    }
   },
   "outputs": [],
   "source": [
    "find_longest_common_substring(\"TTATTGAGGATTACATT$\", \"ACTGGATTACATA$\")"
   ]
  }
 ],
 "metadata": {
  "celltoolbar": "Attachments",
  "kernelspec": {
   "display_name": "Python 3",
   "language": "python",
   "name": "python3"
  },
  "language_info": {
   "codemirror_mode": {
    "name": "ipython",
    "version": 3
   },
   "file_extension": ".py",
   "mimetype": "text/x-python",
   "name": "python",
   "nbconvert_exporter": "python",
   "pygments_lexer": "ipython3",
   "version": "3.9.6"
  }
 },
 "nbformat": 4,
 "nbformat_minor": 5
}
