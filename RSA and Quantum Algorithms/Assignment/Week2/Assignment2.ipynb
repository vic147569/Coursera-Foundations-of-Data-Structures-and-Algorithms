{
 "cells": [
  {
   "cell_type": "markdown",
   "id": "0d48682a",
   "metadata": {
    "deletable": false,
    "editable": false,
    "nbgrader": {
     "cell_type": "markdown",
     "checksum": "1f259639dced90297aab2ff2bde45e99",
     "grade": false,
     "grade_id": "cell-cba75b643fa9dfbb",
     "locked": true,
     "schema_version": 3,
     "solution": false,
     "task": false
    }
   },
   "source": [
    "# Assignment 2\n",
    "\n",
    "This problem set/assignment will require you to create simple quantum algorithms and implement them in QISKIT so that we can autograde your work.  We have presented QISKIT in our notes and provided many examples of how to express quantum circuits in QISKIT. You may find documentation of QISKIT from the IBM website: https://docs.quantum.ibm.com/\n"
   ]
  },
  {
   "cell_type": "markdown",
   "id": "611ee8ac",
   "metadata": {
    "deletable": false,
    "editable": false,
    "nbgrader": {
     "cell_type": "markdown",
     "checksum": "b0750050a173bf60996cf85553af0bae",
     "grade": false,
     "grade_id": "cell-f4624dbcb4308364",
     "locked": true,
     "schema_version": 3,
     "solution": false,
     "task": false
    }
   },
   "source": [
    "## Problem 1\n",
    "\n",
    "$$\\renewcommand\\ket[1]{\\left| #1 \\right\\rangle }$$\n",
    "\n",
    "Implement a three bit quantum circuit that starts with the bits initialized in the pure state $\\ket{000}$ and yields the following state:\n",
    "$$ \\frac{1}{\\sqrt{2}} ( \\ket{000} +  \\ket{111} )$$\n",
    "\n",
    "First design your strategy and verify that it will work.\n"
   ]
  },
  {
   "cell_type": "markdown",
   "id": "17264e0f",
   "metadata": {
    "deletable": false,
    "nbgrader": {
     "cell_type": "markdown",
     "checksum": "3bdc4afeac12268b7e8bcf478100ffab",
     "grade": true,
     "grade_id": "cell-4edf19f7a1ada484",
     "locked": false,
     "points": 0,
     "schema_version": 3,
     "solution": true,
     "task": false
    }
   },
   "source": [
    "YOUR ANSWER HERE\n",
    "1. Apply the Hardmard operator on qubit $b1$ to yield $\\frac{1}{\\sqrt{2}}(| 000 \\rangle + | 100 \\rangle)$\n",
    "2. Apply the controlled X gate with control qubit $b1$ operating on $b2$\n",
    "3. Apply the controlled X gate with control qubit $b1$ operating on $b3$"
   ]
  },
  {
   "cell_type": "markdown",
   "id": "d2b3df4e",
   "metadata": {
    "deletable": false,
    "editable": false,
    "nbgrader": {
     "cell_type": "markdown",
     "checksum": "fe39eb02f2fcbf0986c5fa46e8c0a039",
     "grade": false,
     "grade_id": "cell-c5c1f7957567991c",
     "locked": true,
     "schema_version": 3,
     "solution": false,
     "task": false
    }
   },
   "source": [
    "Design your circuit using IBM's qiskit library. For convenience, we will pass an instance of a `QuantumCircuit` to your function. The inputs are qubits indexed $0, 1, 2$. Please do not create/use any ancillary qubits besides the input qubits. Also, please do not use any measurements on your circuit. "
   ]
  },
  {
   "cell_type": "code",
   "execution_count": null,
   "id": "af7f4ca5",
   "metadata": {
    "ExecuteTime": {
     "end_time": "2024-02-29T22:32:20.892901Z",
     "start_time": "2024-02-29T22:32:19.967619Z"
    },
    "deletable": false,
    "nbgrader": {
     "cell_type": "code",
     "checksum": "0f782d8d0ec801446288e4b075f0fe68",
     "grade": false,
     "grade_id": "cell-8b011b90d5e8da87",
     "locked": false,
     "schema_version": 3,
     "solution": true,
     "task": false
    }
   },
   "outputs": [],
   "source": [
    "from qiskit import QuantumCircuit\n",
    "\n",
    "def create_ghz_circuit(qc):\n",
    "    # please implement your circuit here.\n",
    "    # useful tutorials\n",
    "    #  https://docs.quantum.ibm.com/build/circuit-construction\n",
    "    qc.h(0)\n",
    "    qc.cx(0, 1)\n",
    "    qc.cx(0, 2)\n",
    "\n",
    "    \n",
    "qc = QuantumCircuit(3) # create a quantum circuit with three qubits\n",
    "create_ghz_circuit(qc) # call the code created by the student to populate the gates in the circuit\n",
    "qc.measure_all() # measure the outputs\n",
    "qc.draw('mpl', style=\"iqp\") # draw the circuit"
   ]
  },
  {
   "cell_type": "code",
   "execution_count": null,
   "id": "4cb3b1b1",
   "metadata": {
    "ExecuteTime": {
     "end_time": "2024-02-29T22:39:43.383045Z",
     "start_time": "2024-02-29T22:39:43.272338Z"
    },
    "deletable": false,
    "editable": false,
    "nbgrader": {
     "cell_type": "code",
     "checksum": "f97c535f633064d69cc11c5c3d706c16",
     "grade": true,
     "grade_id": "cell-f2b6b7070ef8b5ed",
     "locked": true,
     "points": 5,
     "schema_version": 3,
     "solution": false,
     "task": false
    }
   },
   "outputs": [],
   "source": [
    "from qiskit import transpile \n",
    "from qiskit_aer import Aer\n",
    "\n",
    "from qiskit.visualization import plot_histogram\n",
    "simulator = Aer.get_backend('aer_simulator')\n",
    "circ = transpile(qc, simulator) \n",
    "\n",
    "# Run and get counts\n",
    "result = simulator.run(qc).result()\n",
    "counts = result.get_counts(circ)\n",
    "print(f'Result counts from 1024 simulations: {counts}')\n",
    "assert counts['000'] >= 450 and counts['111'] >= 450, 'counts of 000 and 111 state are not roughly equal'\n",
    "assert ('001' not in counts), 'qubit 001 part of superposition which should not be the case'\n",
    "assert ('011' not in counts), 'qubit 011 part of superposition which should not be the case'\n",
    "assert ('010' not in counts), 'qubit 010 part of superposition which should not be the case'\n",
    "assert ('100' not in counts), 'qubit 100 part of superposition which should not be the case'\n",
    "assert ('101' not in counts), 'qubit 101 part of superposition which should not be the case'\n",
    "assert ('110' not in counts), 'qubit 110 part of superposition which should not be the case'\n",
    "plot_histogram(counts, title='result counts (1024 simulations)')"
   ]
  },
  {
   "cell_type": "markdown",
   "id": "02761d95",
   "metadata": {
    "deletable": false,
    "editable": false,
    "nbgrader": {
     "cell_type": "markdown",
     "checksum": "3955cfbc37877d1137e563ab0086fb6f",
     "grade": false,
     "grade_id": "cell-001d086bac771490",
     "locked": true,
     "schema_version": 3,
     "solution": false,
     "task": false
    }
   },
   "source": [
    "### Problem 1B (Quantum Teleportation)\n",
    "\n",
    "We will now look into the problem of \"destructive\" copying of a quantum state called quantum teleportation. \n",
    "Suppose we have a qubit $b_0$ that is currently a super position $\\ket{\\varphi} = a_0 \\ket{0} + a_1 \\ket{1}$ and another qubit $b_1$ initialized to $\\ket{0}$. We wish to  transform $b_1$ to be $\\ket{\\varphi}$ while $b_0$ is potentially destroyed in the process. Note that no-cloning theorem will not allow us to do this without changing $b_0$ in some way.\n",
    "\n",
    "Prove that the following steps will copy $b_0$ over to $b_1$ by completing the calculations asked of you. \n",
    "\n",
    "Let $b_0$ be in the super position $\\ket{\\varphi}$ above and $b_1$ in initial state $\\ket{0}$. The joint system is in the state  \n",
    "$$ \\ket{\\varphi} \\otimes \\ket{0} = a_0 \\ket{00} + a_1 \\ket{10} $$\n",
    "\n",
    "1. Apply the Hadamard gate to $b_1$. What is the resulting state?"
   ]
  },
  {
   "cell_type": "markdown",
   "id": "b8a0a2d1",
   "metadata": {
    "deletable": false,
    "nbgrader": {
     "cell_type": "markdown",
     "checksum": "b4354f79fb18eb888ace2a7312dd6750",
     "grade": true,
     "grade_id": "cell-637d9aa0afc22afd",
     "locked": false,
     "points": 0,
     "schema_version": 3,
     "solution": true,
     "task": false
    }
   },
   "source": [
    "- YOUR ANSWER HERE\n",
    "\n",
    "$$ b_1 = \\ket{0} $$\n",
    "$$ H \\ket{0} = \\frac{1}{\\sqrt{2}}(\\ket{0} + \\ket{1})$$\n",
    "$$ \\ket{\\varphi} \\otimes b_1 = a_0 \\ket{0} + a_1 \\ket{1} \\otimes \\frac{1}{\\sqrt{2}}(\\ket{0} + \\ket{1}) $$\n",
    "\n",
    "$$ \\frac{1}{\\sqrt{2}}(a_0 \\ket{00} + a_0 \\ket{01} + a_1 \\ket{10} + a_1 \\ket{11}) $$"
   ]
  },
  {
   "cell_type": "markdown",
   "id": "a64c0eb4",
   "metadata": {
    "deletable": false,
    "editable": false,
    "nbgrader": {
     "cell_type": "markdown",
     "checksum": "192307981ceb8dda03e65da7313264f5",
     "grade": false,
     "grade_id": "cell-4e930d6463fa6ecd",
     "locked": true,
     "schema_version": 3,
     "solution": false,
     "task": false
    }
   },
   "source": [
    "  2. Apply the controlled-X gate to qubit $b_0$ with control qubit $b_1$. What is the resulting state?"
   ]
  },
  {
   "cell_type": "markdown",
   "id": "fbcbd35c",
   "metadata": {
    "deletable": false,
    "nbgrader": {
     "cell_type": "markdown",
     "checksum": "7f953776d6fa12c764d25e3d45fb133c",
     "grade": true,
     "grade_id": "cell-217d69be80443960",
     "locked": false,
     "points": 0,
     "schema_version": 3,
     "solution": true,
     "task": false
    }
   },
   "source": [
    "- YOUR ANSWER HERE\n",
    "\n",
    "$$ \\frac{1}{\\sqrt{2}}(a_0 \\ket{00} + a_0 \\ket{11} + a_1 \\ket{10} + a_1 \\ket{01}) $$"
   ]
  },
  {
   "cell_type": "markdown",
   "id": "a93d1c2b",
   "metadata": {
    "deletable": false,
    "editable": false,
    "nbgrader": {
     "cell_type": "markdown",
     "checksum": "eaa8a3463823d579d612b1974ef34007",
     "grade": false,
     "grade_id": "cell-112de251e67f77fc",
     "locked": true,
     "schema_version": 3,
     "solution": false,
     "task": false
    }
   },
   "source": [
    "3. Apply the controlled-X gate to qubit $b_1$ with control qubit $b_0$. What is the resulting state?"
   ]
  },
  {
   "cell_type": "markdown",
   "id": "1f269d9d",
   "metadata": {
    "deletable": false,
    "nbgrader": {
     "cell_type": "markdown",
     "checksum": "a492fdf5f233271927d0df9e0c9252a6",
     "grade": true,
     "grade_id": "cell-e0b9a22c15db9829",
     "locked": false,
     "points": 0,
     "schema_version": 3,
     "solution": true,
     "task": false
    }
   },
   "source": [
    "- YOUR ANSWER HERE\n",
    "\n",
    "$$ \\frac{1}{\\sqrt{2}}(a_0 \\ket{00} + a_0 \\ket{10} + a_1 \\ket{11} + a_1 \\ket{01})  $$"
   ]
  },
  {
   "cell_type": "markdown",
   "id": "c9890fcc",
   "metadata": {
    "deletable": false,
    "editable": false,
    "nbgrader": {
     "cell_type": "markdown",
     "checksum": "8914fa9b359a125a5469360c68b39f00",
     "grade": false,
     "grade_id": "cell-74ac216dbaa7ce78",
     "locked": true,
     "schema_version": 3,
     "solution": false,
     "task": false
    }
   },
   "source": [
    "  4. Measure the qubit $b_0$. Write down the possible results of the measurement along with the probabilities and the states for $b_1$ after the partial measurement."
   ]
  },
  {
   "cell_type": "markdown",
   "id": "afa85e31",
   "metadata": {
    "deletable": false,
    "nbgrader": {
     "cell_type": "markdown",
     "checksum": "e8113ebd5431263b8a475510c547bf04",
     "grade": true,
     "grade_id": "cell-6e73e7b8d24f4fea",
     "locked": false,
     "points": 0,
     "schema_version": 3,
     "solution": true,
     "task": false
    }
   },
   "source": [
    "- YOUR ANSWER HERE\n",
    "  \n",
    "  - $b_0$ collapse to $\\ket{0}$ with probability $\\frac{1}{2}$ and $\\ket{1}$ with the same probability, and $b_1$ collapse to $\\ket{\\varphi}$"
   ]
  },
  {
   "cell_type": "markdown",
   "id": "f9384b7c",
   "metadata": {
    "deletable": false,
    "editable": false,
    "nbgrader": {
     "cell_type": "markdown",
     "checksum": "71dd6eddeaf25673235155d6524aa373",
     "grade": false,
     "grade_id": "cell-0e828fd5e2b9d0d3",
     "locked": true,
     "schema_version": 3,
     "solution": false,
     "task": false
    }
   },
   "source": [
    "If you followed along the steps above, you will realize that the quantum circuit will cause $b_0$ to collapse to either a $\\ket{0}$ or a $\\ket{1}$ but $b_1$ will now have $\\ket{\\varphi}$. This is the essence of _quantum teleportation_. It is important that you do the calculations correctly and obtain the result before you try the problem below.\n",
    "\n",
    "\n",
    "5. Implement the function `quantum_teleport` that takes in an instance of `QuantumCircuit` and index of two qubits `b0` and `b1`. It should implement the above scheme to copy `b0` into `b1`, which is initialized to $\\ket{0}$. Do not measure `b1`."
   ]
  },
  {
   "cell_type": "code",
   "execution_count": null,
   "id": "fab3dedd",
   "metadata": {
    "ExecuteTime": {
     "end_time": "2024-03-01T13:43:03.392030Z",
     "start_time": "2024-03-01T13:43:03.270394Z"
    },
    "deletable": false,
    "nbgrader": {
     "cell_type": "code",
     "checksum": "db1d9193b3b32688347d560b644fb103",
     "grade": false,
     "grade_id": "cell-b4144bf72cd34145",
     "locked": false,
     "schema_version": 3,
     "solution": true,
     "task": false
    }
   },
   "outputs": [],
   "source": [
    "from qiskit import QuantumCircuit, QuantumRegister, ClassicalRegister\n",
    "def quantum_teleport(qc, b0, b1, cbit): \n",
    "    # qc is a quantum circuit instance \n",
    "    # b0 and b1 are indices of two bits. \n",
    "    # cbit is a classical bit that you will need for the partial mmeasurement at step 4.\n",
    "    # assume b0 != b1\n",
    "    # implement the circuit to \"teleport\" the state of q1 to q2.\n",
    "    # do not introduce any ancillary qubits.\n",
    "    # no need to return anything: you will be mutating the circuit qc.\n",
    "    qc.h(b1)\n",
    "    qc.cx(b1, b0)\n",
    "    qc.cx(b0, b1)\n",
    "    qc.measure(b0, cbit)\n",
    "\n",
    "\n",
    "    \n",
    "b = QuantumRegister(2, 'b')\n",
    "c = ClassicalRegister(1,'z')\n",
    "qc = QuantumCircuit(b, c)\n",
    "quantum_teleport(qc, b[0], b[1], c[0])\n",
    "qc.draw('mpl', style='iqp')"
   ]
  },
  {
   "cell_type": "code",
   "execution_count": null,
   "id": "83ccc931",
   "metadata": {
    "ExecuteTime": {
     "end_time": "2024-03-01T14:14:26.241195Z",
     "start_time": "2024-03-01T14:14:26.088057Z"
    },
    "deletable": false,
    "editable": false,
    "nbgrader": {
     "cell_type": "code",
     "checksum": "79bc4bb43d7ec76c04d4a05347090610",
     "grade": true,
     "grade_id": "cell-031bce7385b8b88d",
     "locked": true,
     "points": 7,
     "schema_version": 3,
     "solution": false,
     "task": false
    }
   },
   "outputs": [],
   "source": [
    "# Test 1. We will create a single qubit circuit and copy it over.\n",
    "# \n",
    "from numpy import pi\n",
    "from qiskit import transpile\n",
    "from qiskit_aer import Aer\n",
    "\n",
    "b = QuantumRegister(2, 'b')\n",
    "c = ClassicalRegister(2,'z')\n",
    "qc_test1 = QuantumCircuit(b, c)\n",
    "\n",
    "qc_test1.r(2*pi/8, 0.0, b[0]) # apply a pi/8 rotation\n",
    "# b[0] should be prepared in state \n",
    "# cos(pi/8) |0> - sin(pi/8) |1>\n",
    "qc_test1.barrier()\n",
    "# Teleport b[0] to b[1]\n",
    "quantum_teleport(qc_test1, b[0], b[1], c[1]) # teleport \n",
    "qc_test1.barrier()\n",
    "qc_test1.measure(b[1], c[0]) # measure\n",
    "display(qc_test1.draw('mpl', style='iqp'))\n",
    "# test \n",
    "from qiskit.visualization import plot_histogram\n",
    "simulator = Aer.get_backend('aer_simulator')\n",
    "circ = transpile(qc_test1, simulator) \n",
    "\n",
    "# Run and get counts\n",
    "result = simulator.run(circ).result()\n",
    "counts = result.get_counts(circ)\n",
    "print(f'Result counts from 1024 simulations: {counts}')\n",
    "# collect the counts\n",
    "# roughly we should get measurement of b[0] = 0, b[0] = 1 with 50% probability\n",
    "# probability of b[1] = 0 and b[1] = 1 must be in the ratio tan^2(pi/8) ~ 0.17157\n",
    "\n",
    "b0_0_count = counts['00'] + counts['01']\n",
    "b0_1_count = counts['10'] + counts['11']\n",
    "print(f' b0 = |0> count is {b0_0_count} and b0=|1> count is {b0_1_count} : must be roughly equal')\n",
    "assert b0_0_count >= 0.85 * 512 and b0_0_count <= 1.15 * 512\n",
    "\n",
    "b1_0_count = counts['00'] + counts['10']\n",
    "b1_1_count = counts['01'] + counts['11']\n",
    "\n",
    "print(f' b1 = |0> count is {b1_0_count} and b1=|1> count is {b1_1_count} :expected  b1 = |1> happens roughly 17% of the time, and b1=|0> 83% ')\n",
    "assert b1_0_count >= 0.7 * 1024 and b1_0_count <= 0.95 * 1024\n",
    "\n",
    "print('Test passed')\n"
   ]
  },
  {
   "cell_type": "code",
   "execution_count": null,
   "id": "3aae8f2d",
   "metadata": {
    "ExecuteTime": {
     "end_time": "2024-03-01T14:20:35.497769Z",
     "start_time": "2024-03-01T14:20:35.100976Z"
    },
    "deletable": false,
    "editable": false,
    "nbgrader": {
     "cell_type": "code",
     "checksum": "b46015ea641867a1a2d6ff6a8cf9bfbe",
     "grade": true,
     "grade_id": "cell-251ce6ac55b0cba0",
     "locked": true,
     "points": 8,
     "schema_version": 3,
     "solution": false,
     "task": false
    }
   },
   "outputs": [],
   "source": [
    "# Test 1. We will create a single qubit circuit and copy it over.\n",
    "# \n",
    "from numpy import pi\n",
    "from qiskit import transpile\n",
    "from qiskit_aer import Aer\n",
    "\n",
    "b = QuantumRegister(3, 'b')\n",
    "c = ClassicalRegister(3,'z')\n",
    "qc_test2 = QuantumCircuit(b, c)\n",
    "# create the bell state for b[0] and b[1]\n",
    "qc_test2.h(b[0])\n",
    "qc_test2.cx(0, 1)\n",
    "qc_test2.barrier()\n",
    "# Teleport b[0] to b[2]\n",
    "quantum_teleport(qc_test2, b[0], b[2], c[2]) # teleport b0 into b2\n",
    "qc_test2.barrier()\n",
    "qc_test2.measure(b[2], c[0]) # measure\n",
    "qc_test2.measure(b[1], c[1]) # measure\n",
    "display(qc_test2.draw('mpl', style='iqp'))\n",
    "# test \n",
    "simulator = Aer.get_backend('aer_simulator')\n",
    "circ = transpile(qc_test2, simulator) \n",
    "\n",
    "# Run and get counts\n",
    "result = simulator.run(circ).result()\n",
    "counts = result.get_counts(circ)\n",
    "print(f'Result counts from 1024 simulations: {counts}')\n",
    "# there should be no count for states of the form `*01` and `*10`\n",
    "assert('001' not in counts)\n",
    "assert('010' not in counts)\n",
    "assert('101' not in counts)\n",
    "assert('110' not in counts)\n",
    "assert(0.2 * 1024 <= counts['000'] <= 0.3 * 1024)\n",
    "assert(0.2 * 1024 <= counts['011'] <= 0.3 * 1024)\n",
    "assert(0.2 * 1024 <= counts['100'] <= 0.3 * 1024)\n",
    "assert(0.2 * 1024 <= counts['111'] <= 0.3 * 1024)\n",
    "\n",
    "print('Test passed')\n"
   ]
  },
  {
   "cell_type": "markdown",
   "id": "ae304a09",
   "metadata": {
    "deletable": false,
    "editable": false,
    "nbgrader": {
     "cell_type": "markdown",
     "checksum": "f8bee12c3aede55463e3b270aad47bce",
     "grade": false,
     "grade_id": "cell-ad0020c701e65a67",
     "locked": true,
     "schema_version": 3,
     "solution": false,
     "task": false
    }
   },
   "source": [
    "## Problem 3  (Alice, Bob and Bell's Inequality)\n",
    "\n",
    "In this problem, we will implement the protocol between Alice and Bob that was described in the video lecture on Bell's inequality. We would like you to examine that lecture video before attempting it.\n",
    "\n",
    "  - Alice and Bob are each given a classical bit and a qubit $b_1, q_1$ for Alice and $b_2, q_2$ are Bob.\n",
    "  - The classical bits are each the result of the toss of a fair coin. But these are not yet revealed to Alice/Bob.\n",
    "  - The qubits of Alice/Bob are entangled so that $\\ket{q_1 q_2} = \\frac{1}{\\sqrt{2}} ( \\ket{00} + \\ket{11})$.\n",
    "  - At a given moment in time, each of them gets to know their own bits.\n",
    "  - They need to respond back with answers in the form of classical bits $z_1, z_2$ \n",
    "  - They win if $ b_1 \\land b_2 = z_1 \\oplus z_2$.\n",
    "  \n",
    "The best they can do without the aid of qubits is a winning probability of $0.75$ that can be obtained by simply each responding with a $0$ (the only way they lose is if $b_1 = b_2 = 1$ which is assumed to happen with $1/4$ probability).\n",
    "\n",
    "We showed a protocol in the video that allows them to beat the classical probability limit. Your goal is to implement that as part of a quantum circuit. \n",
    "\n",
    "Implement the function `alice_response(qcircuit, b1, qbit, cbit)` that inputs a the coin toss result for alice `b1`, Alice's  qubit `qbit` (entangled with Bob's but that does not matter here) and a classical bit to measure into. There is no need to return any results: we will take care of that in the testing code where we will read the classical bit as `cbit` as Alice's response.\n",
    "\n",
    "Implement similarly the function `bob_response(qcircuit, b2, qbit, cbit)` for Bob.\n",
    "\n",
    "Note: you can use the quantum rotation gate `ry(2*theta,  qbit)` to implement a `theta` degree rotation on a qubit. Cf.\n",
    " - https://docs.quantum.ibm.com/api/qiskit/qiskit.circuit.library.RYGate\n",
    " - https://docs.quantum.ibm.com/api/qiskit/qiskit.circuit.QuantumCircuit#ry"
   ]
  },
  {
   "cell_type": "code",
   "execution_count": null,
   "id": "935ea943",
   "metadata": {
    "ExecuteTime": {
     "end_time": "2024-03-01T21:02:59.101509Z",
     "start_time": "2024-03-01T21:02:59.097152Z"
    },
    "deletable": false,
    "nbgrader": {
     "cell_type": "code",
     "checksum": "80e1887b6136840a5d91cdfc2b82442d",
     "grade": false,
     "grade_id": "cell-3e59120738faf437",
     "locked": false,
     "schema_version": 3,
     "solution": true,
     "task": false
    }
   },
   "outputs": [],
   "source": [
    "from qiskit import QuantumCircuit, QuantumRegister, ClassicalRegister\n",
    "from numpy import pi\n",
    "\n",
    "theta = pi / 4\n",
    "\n",
    "def alice_response(qc, b1, qbit, cbit):\n",
    "    if b1 == 1:\n",
    "        qc.ry(2 * theta, qbit)\n",
    "    # else:\n",
    "    #     qc.ry(-2 * theta, qbit)\n",
    "    \n",
    "    # Measure the qubit\n",
    "    qc.measure(qbit, cbit)\n",
    "    \n",
    "    \n",
    "def bob_response(qc, b2, qbit, cbit ):\n",
    "    if b2 == 1:\n",
    "        qc.ry(-2 * theta, qbit)\n",
    "    # else:\n",
    "    #     qc.ry(-2 * theta, qbit)\n",
    "    \n",
    "    # Measure the qubit\n",
    "    qc.measure(qbit, cbit)\n",
    "    "
   ]
  },
  {
   "cell_type": "code",
   "execution_count": null,
   "id": "e927bb08",
   "metadata": {
    "ExecuteTime": {
     "end_time": "2024-03-01T21:06:32.320864Z",
     "start_time": "2024-03-01T21:06:31.559114Z"
    },
    "deletable": false,
    "editable": false,
    "nbgrader": {
     "cell_type": "code",
     "checksum": "e28490b323c68e3d7a15d2f28c9fce35",
     "grade": true,
     "grade_id": "cell-2c75fca6ba9a9b95",
     "locked": true,
     "points": 10,
     "schema_version": 3,
     "solution": false,
     "task": false
    }
   },
   "outputs": [],
   "source": [
    "from qiskit import transpile, QuantumRegister, ClassicalRegister, QuantumCircuit\n",
    "from qiskit_aer import Aer\n",
    "def create_and_run_circuit(b1, b2):\n",
    "    # let's collect the counts for b1 = 1, b2 = 1\n",
    "    qbits11 = QuantumRegister(2, 'qbit')\n",
    "    cbits11 = ClassicalRegister(2, 'z')\n",
    "    # create the bell state\n",
    "    print(f'Circuit for b1 = {b1} and b2 = {b2}')\n",
    "    qc_11 = QuantumCircuit(qbits11, cbits11)\n",
    "    qc_11.h(qbits11[0])\n",
    "    qc_11.cx(qbits11[0], qbits11[1])\n",
    "    qc_11.barrier()\n",
    "    alice_response(qc_11, b1, qbits11[0], cbits11[0])\n",
    "    bob_response(qc_11, b2, qbits11[1], cbits11[1] )\n",
    "    display(qc_11.draw('mpl', style='iqp'))\n",
    "    # simulate \n",
    "    # test \n",
    "    simulator = Aer.get_backend('aer_simulator')\n",
    "    circ11 = transpile(qc_11, simulator) \n",
    "    # Run and get counts\n",
    "    result = simulator.run(qc_11).result()\n",
    "    counts = result.get_counts(circ11)\n",
    "    print(counts)\n",
    "    return counts \n",
    "\n",
    "success_count = 0\n",
    "counts = create_and_run_circuit(True, True)\n",
    "assert '01' in counts, 'Your result for b1 = True and b2 = True must have non-zero amplitude for |01>'\n",
    "assert '10' in counts, 'Your result for b1 = True and b2 = True must have non-zero amplitude for |10>'\n",
    "success_count += (counts['01'] + counts['10'])\n",
    "counts = create_and_run_circuit(True, False)\n",
    "assert '00' in counts, 'Your result for b1 = True and b2 = False must have non-zero amplitude for |01>'\n",
    "assert '11' in counts, 'Your result for b1 = True and b2 = False must have non-zero amplitude for |10>'\n",
    "success_count += (counts['00'] + counts['11'])\n",
    "counts = create_and_run_circuit(False, True)\n",
    "assert '00' in counts, 'Your result for b1 = False and b2 = True must have non-zero amplitude for |01>'\n",
    "assert '11' in counts, 'Your result for b1 = False and b2 = True must have non-zero amplitude for |10>'\n",
    "success_count += (counts['00'] + counts['11'])\n",
    "counts = create_and_run_circuit(False, False)\n",
    "assert '00' in counts, 'Your result for b1 = False and b2 = False must have non-zero amplitude for |01>'\n",
    "assert '11' in counts, 'Your result for b1 = False and b2 = False must have non-zero amplitude for |10>'\n",
    "success_count += (counts['00'] + counts['11'])\n",
    "\n",
    "print(f'Probability of Alice/Bob Winning is estimated to be: {success_count/(4*1024)}')\n",
    "\n",
    "\n"
   ]
  },
  {
   "cell_type": "markdown",
   "id": "8b89eb59",
   "metadata": {
    "deletable": false,
    "editable": false,
    "nbgrader": {
     "cell_type": "markdown",
     "checksum": "c25aec9110cd07b0ff3cbd78b908cfb2",
     "grade": false,
     "grade_id": "cell-a3054d5100eb68c1",
     "locked": true,
     "schema_version": 3,
     "solution": false,
     "task": false
    }
   },
   "source": [
    "## Grover Search Marking Circuit\n",
    "\n",
    "Design a quantum circuit with $4$ input bits $b_0, b_1, b_2, b_3$ such that it \"marks\" the amplitudes corresponding to the states  $$\\ket{b_0 b_1 b_2 b_3} \\in \\left\\{ \\ket{0011}, \\ket{1100}, \\ket{0101} \\right\\}$$ by inverting their amplitudes, leaving all other states unchanged. In this problem, you are asked to achieve this without using ancillary qubits or a result bit.\n",
    "\n",
    "Let us consider the simple problem of inverting the amplitude corresponding to $\\ket{1111}$ leaving all the others unchanged. Show that this can be performed using a \"multi controlled phase gate\" with a phase of $\\pi$ radians. Write down a brief description of how such a circuit would work. See documentation for such a gate:\n",
    "https://docs.quantum.ibm.com/api/qiskit/qiskit.circuit.library.MCPhaseGate\n"
   ]
  },
  {
   "cell_type": "markdown",
   "id": "2badd8a1",
   "metadata": {
    "deletable": false,
    "nbgrader": {
     "cell_type": "markdown",
     "checksum": "7f289b226c3d673cbf57e3ecf972249f",
     "grade": true,
     "grade_id": "cell-389ee5eb21d7d572",
     "locked": false,
     "points": 0,
     "schema_version": 3,
     "solution": true,
     "task": false
    }
   },
   "source": [
    "YOUR ANSWER HERE\n",
    "\n",
    "A multicontrolled phase gate with control qubits $b_0, b_1, b_2$ and operating on $b_3$ and a phase of $\\pi$ implements the unitary operation that transform $\\ket{1111}$ to $- \\ket{1111}$, while leaving all the other pure states unchanged."
   ]
  },
  {
   "cell_type": "markdown",
   "id": "4d90d525",
   "metadata": {
    "deletable": false,
    "editable": false,
    "nbgrader": {
     "cell_type": "markdown",
     "checksum": "94b841f32b5182069e37770f4d9f6d9f",
     "grade": false,
     "grade_id": "cell-b8a9a0f52d05264a",
     "locked": true,
     "schema_version": 3,
     "solution": false,
     "task": false
    }
   },
   "source": [
    "Using the idea of a multi-controlled phase gate, now use X-gates (quantum not) to convert each of the pure states $\\ket{0011}, \\ket{1100}, \\ket{0101}$ each to $\\ket{1111}$ and use MCP gate above to mark the phase. Remember to use X-gates to convert the inputs back."
   ]
  },
  {
   "cell_type": "code",
   "execution_count": null,
   "id": "db1348be",
   "metadata": {
    "ExecuteTime": {
     "end_time": "2024-03-01T22:14:46.603703Z",
     "start_time": "2024-03-01T22:14:46.404826Z"
    },
    "deletable": false,
    "nbgrader": {
     "cell_type": "code",
     "checksum": "a83df7661a8c5c16f417ff6f13dc478d",
     "grade": false,
     "grade_id": "cell-ea85e0d2f7669b16",
     "locked": false,
     "schema_version": 3,
     "solution": true,
     "task": false
    }
   },
   "outputs": [],
   "source": [
    "\n",
    "from qiskit import QuantumRegister, QuantumCircuit\n",
    "from numpy import pi\n",
    "def mark_pure_states(qc, b0, b1, b2, b3):\n",
    "    # mark the components corresponding to the pure states |0011> , |1100>, |0101>\n",
    "    # your code here\n",
    "    # Mark the state |0011>\n",
    "    qc.x(b0)\n",
    "    qc.x(b1)\n",
    "    qc.mcp(pi, [b0, b1, b2], b3)\n",
    "    qc.x(b0)\n",
    "    qc.x(b1)\n",
    "\n",
    "    # Mark the state |1100>\n",
    "    qc.x(b2)\n",
    "    qc.x(b3)\n",
    "    qc.mcp(pi, [b0, b1, b2], b3)\n",
    "    qc.x(b2)\n",
    "    qc.x(b3)\n",
    "\n",
    "    # Mark the state |0101>\n",
    "    qc.x(b0)\n",
    "    qc.x(b2)\n",
    "    qc.mcp(pi, [b0, b1, b2], b3)\n",
    "    qc.x(b0)\n",
    "    qc.x(b2)\n",
    "\n",
    "b = QuantumRegister(4, 'b')\n",
    "qc = QuantumCircuit(b)\n",
    "mark_pure_states(qc, b[0], b[1], b[2], b[3])\n",
    "qc.draw('mpl', style='iqp')"
   ]
  },
  {
   "cell_type": "code",
   "execution_count": null,
   "id": "ca3a41f9",
   "metadata": {
    "ExecuteTime": {
     "end_time": "2024-03-01T22:32:24.871727Z",
     "start_time": "2024-03-01T22:32:24.660513Z"
    },
    "deletable": false,
    "editable": false,
    "nbgrader": {
     "cell_type": "code",
     "checksum": "7a1ad6230b7d668a905658a117a61144",
     "grade": true,
     "grade_id": "cell-b2a08436124ef406",
     "locked": true,
     "points": 10,
     "schema_version": 3,
     "solution": false,
     "task": false
    }
   },
   "outputs": [],
   "source": [
    "from qiskit import QuantumCircuit, QuantumRegister\n",
    "from qiskit_aer import Aer\n",
    "b = QuantumRegister(4, 'b')\n",
    "qc = QuantumCircuit(b)\n",
    "# create uniform super position\n",
    "qc.h(b[0])\n",
    "qc.h(b[1])\n",
    "qc.h(b[2])\n",
    "qc.h(b[3])\n",
    "qc.barrier()\n",
    "mark_pure_states(qc, b[0], b[1], b[2], b[3])\n",
    "display(qc.draw('mpl', style='iqp'))\n",
    "# use a state vector simulator to obain the marked states\n",
    "backend = Aer.get_backend('statevector_simulator')\n",
    "job = backend.run(qc)\n",
    "result = job.result()\n",
    "state_vector = result.get_statevector()\n",
    "print(state_vector)\n",
    "for i in range(16):\n",
    "    if i == 3 or i == 10 or i == 12: # are we marking the correct basis states\n",
    "        assert abs(state_vector[i] + 0.25) <= 0.001\n",
    "    else: \n",
    "        assert abs(state_vector[i] - 0.25) <= 0.001\n"
   ]
  },
  {
   "cell_type": "code",
   "execution_count": null,
   "id": "33327909",
   "metadata": {
    "ExecuteTime": {
     "end_time": "2024-03-01T22:46:41.001546Z",
     "start_time": "2024-03-01T22:46:39.918291Z"
    },
    "deletable": false,
    "editable": false,
    "nbgrader": {
     "cell_type": "code",
     "checksum": "a4241081cf8e21e708d1fc795764f63f",
     "grade": true,
     "grade_id": "cell-8dd56fdaccd7ef0d",
     "locked": true,
     "points": 5,
     "schema_version": 3,
     "solution": false,
     "task": false
    }
   },
   "outputs": [],
   "source": [
    "# Let's run Grover's algorithm \n",
    "# let's now implement Grover's search to find a value \n",
    "import numpy as np\n",
    "from qiskit import QuantumCircuit, QuantumRegister\n",
    "from qiskit_aer import Aer\n",
    "\n",
    "def Uf(qc, b):\n",
    "    mark_pure_states(qc, b[0], b[1], b[2], b[3])\n",
    "   \n",
    "def apply_reflection_about_uniform_state(qc, input_registers): \n",
    "    # qc is a previously created quantum circuit\n",
    "    # input_registers are the registers that measure the input\n",
    "    # n is the number of input qubits\n",
    "    # \n",
    "    # 1. Apply Hadamard on each of the input registers.\n",
    "    # 2. Invert all the qubits\n",
    "    for i in input_registers:\n",
    "        qc.h(i)\n",
    "        qc.x(i)\n",
    "    n = len(input_registers)\n",
    "    # 3. apply a multi controlled Z gate \n",
    "    qc.mcp(np.pi, input_registers[0:n-1], input_registers[n-1])\n",
    "    for i in input_registers:\n",
    "        qc.x(i) # invert back\n",
    "        qc.h(i) # apply Hadamard back\n",
    "\n",
    "def Grover_diffuse(qc, inputs):\n",
    "    Uf(qc, inputs)\n",
    "    apply_reflection_about_uniform_state(qc, inputs)\n",
    "    qc.barrier()\n",
    "\n",
    "def create_quantum_circuit_for_grover(n_iters):\n",
    "    inputs = QuantumRegister(4, 'b')\n",
    "    cbit = ClassicalRegister(4, 'z')\n",
    "    qc = QuantumCircuit(inputs,  cbit)\n",
    "    for i in inputs:\n",
    "        qc.h(i) # apply hadamard\n",
    "    qc.barrier()\n",
    "    for i in range(n_iters):\n",
    "        Grover_diffuse(qc, inputs)\n",
    "    qc.measure(inputs, cbit)\n",
    "    return qc\n",
    "\n",
    "qc2 = create_quantum_circuit_for_grover(4)\n",
    "print('Grover Search After Four Iterations')\n",
    "\n",
    "display(qc2.draw('mpl', style='iqp'))\n",
    "from qiskit.visualization import plot_histogram\n",
    "# lets test after one iteration\n",
    "simulator = Aer.get_backend('aer_simulator')\n",
    "circ = transpile(qc2, simulator)\n",
    "\n",
    "# Run and get counts\n",
    "result = simulator.run(qc2).result()\n",
    "counts = result.get_counts(circ)\n",
    "display(plot_histogram(counts, title='result counts (1024 simulations)'))\n",
    "assert counts['0011'] + counts['1010'] + counts['1100'] >= 500, \"The marked states should account for more than 50% of the counts. Are you implementing the Marking circuit correctly?\""
   ]
  },
  {
   "cell_type": "markdown",
   "id": "0e44ce8b",
   "metadata": {
    "deletable": false,
    "editable": false,
    "nbgrader": {
     "cell_type": "markdown",
     "checksum": "1855b0a2c9309917a1f6779cf6576bf9",
     "grade": false,
     "grade_id": "cell-76af4ba6fb72b83c",
     "locked": true,
     "schema_version": 3,
     "solution": false,
     "task": false
    }
   },
   "source": [
    "Selected Answers to manually graded problems:\n",
    "\n",
    "## P1\n",
    "\n",
    "The construction is similar to how we constructed the Bell state in our notes. \n",
    "\n",
    "  1. Apply the Hadamard operator on qubit $b_1$ to yield $\\frac{1}{\\sqrt{2}}(\\ket{000} +\\ket{100})$.\n",
    "  2. Apply the controlled X gate with control qubit $b_1$ operating on $b_2$.\n",
    "  3. Apply the controlled X gate with control qubit $b_1$ operating on $b_3$.\n",
    "\n",
    "## P2\n",
    "  1. $$ \\frac{1}{\\sqrt{2}} ( a_0 \\ket{00} +  a_0 \\ket{01} + a_1 \\ket{10} + a_1 \\ket{11} ) $$ \n",
    "  2. $$\\frac{1}{\\sqrt{2}} ( a_0 \\ket{00} + a_0 \\ket{11} + a_1 \\ket{10} + a_1 \\ket{01} ) = \\frac{1}{\\sqrt{2}} ( \\ket{0} \\otimes ( a_0 \\ket{0} + a_1 \\ket{1}) + \\ket{1} \\otimes (a_0 \\ket{1} + a_1 \\ket{0}) ) $$\n",
    "  3. $$\\frac{1}{\\sqrt{2}} ( \\ket{0} \\otimes ( a_0 \\ket{0} + a_1 \\ket{1}) + \\ket{1} \\otimes (a_0 \\ket{0} + a_1 \\ket{1}) $$\n",
    "  4. Qubit $b_0$ collapses to $\\ket{0}$ with probability $\\frac{1}{2}$ and $\\ket{1}$ with the same probability. In either case, qubit $b_1$ yields $\\ket{\\varphi}$.\n",
    "\n",
    "## P4\n",
    "A multicontrolled phase gate with control qubits $b_0, b_1, b_2$ and operating on $b_3$ and a phase of $\\pi$ implements the unitary operation that transforms $\\ket{1111}$ to $-\\ket{1111}$, while leaving all the other pure states unchanged.\n",
    "\n",
    "\n",
    "\n",
    "That's All Folks!!"
   ]
  }
 ],
 "metadata": {
  "kernelspec": {
   "display_name": "Python 3 (ipykernel)",
   "language": "python",
   "name": "python3"
  },
  "language_info": {
   "codemirror_mode": {
    "name": "ipython",
    "version": 3
   },
   "file_extension": ".py",
   "mimetype": "text/x-python",
   "name": "python",
   "nbconvert_exporter": "python",
   "pygments_lexer": "ipython3",
   "version": "3.9.6"
  }
 },
 "nbformat": 4,
 "nbformat_minor": 5
}
