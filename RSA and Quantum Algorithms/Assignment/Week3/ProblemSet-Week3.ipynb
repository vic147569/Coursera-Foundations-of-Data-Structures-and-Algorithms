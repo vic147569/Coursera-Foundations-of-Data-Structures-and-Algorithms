{
 "cells": [
  {
   "cell_type": "markdown",
   "id": "adffca4d",
   "metadata": {
    "deletable": false,
    "editable": false,
    "nbgrader": {
     "cell_type": "markdown",
     "checksum": "26c753f9ca3708885a9fecabc3482d8a",
     "grade": false,
     "grade_id": "cell-8218d1d95d64ebd1",
     "locked": true,
     "schema_version": 3,
     "solution": false,
     "task": false
    }
   },
   "source": [
    "# Assigment 3 (Shor's Algorithm)\n",
    "\n",
    "In this assignment, we will work through the disparate parts of Shor's algorithm to run through the various parts of the algorithm that were not clearly explored in our lectures.\n",
    "\n",
    "\n",
    "Note that the problems build upon each other. You will have to solve a previous problem to move on to the next part.\n",
    "\n",
    "\n",
    "## Problem 1\n",
    "\n",
    "Suppose we are interested in factoring the number $77$ which we know as $11 \\times 7$ using a quantum computer and choose $a = 4$ as our number. \n",
    "\n",
    "We construct the quantum circuit that implements the function \n",
    "\n",
    "$f(j) = 10^j \\bmod 77$.\n",
    "\n",
    "(a) What is the order $r$ of $10$ modulo $77$?\n"
   ]
  },
  {
   "cell_type": "markdown",
   "id": "bd79c7b9",
   "metadata": {
    "ExecuteTime": {
     "end_time": "2024-03-14T16:57:52.137955Z",
     "start_time": "2024-03-14T16:57:52.132421Z"
    },
    "deletable": false,
    "nbgrader": {
     "cell_type": "markdown",
     "checksum": "6f2c850d5274ca920b04440cd2ebad8e",
     "grade": true,
     "grade_id": "cell-b2f0f679382ea661",
     "locked": false,
     "points": 0,
     "schema_version": 3,
     "solution": true,
     "task": false
    }
   },
   "source": [
    "YOUR ANSWER HERE\n",
    "\n",
    "6 : 1, 10, 23, 76, 67, 54"
   ]
  },
  {
   "cell_type": "markdown",
   "id": "10799778",
   "metadata": {
    "deletable": false,
    "editable": false,
    "nbgrader": {
     "cell_type": "markdown",
     "checksum": "1ec4f2d13918542b3eaaf2a86bddc528",
     "grade": false,
     "grade_id": "cell-a6b80cc04aafd0bc",
     "locked": true,
     "schema_version": 3,
     "solution": false,
     "task": false
    }
   },
   "source": [
    "(b) Find a number $a$ whose order modulo $77$ is odd? (Hint: you can do trial and error or you can start with the answer to the previous problem :-)"
   ]
  },
  {
   "cell_type": "markdown",
   "id": "193405bf",
   "metadata": {
    "deletable": false,
    "nbgrader": {
     "cell_type": "markdown",
     "checksum": "bb556de9fb8e034f617def8d1fbc79ac",
     "grade": true,
     "grade_id": "cell-c8653c7a9e747269",
     "locked": false,
     "points": 0,
     "schema_version": 3,
     "solution": true,
     "task": false
    }
   },
   "source": [
    "YOUR ANSWER HERE\n",
    "\n",
    "$10^6 \\mod 77 = 1$. Therefore, $100^3 \\mod 77 = 1$. Suppose we took $a = 100$, it will have order 3."
   ]
  },
  {
   "cell_type": "markdown",
   "id": "4c684c98",
   "metadata": {
    "deletable": false,
    "editable": false,
    "nbgrader": {
     "cell_type": "markdown",
     "checksum": "0680d1b29363cdd91b6c3dba0481c8f2",
     "grade": false,
     "grade_id": "cell-db9672748697dfd4",
     "locked": true,
     "schema_version": 3,
     "solution": false,
     "task": false
    }
   },
   "source": [
    "(c) What factor (if any) of $77$ can we extract by knowing ithe order of $10$ modulo $77$? Show the steps."
   ]
  },
  {
   "cell_type": "markdown",
   "id": "0c54491a",
   "metadata": {
    "deletable": false,
    "nbgrader": {
     "cell_type": "markdown",
     "checksum": "4c7607b640b2cc8c19fae21c301ffae2",
     "grade": true,
     "grade_id": "cell-664ddb9057e63bac",
     "locked": false,
     "points": 0,
     "schema_version": 3,
     "solution": true,
     "task": false
    }
   },
   "source": [
    "YOUR ANSWER HERE\n",
    "\n",
    "$r = 6$. Therefore, $10^{\\frac{r}{2}} \\mod 77 = 76$ and $76 + 1 \\mod 77 = 0$. Thus, we cannot extract any non-trivial factor from 77."
   ]
  },
  {
   "cell_type": "markdown",
   "id": "c3c19598",
   "metadata": {
    "deletable": false,
    "editable": false,
    "nbgrader": {
     "cell_type": "markdown",
     "checksum": "6f092cf03125e5fbdf88ddc6663a35a3",
     "grade": false,
     "grade_id": "cell-7caa1481777a7c61",
     "locked": true,
     "schema_version": 3,
     "solution": false,
     "task": false
    }
   },
   "source": [
    "(d) Repeat part (c) for $a = 12$. Find the order of $a$ modulo $77$, check if we can find any prime factors of $77$ using the information."
   ]
  },
  {
   "cell_type": "markdown",
   "id": "1b458370",
   "metadata": {
    "deletable": false,
    "nbgrader": {
     "cell_type": "markdown",
     "checksum": "53896240d5374de656088d007ccc20e6",
     "grade": true,
     "grade_id": "cell-0cfff0759a09e88f",
     "locked": false,
     "points": 0,
     "schema_version": 3,
     "solution": true,
     "task": false
    }
   },
   "source": [
    "YOUR ANSWER HERE\n",
    "\n",
    "$r = 6$. Therefore, $12^3 \\mod 77 = 34$ and $34 + 1 \\mod 77 \\ne 0$. We obtain $GCD(33, 77) = 11$"
   ]
  },
  {
   "cell_type": "markdown",
   "id": "f28ab0a0",
   "metadata": {
    "deletable": false,
    "editable": false,
    "nbgrader": {
     "cell_type": "markdown",
     "checksum": "d570bddee9f67f816ec2c94a7e8ff5ec",
     "grade": false,
     "grade_id": "cell-72ae4326895c94f6",
     "locked": true,
     "schema_version": 3,
     "solution": false,
     "task": false
    }
   },
   "source": [
    "(e) Implement a classical function to find the order of $a$ modulo $n$ where $a, n$ are inputs."
   ]
  },
  {
   "cell_type": "code",
   "execution_count": null,
   "id": "b337b35c",
   "metadata": {
    "ExecuteTime": {
     "end_time": "2024-03-14T23:13:45.659316Z",
     "start_time": "2024-03-14T23:13:45.655866Z"
    },
    "deletable": false,
    "nbgrader": {
     "cell_type": "code",
     "checksum": "f2ae2ca876098dd6e43da79b81f144eb",
     "grade": false,
     "grade_id": "cell-d90d462c0ecd1ce0",
     "locked": false,
     "schema_version": 3,
     "solution": true,
     "task": false
    }
   },
   "outputs": [],
   "source": [
    "def find_order(a, n):\n",
    "    for i in range(2, n):\n",
    "        if a ** i % n == a % n:\n",
    "            return i-1\n",
    "        \n",
    "        \n",
    "print(find_order(12, 77))"
   ]
  },
  {
   "cell_type": "markdown",
   "id": "bd2de460",
   "metadata": {
    "ExecuteTime": {
     "end_time": "2024-03-14T17:10:30.438977Z",
     "start_time": "2024-03-14T17:10:30.435259Z"
    },
    "deletable": false,
    "editable": false,
    "nbgrader": {
     "cell_type": "markdown",
     "checksum": "7c66f5c75dd9b51b49c9b24c7157aaaa",
     "grade": false,
     "grade_id": "cell-1fc1ef140542919c",
     "locked": true,
     "schema_version": 3,
     "solution": false,
     "task": false
    }
   },
   "source": [
    "(d) We claimed that if we randomly picked a number $a$ with such that  $GCD(a,n) \\not= 1$ (if $a,n$ have a non-trivial prime factor in common and we are done), then following will hold with probability at least $\\frac{1}{2}$:\n",
    "   - Order `r` of `a` modulo `n` is even, and \n",
    "   - $a^{r/2} + 1 \\bmod n \\not= 0$\n",
    "   \n",
    " \n",
    "   \n",
    "Write a function `count_hits(n)` that runs through all numbers $a$ from $2$ to $n-1$, ignoring the ones for which $GCD(a, n) \\not=  1$ (in which case we will find a factor purely by chance) and counts the number of \"hits\" wherein a hit happens for $a$ iff \n",
    " - Order of $a$ modulo $n$ is even, \n",
    " - $a^{r/2} + 1 \\bmod n \\not= 0$ where $r$ is the order of $a$ modulo $n$.\n",
    " \n",
    " \n",
    " Useful functions `gcd` and `modular_exponentiate` given below.\n",
    " "
   ]
  },
  {
   "cell_type": "code",
   "execution_count": null,
   "id": "f026b835",
   "metadata": {
    "ExecuteTime": {
     "end_time": "2024-03-14T23:13:47.853870Z",
     "start_time": "2024-03-14T23:13:47.849062Z"
    },
    "deletable": false,
    "editable": false,
    "nbgrader": {
     "cell_type": "code",
     "checksum": "c381c0d907df1649bfdeacd5ce0231b8",
     "grade": false,
     "grade_id": "cell-d7421ef738da5b2a",
     "locked": true,
     "schema_version": 3,
     "solution": false,
     "task": false
    }
   },
   "outputs": [],
   "source": [
    "def gcd(m, n):\n",
    "    (m, n) = max(m, n), min(m, n)\n",
    "    assert m > 0\n",
    "    assert n >= 0\n",
    "    while n > 0:\n",
    "        (m, n) = (n, m%n)\n",
    "    return m\n",
    "\n",
    "def modular_exponentiate(a, k, n): # a^k \\mod n\n",
    "    m = a\n",
    "    j = 0\n",
    "    res = 1\n",
    "    while k > 0:\n",
    "        if k % 2 == 1:\n",
    "            res = (res * m) % n\n",
    "        \n",
    "        m = (m * m) % n\n",
    "        j = j + 1\n",
    "        k = k // 2\n",
    "    return res\n"
   ]
  },
  {
   "cell_type": "code",
   "execution_count": null,
   "id": "0c788d7d",
   "metadata": {
    "ExecuteTime": {
     "end_time": "2024-03-14T23:13:48.605146Z",
     "start_time": "2024-03-14T23:13:48.600137Z"
    },
    "deletable": false,
    "nbgrader": {
     "cell_type": "code",
     "checksum": "2a0523c3aa27a8c9fbbc02e6ddfe54a7",
     "grade": false,
     "grade_id": "cell-49dc0eabffd34e38",
     "locked": false,
     "schema_version": 3,
     "solution": true,
     "task": false
    }
   },
   "outputs": [],
   "source": [
    "def count_hits(n):\n",
    "    count = 0\n",
    "    for a in range(2, n):\n",
    "        if gcd(a, n) != 1:\n",
    "            continue\n",
    "        \n",
    "        r = find_order(a, n)\n",
    "        if r % 2 == 0 and modular_exponentiate(a, r/2, n) != n - 1:\n",
    "            count += 1\n",
    "    \n",
    "    return count"
   ]
  },
  {
   "cell_type": "code",
   "execution_count": null,
   "id": "930145e0",
   "metadata": {
    "ExecuteTime": {
     "end_time": "2024-03-14T23:13:49.544664Z",
     "start_time": "2024-03-14T23:13:49.513723Z"
    },
    "deletable": false,
    "editable": false,
    "nbgrader": {
     "cell_type": "code",
     "checksum": "e6019053d3ca244448e921fbc5494014",
     "grade": true,
     "grade_id": "cell-96b5bde3b53db142",
     "locked": true,
     "points": 10,
     "schema_version": 3,
     "solution": false,
     "task": false
    }
   },
   "outputs": [],
   "source": [
    "h15 = count_hits(15)\n",
    "print(f'count_hits(15) = {h15}')\n",
    "assert h15 == 6 # hits for 15 are 2, 4, 7, 8, 11, 13\n",
    "# note that \\varphi(15) = 2 * 4 = 8\n",
    "print(f'Fraction of hits among relatively prime = {h15/(2*4)}')\n",
    "\n",
    "h77 = count_hits(77) # there should be 46 hits for 77\n",
    "print(f'count_hits(77) = {h77}')\n",
    "assert h77 == 30\n",
    "# note that \\varphi(77) = 6 * 10 = 60\n",
    "print(f'Fraction of hits among relatively prime = {h77/(60)}')\n",
    "\n",
    "\n",
    "h91 = count_hits(91)\n",
    "print(f'count_hits(91) = {h91}')\n",
    "assert h91 == 54\n",
    "# note \\varphi(91) = 12 * 6 = 72\n",
    "print(f'Fraction of hits among relatively prime = {h91/(72)}')\n",
    "\n",
    "h111 = count_hits(111) # there whould be 92 hits\n",
    "print(f'count_hits(111) = {h111}')\n",
    "assert h111 == 54\n",
    "# note \\varphi(111) = 36 * 2 = 72\n",
    "print(f'Fraction of hits among relatively prime = {h111/(72)}')\n",
    "\n",
    "\n",
    "h893 = count_hits(893)\n",
    "print(f'count_hits(893) = {h893}')\n",
    "assert h893 == 414\n"
   ]
  },
  {
   "cell_type": "markdown",
   "id": "8dcd355c",
   "metadata": {
    "deletable": false,
    "editable": false,
    "nbgrader": {
     "cell_type": "markdown",
     "checksum": "0988cace3a2efd102631d45a712844ee",
     "grade": false,
     "grade_id": "cell-87367b1463b4063a",
     "locked": true,
     "schema_version": 3,
     "solution": false,
     "task": false
    }
   },
   "source": [
    "Hopefully the above code will show at least empirically (if the proof given in our notes was too much for you), that a random choice of `a` has a high probability of helping us find a non-trivial factor of `n` if we can compute its order fast."
   ]
  },
  {
   "cell_type": "markdown",
   "id": "55d408e0",
   "metadata": {
    "deletable": false,
    "editable": false,
    "nbgrader": {
     "cell_type": "markdown",
     "checksum": "ce279bc4354cb42842bf670eea890e48",
     "grade": false,
     "grade_id": "cell-035f35c46ca8782f",
     "locked": true,
     "schema_version": 3,
     "solution": false,
     "task": false
    }
   },
   "source": [
    "## Problem 2\n",
    "\n",
    "$$\\renewcommand\\ket[1]{\\left| #1 \\right\\rangle}$$\n",
    "We will now explore the use of QFT to extract the order $r$.  We will skip the construction of the circuit to implement the function $f(j) = a^j \\bmod n$ for fixed $a$.\n",
    "\n",
    "\n",
    "__(A)__ Suppose $a = 2$ and $n=15$, and suppose the first measurement in Shor's algorithm yielded $f(x) = 8$. Write down the superposition for the input qubits after this measurement is performed.\n"
   ]
  },
  {
   "cell_type": "markdown",
   "id": "cc96988e",
   "metadata": {
    "deletable": false,
    "nbgrader": {
     "cell_type": "markdown",
     "checksum": "ec4b2be2b426a03585a6d72d8593a39e",
     "grade": true,
     "grade_id": "cell-343d0bc7ce642ee1",
     "locked": false,
     "points": 0,
     "schema_version": 3,
     "solution": true,
     "task": false
    }
   },
   "source": [
    "YOUR ANSWER HERE\n",
    "\n",
    "$\\psi = \\frac{1}{2}(\\ket{3} + \\ket{7} + \\ket{11} + \\ket{15})$"
   ]
  },
  {
   "cell_type": "markdown",
   "id": "39600034",
   "metadata": {
    "deletable": false,
    "editable": false,
    "nbgrader": {
     "cell_type": "markdown",
     "checksum": "0422f667a8896166c14c79e4c7a8a322",
     "grade": false,
     "grade_id": "cell-a779d89b2d60e02e",
     "locked": true,
     "schema_version": 3,
     "solution": false,
     "task": false
    }
   },
   "source": [
    "__(B)__ Write a classical function `find_possible_inputs(a, n, m, k)` that outputs a list of all numbers $x$ from $1, \\ldots, 2^m -1$  such that $a^x \\mod n = k$. The list must be output in ascending order.\n",
    "\n",
    "As an example, `find_possible_inputs(5, 21, 4)` must yield `[2, 8, 14, 20]` "
   ]
  },
  {
   "cell_type": "code",
   "execution_count": null,
   "id": "9a1f17cb",
   "metadata": {
    "ExecuteTime": {
     "end_time": "2024-03-14T23:13:53.483869Z",
     "start_time": "2024-03-14T23:13:53.479857Z"
    },
    "deletable": false,
    "nbgrader": {
     "cell_type": "code",
     "checksum": "d2968db1833fe6a87424ffb1f2e121d2",
     "grade": false,
     "grade_id": "cell-d0292ac9bc26c7e6",
     "locked": false,
     "schema_version": 3,
     "solution": true,
     "task": false
    }
   },
   "outputs": [],
   "source": [
    "def find_possible_inputs(a, n, k, m):\n",
    "    ans = []\n",
    "    \n",
    "    for i in range(1, 2**m):\n",
    "        if a ** i % n == k:\n",
    "            ans.append(i)\n",
    "    \n",
    "    return ans"
   ]
  },
  {
   "cell_type": "code",
   "execution_count": null,
   "id": "68e2260c",
   "metadata": {
    "ExecuteTime": {
     "end_time": "2024-03-14T22:24:02.614621Z",
     "start_time": "2024-03-14T22:24:02.608926Z"
    },
    "deletable": false,
    "editable": false,
    "nbgrader": {
     "cell_type": "code",
     "checksum": "5f0d6a605c8415556fae65efbc24a379",
     "grade": true,
     "grade_id": "cell-679953c9e2a92843",
     "locked": true,
     "points": 10,
     "schema_version": 3,
     "solution": false,
     "task": false
    }
   },
   "outputs": [],
   "source": [
    "lst1 = find_possible_inputs(5, 21, 4, 5)\n",
    "print('lst1 =', lst1)\n",
    "assert lst1 == [2, 8, 14, 20, 26]\n",
    "lst2 = find_possible_inputs(2, 15, 8, 4)\n",
    "print('lst2 = ', lst2)\n",
    "assert(lst2 == [3, 7, 11, 15])\n",
    "lst3 = find_possible_inputs(3, 77, 4, 7)\n",
    "print('lst3 = ', lst3)\n",
    "assert lst3 == [4, 34, 64, 94, 124]\n",
    "lst4 = find_possible_inputs(5, 91, 79, 7)\n",
    "print('lst4 = ', lst4)\n",
    "assert lst4 == [4, 16, 28, 40, 52, 64, 76, 88, 100, 112, 124]"
   ]
  },
  {
   "cell_type": "markdown",
   "id": "728280a3",
   "metadata": {
    "ExecuteTime": {
     "end_time": "2024-03-14T22:23:31.780978Z",
     "start_time": "2024-03-14T22:23:31.776700Z"
    },
    "deletable": false,
    "editable": false,
    "nbgrader": {
     "cell_type": "markdown",
     "checksum": "f4120be6eaf634d2bc0c265f7a541f19",
     "grade": false,
     "grade_id": "cell-4574dc9858663855",
     "locked": true,
     "schema_version": 3,
     "solution": false,
     "task": false
    }
   },
   "source": [
    "__(C)__ We will now test the QFT circuit we have implemented in the notes for the specific case of \n",
    "$n = 91$ (which we know factors into $13 \\times 7$) for $a = 5$ and measurement of the output $k = 79$.\n",
    "The seven qubit quantum superposition obtained will be \n",
    "$$\\ket{\\psi} = \\frac{1}{\\sqrt{11}} \\left( \\ket{4} + \\ket{16} + \\ket{28} + \\ket{40} + \\ket{52} + \\ket{64} + \\ket{76} + \\ket{88} + \\ket{100} + \\ket{112} + \\ket{124} \\right)$$\n",
    "\n",
    "We will run 7-bit QFT on circuit but force it to be initialized to $\\ket{\\psi}$. Run the function `implement_seven_qubit_QFT(qc, b)`:\n",
    "\n",
    "Implement a $7$ qubit QFT circuit in QISKIT. We have provided an instance `qc` of `QuantumCircuit` as input and a seven bit register `b` wherein `b[0]` represents the least significant bit and `b[6]` the most significant bit. Feel free to reuse code from our notes or use the one provided by QISKIT (read the manual)."
   ]
  },
  {
   "cell_type": "code",
   "execution_count": null,
   "id": "ce346dfe",
   "metadata": {
    "ExecuteTime": {
     "end_time": "2024-03-14T22:38:23.863195Z",
     "start_time": "2024-03-14T22:38:23.856108Z"
    },
    "deletable": false,
    "nbgrader": {
     "cell_type": "code",
     "checksum": "749365d8fbbf7285a25c7fd4f23bf800",
     "grade": false,
     "grade_id": "cell-846aeba0c63ccdec",
     "locked": false,
     "schema_version": 3,
     "solution": true,
     "task": false
    }
   },
   "outputs": [],
   "source": [
    "from qiskit import QuantumCircuit, QuantumRegister\n",
    "from numpy import pi\n",
    "def implement_seven_qubit_QFT(qc, b):\n",
    "    # assert len(b) == 7\n",
    "    # assume b is a seven qubit quantum register as an input\n",
    "    \n",
    "    m = len(b)\n",
    "    if m == 1:\n",
    "        qc.h(b[0])\n",
    "        qc.barrier(b, label=f\"QFT_{m}\")\n",
    "    else:\n",
    "        implement_seven_qubit_QFT(qc, b[1:m])\n",
    "        for j in range(2, m + 1):\n",
    "            i = (m - 1) - (m - j)\n",
    "            qc.cp(2 * pi / (2 ** j), b[i], b[0])\n",
    "        qc.h(b[0])\n",
    "        qc.barrier(b, label=f\"QFT_{m}\")\n"
   ]
  },
  {
   "cell_type": "markdown",
   "id": "1a4a2abd",
   "metadata": {
    "deletable": false,
    "editable": false,
    "nbgrader": {
     "cell_type": "markdown",
     "checksum": "2a8d5048b9145d69573a3fa08c27c7f6",
     "grade": false,
     "grade_id": "cell-82b01989bae1f723",
     "locked": true,
     "schema_version": 3,
     "solution": false,
     "task": false
    }
   },
   "source": [
    "We are going to initialize $7$ qubits to the special state :\n",
    "\n",
    "$$\\ket{\\psi} = \\frac{1}{\\sqrt{11}} \\left( \\ket{4} + \\ket{16} + \\ket{28} + \\ket{40} + \\ket{52} + \\ket{64} + \\ket{76} + \\ket{88} + \\ket{100} + \\ket{112} + \\ket{124} \\right)$$\n",
    "\n",
    "(measured $k = 4$ for $a=5$ and $n=91$ using  $7$ qubits), \n",
    "\n",
    "We will run QFT using your code and measure the outputs.\n",
    "\n",
    "- Let $\\mathsf{meas}$ be a measured output from the circuit.\n",
    "- We will verify that _with high probability_ the measured output from the circuit is close to an integer multiple of $\\frac{2^m}{r}$. In other words, $\\mathsf{meas} \\times \\frac{r}{2^m}$ is very close to a whole number."
   ]
  },
  {
   "cell_type": "code",
   "execution_count": null,
   "id": "260169ba",
   "metadata": {
    "ExecuteTime": {
     "end_time": "2024-03-14T23:07:41.934197Z",
     "start_time": "2024-03-14T23:07:40.537035Z"
    },
    "deletable": false,
    "editable": false,
    "nbgrader": {
     "cell_type": "code",
     "checksum": "62553876088c955571749b5b3220129a",
     "grade": true,
     "grade_id": "cell-c27bd4d69edfeb2b",
     "locked": true,
     "points": 10,
     "schema_version": 3,
     "solution": false,
     "task": false
    }
   },
   "outputs": [],
   "source": [
    "from qiskit import QuantumCircuit, ClassicalRegister, QuantumRegister, transpile\n",
    "from qiskit_aer import Aer\n",
    "from numpy import pi, sqrt\n",
    "from qiskit.visualization import plot_histogram\n",
    "\n",
    "b = QuantumRegister(7, 'b')\n",
    "m_out = ClassicalRegister(7, 'm')\n",
    "qc = QuantumCircuit(b, m_out)\n",
    "lst = [4, 16, 28, 40, 52, 64, 76, 88, 100, 112, 124]\n",
    "c = 1.0/sqrt(len(lst))\n",
    "state_vector = [c if i in lst else 0.0 for i in range(128)]\n",
    "print('initial super position is : ', state_vector)\n",
    "qc.initialize(state_vector, b)\n",
    "implement_seven_qubit_QFT(qc, b)\n",
    "qc.measure(b, m_out)\n",
    "display(qc.draw('mpl', style='iqp'))\n",
    "# Let's run this circuit and see what we get \n",
    "simulator = Aer.get_backend('aer_simulator')\n",
    "circ = transpile(qc, simulator)\n",
    "result = simulator.run(circ).result()\n",
    "counts = result.get_counts(circ)\n",
    "display(plot_histogram(counts, title='result counts (1024 simulations)'))\n",
    "res_list=[(0,0) ]*1024\n",
    "#print(counts)\n",
    "for (k, v) in counts.items():\n",
    "    j = int(k, 2)\n",
    "    res_list[j] = (v/1024, j)\n",
    "res_list.sort(reverse=True)\n",
    "sum = 0.0\n",
    "j = 0\n",
    "print(' Measurements obtained 75% of the time.')\n",
    "while sum <= 0.75:\n",
    "    sum = sum + res_list[j][0]\n",
    "    print(f'\\t Measurement {res_list[j][1]} is obtained with probability {res_list[j][0]}')\n",
    "    meas = res_list[j][1]\n",
    "    # test that meas * r/2^m is very close to an integer. Here we know r = 12 (secretly) and m = 7 qubits\n",
    "    print(f'\\t\\t {meas} * 12/2^7 = {meas * 12/2**7}')\n",
    "    j = j + 1"
   ]
  },
  {
   "cell_type": "markdown",
   "id": "7206c61c",
   "metadata": {
    "ExecuteTime": {
     "end_time": "2024-03-14T22:53:35.345045Z",
     "start_time": "2024-03-14T22:53:35.340822Z"
    },
    "deletable": false,
    "editable": false,
    "nbgrader": {
     "cell_type": "markdown",
     "checksum": "c51d135759943308b41e3fc052afb154",
     "grade": false,
     "grade_id": "cell-74dcbd37b07375c7",
     "locked": true,
     "schema_version": 3,
     "solution": false,
     "task": false
    }
   },
   "source": [
    "Observe that at least 80\\% of the time,  every measurement $\\mathsf{meas}$ we obtain from the QFT circuit satisfies the constraint \n",
    "\n",
    "$$ \\mathsf{meas} \\times \\frac{r}{2^m}  \\ \\ \\mathsf{is\\ very\\ close\\ to\\ a\\ whole\\ number} $$"
   ]
  },
  {
   "cell_type": "markdown",
   "id": "5424d84b",
   "metadata": {
    "deletable": false,
    "editable": false,
    "nbgrader": {
     "cell_type": "markdown",
     "checksum": "e40cb992e62a2694deb0a0baefd06cfd",
     "grade": false,
     "grade_id": "cell-892fe2370027ec18",
     "locked": true,
     "schema_version": 3,
     "solution": false,
     "task": false
    }
   },
   "source": [
    "# Problem 3\n",
    "\n",
    "In this problem, we will explore the continued fraction method to extract the possible order $r$ of $a$ from a measurement $\\mathsf{meas}$. We know with high probability, that \n",
    "\n",
    "$$\\frac{\\mathsf{meas}}{2^m} \\approx \\frac{j}{r} $$ \n",
    "for some natural number $j$ and the order $r$ that we are seeking.\n",
    "\n",
    "In general, $\\frac{\\mathsf{meas}}{2^m}$ is a decimal number between $[0, 1]$. We will use a very important technique called _continued fraction_ approximation to obtain possible valued of $\\frac{j}{r}$.\n",
    "\n",
    "## Continued Fractions\n",
    "\n",
    "A continued fraction is a number of the form \n",
    "\n",
    "$$\\frac{ 1}{a_0 + \\frac{1}{a_1 + \\frac{1}{a_2 + \\frac{1}{\\ddots + \\frac{1}{a_{n-1}} }}}}$$\n",
    "\n",
    "wherein $a_0, a_1, a_2, \\cdots, a_{n-1}$ are natural numbers $\\geq 1$.\n",
    "\n",
    "As an example, for $n=3$ with $a_0 = 1, a_1 = 2, a_2 = 2$, the continued fraction is \n",
    "\n",
    "$$ \\frac{1}{1+ \\frac{1}{2 + \\frac{1}{2}}}  = \\frac{5}{7}$$\n",
    "\n",
    "### Part A \n",
    "Write a function `get_continued_fraction(lst)` which given a list of numbers $[a_0, \\ldots, a_{n-1}]$\n",
    "computes the continued fraction:\n",
    "\n",
    "$$\\frac{ 1}{a_0 + \\frac{1}{a_1 + \\frac{1}{a_2 + \\frac{1}{\\ddots + \\frac{1}{a_{n-1}} }}}}$$\n",
    "\n",
    "Your function should return a pair of integers $(a,b)$ where $b \\not= 0$.\n",
    "\n",
    "For example: `get_continued_fraction([1, 2, 2])` should return `(5,7)`"
   ]
  },
  {
   "cell_type": "code",
   "execution_count": null,
   "id": "a87c8787",
   "metadata": {
    "ExecuteTime": {
     "end_time": "2024-03-15T03:15:09.416819Z",
     "start_time": "2024-03-15T03:15:09.412525Z"
    },
    "deletable": false,
    "nbgrader": {
     "cell_type": "code",
     "checksum": "1d989b4e7b48b3da5ae966301a75d93e",
     "grade": false,
     "grade_id": "cell-2f68be9def079131",
     "locked": false,
     "schema_version": 3,
     "solution": true,
     "task": false
    }
   },
   "outputs": [],
   "source": [
    "def get_continued_fraction(lst):\n",
    "    assert len(lst) >= 1\n",
    "    a, b = 1, lst[-1]\n",
    "    \n",
    "    for i in range(len(lst) - 2, -1, -1):\n",
    "\n",
    "        tmp = b\n",
    "        b = lst[i] * b + a\n",
    "        a = tmp\n",
    "        \n",
    "    return (a, b)"
   ]
  },
  {
   "cell_type": "code",
   "execution_count": null,
   "id": "e23c165b",
   "metadata": {
    "ExecuteTime": {
     "end_time": "2024-03-15T03:18:44.248858Z",
     "start_time": "2024-03-15T03:18:44.243106Z"
    },
    "deletable": false,
    "editable": false,
    "nbgrader": {
     "cell_type": "code",
     "checksum": "77002e012d723924b4353734e6b2b1b1",
     "grade": true,
     "grade_id": "cell-d795761004cc1f64",
     "locked": true,
     "points": 5,
     "schema_version": 3,
     "solution": false,
     "task": false
    }
   },
   "outputs": [],
   "source": [
    "(n4, d4) = get_continued_fraction([5])\n",
    "print(f'Test # 0: {n4}/{d4}')\n",
    "assert n4 == 1 and d4 == 5\n",
    "\n",
    "(n1, d1) =  get_continued_fraction([1,2,2])\n",
    "print(f'Test # 1: {n1}/{d1}')\n",
    "assert n1 == 5 and d1 == 7\n",
    "\n",
    "(n2, d2) = get_continued_fraction([1, 2, 1, 2, 1])\n",
    "print(f'Test # 2: {n2}/{d2}')\n",
    "assert n2 == 11 and d2 == 15\n",
    "\n",
    "(n3, d3) = get_continued_fraction([1,1,1,1,1,1])\n",
    "print(f'Test # 3: {n3}/{d3}')\n",
    "assert n3 == 8 and d3 == 13\n"
   ]
  },
  {
   "cell_type": "markdown",
   "id": "bc1fc18a",
   "metadata": {
    "deletable": false,
    "editable": false,
    "nbgrader": {
     "cell_type": "markdown",
     "checksum": "78f95da0e6953c96157ce8187e56b264",
     "grade": false,
     "grade_id": "cell-324decf9c8e8e321",
     "locked": true,
     "schema_version": 3,
     "solution": false,
     "task": false
    }
   },
   "source": [
    "### Part B\n",
    "\n",
    "Now our goal is to compute a continued fraction representation for a fraction $\\frac{a}{b}$ where \n",
    "$0 < a < b$. In other words, find numbers $a_0, a_1, a_2, \\ldots, a_{n-1}$ such that \n",
    "\n",
    "$$\\frac{a}{b} = \\mathsf{ContinuedFraction}([a_0, \\ldots, a_{n-1}]) = \\frac{1}{a_0 + \\frac{1}{a_1 + \\frac{1}{\\ddots + \\frac{1}{a_{n-1}}}}}$$\n",
    "\n",
    "We wish to write  $\\frac{a}{b} = \\frac{1}{a_0 + \\epsilon}$, wherein $a_0$ is a natural number and $0 \\leq \\epsilon < 1$ is the \"residue\".\n",
    "\n",
    "Therefore, $a_0 + \\epsilon = \\frac{b}{a}$, $a_0 = \\left\\lfloor \\frac{b}{a} \\right\\rfloor$ (the quotient when $b$ is divided by $a$).\n",
    "$$\\epsilon = \\frac{b}{a} - a_0 = \\frac{b - a a_0} {a} = \\frac{b \\bmod a}{a} $$\n",
    "\n",
    "If $\\epsilon \\not= 0$, we will _recursively_ convert $\\epsilon = \\frac{b \\mod a}{a}$ into a continued fraction.\n",
    "The new value of \"$a$\" is $b \\bmod a$ and the new value of \"$b$\" is the old value of $a$ (notice the strange similarity to Euclid's algorithm?).\n",
    "\n",
    "Suppose we get $\\epsilon = \\mathsf{ContinuedFraction}([a_1, \\ldots, a_{n-1}])$ then $\\frac{a}{b} = \\mathsf{ContinuedFraction}[a_0, a_1, \\ldots, a_{n-1}]$.\n",
    " \n",
    "#### Example \n",
    "\n",
    "Let us illustrate the process through an example using $\\frac{2}{3}$ with $a = 2$ and $b= 3$.\n",
    "\n",
    "$$ \\frac{2}{3} = \\frac{1}{a_0 + \\epsilon} $$\n",
    "\n",
    "We get $a_0 + \\epsilon = \\frac{3}{2}$. Therefore, $a_0 = 1$ and $\\epsilon = \\frac{1}{2}$.\n",
    "\n",
    "We recursively, convert $\\frac{1}{2}$ into a continued fraction.\n",
    "\n",
    "We have $\\frac{1}{2} = \\frac{1}{a_1 + \\epsilon_1}$. We get $a_1 + \\epsilon_1 = 2$. Therefore, $a_1 = 2$ and\n",
    "$\\epsilon_1 = 0$.\n",
    "\n",
    "We stop when $\\epsilon_1 = 0$. We have $\\frac{2}{3} = \\frac{1}{1 + \\frac{1}{2}}$.\n",
    "\n",
    "Write a function `make_continued_fraction(a, b)` given numerator `a` and denominator `b`  wherein \n",
    "$ 0 < a \\leq b$ that returns a list $[a_0, \\ldots, a_{n-1}]$ corresponding to the continued fraction representation of $\\frac{a}{b}$."
   ]
  },
  {
   "cell_type": "code",
   "execution_count": null,
   "id": "082fce0e",
   "metadata": {
    "ExecuteTime": {
     "end_time": "2024-03-15T03:37:14.721446Z",
     "start_time": "2024-03-15T03:37:14.717665Z"
    },
    "deletable": false,
    "nbgrader": {
     "cell_type": "code",
     "checksum": "ed51c47be647d8fc2d4afb5c1bac7050",
     "grade": false,
     "grade_id": "cell-72896fd06b22176a",
     "locked": false,
     "schema_version": 3,
     "solution": true,
     "task": false
    }
   },
   "outputs": [],
   "source": [
    "def make_continued_fraction(a, b):\n",
    "    assert a > 0\n",
    "    assert a <= b\n",
    "    ans = []    \n",
    "    while a >= 1:\n",
    "        ans.append(b // a)        \n",
    "        tmp = a\n",
    "        a = b % a\n",
    "        b = tmp\n",
    "    \n",
    "    return ans"
   ]
  },
  {
   "cell_type": "code",
   "execution_count": null,
   "id": "05be27ec",
   "metadata": {
    "ExecuteTime": {
     "end_time": "2024-03-15T03:47:32.210039Z",
     "start_time": "2024-03-15T03:47:32.204393Z"
    },
    "deletable": false,
    "editable": false,
    "nbgrader": {
     "cell_type": "code",
     "checksum": "6d78f89868bae619948fe0c624441523",
     "grade": true,
     "grade_id": "cell-af294b65edb18d20",
     "locked": true,
     "points": 10,
     "schema_version": 3,
     "solution": false,
     "task": false
    }
   },
   "outputs": [],
   "source": [
    "f1 = make_continued_fraction(197, 1024) \n",
    "print(f'197/1024 = ContinuedFraction({f1})')\n",
    "assert f1 == [5, 5, 19, 2]\n",
    "\n",
    "f2 = make_continued_fraction(64, 128) \n",
    "print(f'64/128 = ContinuedFraction({f2})')\n",
    "assert f2 == [2]\n",
    "\n",
    "f3 = make_continued_fraction(1, 1) \n",
    "print(f'1/1 = ContinuedFraction({f3})')\n",
    "assert f3 == [1]\n",
    "\n",
    "f4 = make_continued_fraction(314157,1000000)\n",
    "print(f'314157/1000000 = ContinuedFraction({f4})')\n",
    "assert f4 == [3, 5, 2, 5, 1, 7, 1, 2, 3, 2, 1, 15]"
   ]
  },
  {
   "cell_type": "markdown",
   "id": "9cb57a2b",
   "metadata": {
    "deletable": false,
    "editable": false,
    "nbgrader": {
     "cell_type": "markdown",
     "checksum": "160ba0d52da36650afb62d3bcdf4e9ca",
     "grade": false,
     "grade_id": "cell-168315dbb5077fc0",
     "locked": true,
     "schema_version": 3,
     "solution": false,
     "task": false
    }
   },
   "source": [
    "### Part C \n",
    "\n",
    "Continued Fraction approximation works as follows. Suppose\n",
    "\n",
    "$$\\frac{a}{b} = \\mathsf{ContinuedFraction}([a_0, \\ldots, a_{n-1}])$$\n",
    "\n",
    "We can approximate $\\frac{a}{b}$ by a series of fractions given by \n",
    "  - $\\mathsf{ContinuedFraction}([a_0])$\n",
    "  - $\\mathsf{ContinuedFraction}([a_0,a_1])$\n",
    "  - $\\mathsf{ContinuedFraction}([a_0, a_1, a_2])$\n",
    "  - $\\cdots$\n",
    "  - $\\mathsf{ContinuedFraction}([a_0, a_1, a_2, \\ldots, a_{n-1}])$ which just yields back the original fraction.\n",
    "\n",
    "\n",
    "We can apply this to Shor's algorithm to recover the order $r$ from a measurement $\\mathsf{meas}$. We wanted to approximate $\\frac{\\mathsf{meas}}{2^m} \\approx \\frac{j}{r}$ from which the denominator $r$ is a possible candidate for the \n",
    "order of $a$. We can always test it quite easily by computing $a^r \\bmod n$ using modular exponentiation and checking if it equals $1$.\n",
    "   - Compute a continued fraction of $\\frac{\\mathsf{meas}}{2^m} = \\mathsf{ContinuedFraction}([a_0, \\ldots, a_{n-1}])$\n",
    "   - Calculate the successive approximations in terms of fractions as described above. Run $i$ from $0$ to $n-1$.\n",
    "      - $ \\mathsf{ContinuedFraction}([a_0, \\ldots, a_{i}]) = \\frac{j'}{r'} = \\frac{2j'}{2r'} = \\frac{3j'}{3r'} $. \n",
    "      - Test to check if they satisfy $a^{r'} \\bmod n = 1$, $a^{2r'} \\bmod n = 1$ or $a^{3r'} \\bmod n = 1$. If yes, return the order.\n",
    "      - Although, we can keep going with $4r', 5r'$ and so on but as a heuristic, we will stop at $3r'$.\n",
    "   - If no order found, declare failure.\n",
    "   \n",
    "Write a function `extract_order(meas, m, a, n)` given a measurement `meas`, number of qubits `m`, a number `a` that is relatively prime to `n`.  The function return the order `r` if found using the successive approximation described above. If you cannot find the order, return `None`.\n",
    "\n",
    "A modular_exponentiation function is given to you."
   ]
  },
  {
   "cell_type": "code",
   "execution_count": null,
   "id": "45c0d1eb",
   "metadata": {
    "ExecuteTime": {
     "end_time": "2024-03-15T04:15:51.676558Z",
     "start_time": "2024-03-15T04:15:51.672865Z"
    },
    "deletable": false,
    "editable": false,
    "nbgrader": {
     "cell_type": "code",
     "checksum": "d0f03363c69888bf915d4a453a76ff1c",
     "grade": false,
     "grade_id": "cell-7df2bd9932fb0a72",
     "locked": true,
     "schema_version": 3,
     "solution": false,
     "task": false
    }
   },
   "outputs": [],
   "source": [
    "def modular_exponentiate(a, k, n): # a^k \\mod n\n",
    "    mu = a\n",
    "    res = 1\n",
    "    while k > 0:\n",
    "        if k % 2 == 1:\n",
    "            res = (res * mu) % n   \n",
    "        mu = (mu * mu) % n\n",
    "        k = k // 2\n",
    "        \n",
    "    return res"
   ]
  },
  {
   "cell_type": "code",
   "execution_count": null,
   "id": "87e2b991",
   "metadata": {
    "ExecuteTime": {
     "end_time": "2024-03-15T04:30:18.572116Z",
     "start_time": "2024-03-15T04:30:18.566469Z"
    },
    "deletable": false,
    "nbgrader": {
     "cell_type": "code",
     "checksum": "4f62f92f663e1c91ca3d43089ad3f7f3",
     "grade": false,
     "grade_id": "cell-fc24a3900e26ef75",
     "locked": false,
     "schema_version": 3,
     "solution": true,
     "task": false
    }
   },
   "outputs": [],
   "source": [
    "def extract_order(meas, m, a, n):  \n",
    "    cf_lst = make_continued_fraction(meas, 2 ** m)\n",
    "    \n",
    "    for i in range(len(cf_lst)):\n",
    "        _, r = get_continued_fraction(cf_lst[0:i+1])\n",
    "        \n",
    "        for i in range(1, 4):\n",
    "            if modular_exponentiate(a, i * r, n) == 1:\n",
    "                return i * r\n",
    "\n",
    "    return None    "
   ]
  },
  {
   "cell_type": "code",
   "execution_count": null,
   "id": "ced48501",
   "metadata": {
    "ExecuteTime": {
     "end_time": "2024-03-15T04:28:47.962628Z",
     "start_time": "2024-03-15T04:28:47.957245Z"
    },
    "deletable": false,
    "editable": false,
    "nbgrader": {
     "cell_type": "code",
     "checksum": "2629f079900799e359c27656a2a9b410",
     "grade": true,
     "grade_id": "cell-da0eca7207e6acf4",
     "locked": true,
     "points": 5,
     "schema_version": 3,
     "solution": false,
     "task": false
    }
   },
   "outputs": [],
   "source": [
    "r1 = extract_order(75, 7, 5, 91)\n",
    "assert r1 == 12\n",
    "\n",
    "r2 = extract_order(53, 7, 5, 91)\n",
    "assert r2 == 12\n",
    "\n",
    "r3 = extract_order(96, 7, 5, 91)\n",
    "assert r3 == 12\n",
    "\n",
    "r4 = extract_order(32, 7, 5, 91)\n",
    "assert r4 == 12\n",
    "\n",
    "r5 = extract_order(64, 7, 5, 91)\n",
    "assert r5 == None\n",
    "\n",
    "r6 = extract_order(11, 7, 5, 91)\n",
    "assert r6 == 12\n"
   ]
  },
  {
   "cell_type": "markdown",
   "id": "f178f001",
   "metadata": {
    "deletable": false,
    "editable": false,
    "nbgrader": {
     "cell_type": "markdown",
     "checksum": "5547d2cbb419b78018cf92d83f92c810",
     "grade": false,
     "grade_id": "cell-c201d0f646e3ca46",
     "locked": true,
     "schema_version": 3,
     "solution": false,
     "task": false
    }
   },
   "source": [
    "Notice that most of the measurements help us recover the order $r$. We can make the guarantees of this process more formal using ideas from the area of Diophantine approximation but this is beyond the scope of this class."
   ]
  },
  {
   "cell_type": "markdown",
   "id": "f4c7b2c4",
   "metadata": {
    "deletable": false,
    "editable": false,
    "nbgrader": {
     "cell_type": "markdown",
     "checksum": "df4b33e2725bb049ac8f8b3889809233",
     "grade": false,
     "grade_id": "cell-ce73d5941b88f7da",
     "locked": true,
     "schema_version": 3,
     "solution": false,
     "task": false
    }
   },
   "source": [
    "### Solutions to Selected Manual Answer Problems.\n",
    "\n",
    "### Problem 1\n",
    "\n",
    "(A) 6\n",
    "\n",
    "(B) Note that $10^6 \\mod 77 = 1$. Therefore $100^3 \\mod 77 = 1$. Suppose we took $a = 100 \\mod 77 = 23$, it will have order $3$.\n",
    "\n",
    "(C) We will have $10^3 \\mod 77 = 76$. Unfortunately, $76 + 1 \\bmod 77 = 0$. We will not be able to extract any non-trivial factor of $77$.\n",
    "\n",
    "(D)Order of $a$ modulo $77$ is $6$. We have $12^3 \\mod 77 = 34$. We obtain $GCD(33, 77) = 11$. \n",
    "\n",
    "### Problem 2\n",
    "\n",
    "(A) $\\ket{\\psi} = \\frac{1}{2} \\left( \\ket{3} + \\ket{7} + \\ket{11} + \\ket{15} \\right)$"
   ]
  }
 ],
 "metadata": {
  "kernelspec": {
   "display_name": "Python 3 (ipykernel)",
   "language": "python",
   "name": "python3"
  },
  "language_info": {
   "codemirror_mode": {
    "name": "ipython",
    "version": 3
   },
   "file_extension": ".py",
   "mimetype": "text/x-python",
   "name": "python",
   "nbconvert_exporter": "python",
   "pygments_lexer": "ipython3",
   "version": "3.9.6"
  }
 },
 "nbformat": 4,
 "nbformat_minor": 5
}
